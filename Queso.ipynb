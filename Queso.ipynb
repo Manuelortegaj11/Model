{
 "cells": [
  {
   "cell_type": "markdown",
   "metadata": {},
   "source": [
    "# Modelo de Optimización para la Demanda de Queso Costeño"
   ]
  },
  {
   "cell_type": "markdown",
   "metadata": {},
   "source": [
    "El modelo de optimización presentado está diseñado para gestionar la demanda de queso costeño a través de una plataforma de marketing, utilizando múltiples centros de acopio. El objetivo principal es minimizar los costos asociados con el cumplimiento de la demanda del cliente, considerando los costos de transporte, tiempos de alistamiento y producción potencial en los centros de acopio.\n",
    "\n",
    "**Variables del Problema**\n",
    "\n",
    "**N**: Número de centros de acopio.\n",
    "\n",
    "**CAi**: Identificador del centro de acopio i para i=0…N donde i≠p. Estos centros de acopio complementan las unidades de producto de la demanda que el centro de acopio principal no tiene disponibles. Los centros de acopio **CAi** despachan hacia el centro de acopio principal.\n",
    "\n",
    "**CAp**: Identificador del centro de acopio principal p (**p**∈[0,N] y **p**≠i). Este centro de acopio atiende directamente al cliente y es responsable de enviar la demanda completa al cliente.\n",
    "\n",
    "**K(CAi)**: Cantidad del producto que se despacha desde el centro de acopio **CAi**, incluyendo unidades en stock y unidades potenciales que pueden estar listas en poco tiempo.\n",
    "\n",
    "**Precio(CAi)**: Precio por kilo del producto despachado desde el centro de acopio **CAi**.\n",
    "\n",
    "**cTransp(CAi)**: Costo del transporte del pedido desde el centro de acopio **CAi** a su destino.\n",
    "\n",
    "**TiempoAlistam(CAi)**: Tiempo en horas para alistar el pedido desde el centro de acopio **CAi** a su destino.\n",
    "\n",
    "**TiempoMaxDefinido**: Tiempo máximo definido para considerar la producción potencial.\n",
    "\n",
    "**TiempoTransp(CAi)**: Tiempo de transporte desde el centro de acopio **CAi** a su destino.\n",
    "\n",
    "**Tiempo(CAi)**: Tiempo total en horas para que el pedido llegue desde el centro de acopio **CAi** a su destino, sumando el tiempo de alistamiento y el tiempo de transporte.\n",
    "\n",
    "**cTiempo**: Costo adicional por cada unidad de tiempo contemplado en la variable **Tiempo(CAi)**.\n",
    "\n",
    "**Demanda**: Cantidad de producto solicitada por el cliente.\n",
    "\n",
    "**Stock(CAi)**: Stock del producto en el centro de acopio **CAi**.\n",
    "\n",
    "**Ppotencial(CAi)**: Cantidad de producto que potencialmente puede estar disponible en poco tiempo (potencial del día)."
   ]
  },
  {
   "cell_type": "markdown",
   "metadata": {},
   "source": [
    "*Código desarrollado para la resolución del problema*"
   ]
  },
  {
   "cell_type": "markdown",
   "metadata": {},
   "source": [
    "# IMPORTACIONES"
   ]
  },
  {
   "cell_type": "code",
   "execution_count": 1429,
   "metadata": {},
   "outputs": [],
   "source": [
    "from pyomo.environ import *\n",
    "import pyomo.environ as pyo\n",
    "import matplotlib.pyplot as plt\n",
    "import pandas as pd\n",
    "import seaborn as sns\n",
    "from tabulate import tabulate\n",
    "from prettytable import PrettyTable\n",
    "import openpyxl"
   ]
  },
  {
   "cell_type": "markdown",
   "metadata": {},
   "source": [
    "# ENTRADA DE DATOS"
   ]
  },
  {
   "cell_type": "markdown",
   "metadata": {},
   "source": [
    "**demanda**: Cantidad de producto de acuerdo con la categoría del pedido a satisfacer.\n",
    "\n",
    "**costo_transporte**: Costo por unidad de tiempo de espera para satisfacer la demanda.\n",
    "\n",
    "**id**: Identificadores de Centro de Acopio (CAi).\n",
    "\n",
    "**kg**: Stock del Producto en el Centro de Acopio (Stock(CAi)).\n",
    "\n",
    "**produccion_potencial**: (Ppotencial(CAi)).\n",
    "\n",
    "**costos_transporte**: (cTransp(CAi)).\n",
    "\n",
    "**precio**: Precio del Producto por Kilo (Precio(CAi)).\n",
    "\n",
    "**tiempos_transporte**:Tiempos de Transporte (TiempoTransp(CAi)).\n",
    "\n",
    "**tiempo_alistamiento**:Tiempos de Alistamiento (TiempoAlistam(CAi))."
   ]
  },
  {
   "cell_type": "code",
   "execution_count": 1430,
   "metadata": {},
   "outputs": [],
   "source": [
    "centros_acopio_df = pd.read_excel('data/centros_acopio.xlsx')\n",
    "tiempos_transporte_df = pd.read_excel('data/tiempos_transporte.xlsx')\n",
    "costo_transporte_df = pd.read_excel('data/costo_transporte.xlsx')"
   ]
  },
  {
   "cell_type": "markdown",
   "metadata": {},
   "source": [
    "# CREACIÓN DEL MODELO"
   ]
  },
  {
   "cell_type": "code",
   "execution_count": 1431,
   "metadata": {},
   "outputs": [],
   "source": [
    "model = pyo.ConcreteModel()"
   ]
  },
  {
   "cell_type": "markdown",
   "metadata": {},
   "source": [
    "# CONJUNTOS"
   ]
  },
  {
   "cell_type": "code",
   "execution_count": 1432,
   "metadata": {},
   "outputs": [],
   "source": [
    "num_centros = len(centros_acopio_df)\n",
    "model.I = pyo.RangeSet(0, num_centros - 1)"
   ]
  },
  {
   "cell_type": "markdown",
   "metadata": {},
   "source": [
    "# PARAMETROS"
   ]
  },
  {
   "cell_type": "code",
   "execution_count": 1433,
   "metadata": {},
   "outputs": [],
   "source": [
    "model.demanda = pyo.Param(initialize=60)\n",
    "model.costo_tiempo = pyo.Param(initialize=100, mutable=True)\n",
    "model.Stock = pyo.Param(model.I, initialize={i: centros_acopio_df.iloc[i]['Stock'] for i in model.I})\n",
    "model.Ppotencial = pyo.Param(model.I, initialize={i: centros_acopio_df.iloc[i]['Ppotencial'] for i in model.I})\n",
    "model.Precio = pyo.Param(model.I, initialize={i: centros_acopio_df.iloc[i]['Precio'] for i in model.I})\n",
    "model.CTranspCli = pyo.Param(model.I, initialize={i: centros_acopio_df.iloc[i]['CtranspCli'] for i in model.I})\n",
    "model.TiempoTranspCli = pyo.Param(model.I, initialize={i: centros_acopio_df.iloc[i]['TiempoTranspCli'] for i in model.I})\n",
    "model.TiempoAlistam = pyo.Param(model.I, initialize={i: centros_acopio_df.iloc[i]['TiempoAlistam'] for i in model.I})\n",
    "model.costos_transporte = pyo.Param(model.I, model.I, initialize={(i, j): costo_transporte_df.iloc[i, j+1] for i in model.I for j in model.I})\n",
    "model.tiempos_transporte = pyo.Param(model.I, model.I, initialize={(i, j): tiempos_transporte_df.iloc[i, j+1] for i in model.I for j in model.I})\n",
    "model.tiempo_maximo_definido = pyo.Param(initialize=360)"
   ]
  },
  {
   "cell_type": "markdown",
   "metadata": {},
   "source": [
    "# SELECCIÓN DEL CENTRO DE ACOPIO PRINCIPAL"
   ]
  },
  {
   "cell_type": "markdown",
   "metadata": {},
   "source": [
    "Selección automática del centro principal basado en el costo más bajo"
   ]
  },
  {
   "cell_type": "code",
   "execution_count": 1434,
   "metadata": {},
   "outputs": [],
   "source": [
    "centro_principal_id = min(model.I, key=lambda i: model.CTranspCli[i])\n",
    "model.CentroPrincipal = pyo.Param(initialize=centro_principal_id)"
   ]
  },
  {
   "cell_type": "markdown",
   "metadata": {},
   "source": [
    "# VARIABLES"
   ]
  },
  {
   "cell_type": "code",
   "execution_count": 1435,
   "metadata": {},
   "outputs": [],
   "source": [
    "model.X = pyo.Var(model.I, within=pyo.NonNegativeReals) # Cantidad despachada desde cada centro\n",
    "model.Y = pyo.Var(model.I, model.I, within=pyo.NonNegativeReals) # Cantidad transportada entre centros"
   ]
  },
  {
   "cell_type": "markdown",
   "metadata": {},
   "source": [
    "# FUNCIÓN OBJETIVO"
   ]
  },
  {
   "cell_type": "markdown",
   "metadata": {},
   "source": [
    "\\begin{equation}\n",
    "\\text{Minimizar} \\quad \\sum_{i=1, i \\neq p}^{N} \\left[ K(CAi) \\cdot Precio(CAi) + K(CAi) \\cdot cTransp(CAi) + Tiempo(CAi) \\cdot cTiempo \\right] + \\left[ K(CAp) \\cdot Precio(CAp) + Demanda \\cdot cTransp(CAp) + Tiempo(CAp) \\cdot cTiempo \\right]\n",
    "\\end{equation}"
   ]
  },
  {
   "cell_type": "markdown",
   "metadata": {},
   "source": [
    "La función objetivo para minimizar costos se puede desglosar en dos partes principales:\n",
    "\n",
    "1. **Costo de los centros de acopio que no son el principal (i ≠ p):**\n",
    "   \n",
    "\\begin{equation}\n",
    "\\quad \\sum_{i=1, i \\neq p}^{N} \\left[ K(CAi) \\cdot Precio(CAi) + K(CAi) \\cdot cTransp(CAi) + Tiempo(CAi) \\cdot cTiempo \\right] +\n",
    "\\end{equation}\n",
    "\n",
    "   - **K(CAi)** es el stock en el centro de acopio \\( i \\).\n",
    "   - **Precio(CAi)** es el precio en el centro de acopio \\( i \\).\n",
    "   - **cTransp(CAi** es el costo de transporte desde el centro de acopio \\( i \\).\n",
    "   - **Tiempo(CAi)** es el tiempo asociado al centro de acopio \\( i \\).\n",
    "   - **cTiempo** es el costo asociado al tiempo.\n",
    "\n",
    "   *Este término representa el costo total de todos los centros de acopio que no son el principal.*\n",
    "\n",
    "2. **Costo del centro de acopio principal (p):**\n",
    "\n",
    "   \n",
    "\\begin{equation}\n",
    " \\left[ K(CAp) \\cdot Precio(CAp) + Demanda \\cdot cTransp(CAp) + Tiempo(CAp) \\cdot cTiempo \\right]\n",
    "\\end{equation}\n",
    "   \n",
    "\n",
    "   - **K(CAp** es el stock en el centro de acopio principal.\n",
    "   - **Precio(CAp)** es el precio en el centro de acopio principal.\n",
    "   - **Demanda** es la demanda total.\n",
    "   - **cTransp(CAp)** es el costo de transporte desde el centro de acopio principal.\n",
    "   - **Tiempo(CAp)** es el tiempo asociado al centro de acopio principal.\n",
    "   - **cTiempo** es el costo asociado al tiempo.\n",
    "\n",
    "   *Este término representa el costo asociado al centro de acopio principal.*"
   ]
  },
  {
   "cell_type": "code",
   "execution_count": 1436,
   "metadata": {},
   "outputs": [],
   "source": [
    "def objective_rule(model):\n",
    "    return sum(\n",
    "        model.X[i] * model.Precio[i] + \n",
    "        model.X[i] * model.CTranspCli[i] + \n",
    "        model.TiempoAlistam[i] * model.costo_tiempo \n",
    "        for i in model.I if i != model.CentroPrincipal\n",
    "    ) + (\n",
    "        model.X[model.CentroPrincipal] * model.Precio[model.CentroPrincipal] + \n",
    "        model.demanda * model.CTranspCli[model.CentroPrincipal] + \n",
    "        model.TiempoAlistam[model.CentroPrincipal] * model.costo_tiempo\n",
    "    )\n",
    "\n",
    "model.CostoTotal = pyo.Objective(rule=objective_rule, sense=pyo.minimize)"
   ]
  },
  {
   "cell_type": "markdown",
   "metadata": {},
   "source": [
    "# RESTRICCIONES "
   ]
  },
  {
   "cell_type": "markdown",
   "metadata": {},
   "source": [
    "\\begin{equation}\n",
    "\\sum_{i=0}^{N} K(CAi) = Demanda\n",
    "\\end{equation}\n",
    "\n",
    "\\begin{equation}\n",
    "K(CAi) \\leq Stock(CAi) + P_{\\text{potencial}}(CAi) \\quad \\text{para } i=0\\ldots N\n",
    "\\end{equation}\n",
    "\n",
    "\\begin{equation}\n",
    "Tiempo(CAi) = Tiempo_{\\text{Alistam}}(CAi) + Tiempo_{\\text{Transp}}(CAi)\n",
    "\\end{equation}\n",
    "\n",
    "\\begin{equation}\n",
    "Tiempo_{\\text{Alistam}}(CAi) \\leq Tiempo_{\\text{MaxDefinido}} \\quad \\text{para } i=0\\ldots N\n",
    "\\end{equation}"
   ]
  },
  {
   "cell_type": "markdown",
   "metadata": {},
   "source": [
    "La restricciones funcionan de esta manera:\n",
    "\n",
    "1. **Sumatoria del stock igual a la demanda total:**\n",
    "\n",
    "\\begin{equation}\n",
    "\\sum_{i=0}^{N} K(CAi) = Demanda\n",
    "\\end{equation}\n",
    "\n",
    "   - **K(CAi)** es el stock en el centro de acopio \\( i \\).\n",
    "   - **Demanda** es la demanda total.\n",
    "\n",
    "   Esta ecuación asegura que la suma del stock disponible en todos los centros de acopio sea igual a la demanda total.\n",
    "\n",
    "2. **Stock limitado por el inventario disponible y potencial:**\n",
    "\n",
    "\\begin{equation}\n",
    "K(CAi) \\leq Stock(CAi) + P_{\\text{potencial}}(CAi) \\quad \\text{para } i=0\\ldots N\n",
    "\\end{equation}\n",
    "\n",
    "   - **K(CAi)** es el stock en el centro de acopio \\( i \\).\n",
    "   - **Stock(CAi)** es el inventario disponible en el centro de acopio \\( i \\).\n",
    "   - **P_potencial(CAi)** es el inventario potencial adicional que se puede obtener en el centro de acopio \\( i \\).\n",
    "\n",
    "   Esta ecuación garantiza que el stock en cada centro de acopio no exceda la suma del inventario disponible y el inventario potencial adicional.\n",
    "\n",
    "3. **Tiempo total en cada centro de acopio:**\n",
    "\n",
    "\\begin{equation}\n",
    "Tiempo(CAi) = Tiempo_{\\text{Alistam}}(CAi) + Tiempo_{\\text{Transp}}(CAi)\n",
    "\\end{equation}\n",
    "\n",
    "   - **Tiempo(CAi)** es el tiempo total asociado al centro de acopio \\( i \\).\n",
    "   - **Tiempo_Alistam(CAi)** es el tiempo de alistamiento en el centro de acopio \\( i \\).\n",
    "   - **Tiempo_Transp(CAi)** es el tiempo de transporte desde el centro de acopio \\( i \\).\n",
    "\n",
    "   Esta ecuación define el tiempo total en cada centro de acopio como la suma del tiempo de alistamiento y el tiempo de transporte.\n",
    "\n",
    "4. **Límite en el tiempo de alistamiento:**\n",
    "\n",
    "\\begin{equation}\n",
    "Tiempo_{\\text{Alistam}}(CAi) \\leq Tiempo_{\\text{MaxDefinido}} \\quad \\text{para } i=0\\ldots N\n",
    "\\end{equation}\n",
    "\n",
    "   - **Tiempo_Alistam(CAi)** es el tiempo de alistamiento en el centro de acopio \\( i \\).\n",
    "   - **Tiempo_MaxDefinido** es el tiempo máximo permitido para el alistamiento.\n",
    "\n",
    "   Esta ecuación asegura que el tiempo de alistamiento en cada centro de acopio no exceda el tiempo máximo permitido definido previamente."
   ]
  },
  {
   "cell_type": "code",
   "execution_count": 1437,
   "metadata": {},
   "outputs": [],
   "source": [
    "model.DemandaSatisfecha = pyo.Constraint(expr=sum(model.X[i] for i in model.I) == model.demanda)\n",
    "\n",
    "model.CombinedStockPotential = pyo.Constraint(model.I, rule=lambda model, i: model.X[i] <= model.Stock[i] + model.Ppotencial[i])\n",
    "\n",
    "model.TiempoMax = pyo.Constraint(model.I, rule=lambda model, i: model.TiempoAlistam[i] + sum(model.tiempos_transporte[i, j] * model.Y[i, j] for j in model.I) <= model.tiempo_maximo_definido)\n",
    "\n",
    "model.BalanceTransport = pyo.Constraint(model.I, rule=lambda model, i: sum(model.Y[j, i] for j in model.I) == model.X[i] if i != model.CentroPrincipal else pyo.Constraint.Skip)\n",
    "\n",
    "model.CentroPrincipalManejo = pyo.Constraint(expr=sum(model.Y[i, model.CentroPrincipal] for i in model.I) == model.X[model.CentroPrincipal])"
   ]
  },
  {
   "cell_type": "markdown",
   "metadata": {},
   "source": [
    "# RESOLVER MODELO"
   ]
  },
  {
   "cell_type": "code",
   "execution_count": 1438,
   "metadata": {},
   "outputs": [
    {
     "name": "stdout",
     "output_type": "stream",
     "text": [
      "GLPSOL--GLPK LP/MIP Solver 5.0\n",
      "Parameter(s) specified in the command line:\n",
      " --write /tmp/tmpa3iq7d3p.glpk.raw --wglp /tmp/tmp1tfdwlxo.glpk.glp --cpxlp\n",
      " /tmp/tmpuzb62s74.pyomo.lp\n",
      "Reading problem data from '/tmp/tmpuzb62s74.pyomo.lp'...\n",
      "31 rows, 111 columns, 220 non-zeros\n",
      "444 lines were read\n",
      "Writing problem data to '/tmp/tmp1tfdwlxo.glpk.glp'...\n",
      "398 lines were written\n",
      "GLPK Simplex Optimizer 5.0\n",
      "31 rows, 111 columns, 220 non-zeros\n",
      "Preprocessing...\n",
      "21 rows, 100 columns, 200 non-zeros\n",
      "Scaling...\n",
      " A: min|aij| =  1.000e+00  max|aij| =  4.700e+01  ratio =  4.700e+01\n",
      "GM: min|aij| =  7.118e-01  max|aij| =  1.405e+00  ratio =  1.974e+00\n",
      "EQ: min|aij| =  5.080e-01  max|aij| =  1.000e+00  ratio =  1.968e+00\n",
      "Constructing initial basis...\n",
      "Size of triangular part is 21\n",
      "      0: obj =   9.729000452e+05 inf =   3.878e+01 (1)\n",
      "      3: obj =   2.191598545e+06 inf =   0.000e+00 (0)\n",
      "*     4: obj =   1.981725545e+06 inf =   0.000e+00 (0)\n",
      "OPTIMAL LP SOLUTION FOUND\n",
      "Time used:   0.0 secs\n",
      "Memory used: 0.1 Mb (113156 bytes)\n",
      "Writing basic solution to '/tmp/tmpa3iq7d3p.glpk.raw'...\n",
      "151 lines were written\n"
     ]
    }
   ],
   "source": [
    "# Resolver el modelo inicialmente\n",
    "solver = pyo.SolverFactory('glpk')\n",
    "results = solver.solve(model)\n",
    "\n",
    "# Calcular el costo total\n",
    "Costo_Total = pyo.value(model.CostoTotal)\n",
    "\n",
    "# Recalcular el costo de tiempo\n",
    "costo_tiempo_actualizado = model.tiempo_maximo_definido() / Costo_Total\n",
    "\n",
    "# Actualizar el parámetro y resolver nuevamente si es necesario\n",
    "model.costo_tiempo.set_value(costo_tiempo_actualizado)\n",
    "results = solver.solve(model, tee=True)\n"
   ]
  },
  {
   "cell_type": "markdown",
   "metadata": {},
   "source": [
    "# REPRESENTACIÓN DE DATOS"
   ]
  },
  {
   "cell_type": "code",
   "execution_count": 1439,
   "metadata": {},
   "outputs": [
    {
     "name": "stdout",
     "output_type": "stream",
     "text": [
      "\n",
      "Representación de stocks:\n"
     ]
    },
    {
     "data": {
      "image/png": "[encoded data removed]",
      "text/plain": [
       "<Figure size 1200x700 with 1 Axes>"
      ]
     },
     "metadata": {},
     "output_type": "display_data"
    }
   ],
   "source": [
    "print(\"\\nRepresentación de stocks:\")\n",
    "\n",
    "df_centros = pd.DataFrame(datos['centros_acopio'])\n",
    "plt.figure(figsize=(12, 7))\n",
    "sns.barplot(x='Id_CA', y='Stock', data=df_centros, palette='viridis', edgecolor='black')\n",
    "plt.title('Kilogramos en cada Centro de Acopio', fontsize=16, weight='bold')\n",
    "plt.xlabel('ID del Centro', fontsize=14)\n",
    "plt.ylabel('Kilogramos', fontsize=14)\n",
    "plt.xticks(rotation=45)\n",
    "plt.grid(True, linestyle='--', alpha=0.7)\n",
    "plt.show()"
   ]
  },
  {
   "cell_type": "code",
   "execution_count": 1440,
   "metadata": {},
   "outputs": [
    {
     "name": "stdout",
     "output_type": "stream",
     "text": [
      "Centros de Acopio:\n",
      "+---------+---------+--------------+----------+--------------+-------------------+-----------------+\n",
      "|   Id_CA |   Stock |   Ppotencial |   Precio |   CtranspCli |   TiempoTranspCli |   TiempoAlistam |\n",
      "+=========+=========+==============+==========+==============+===================+=================+\n",
      "|       1 |      10 |        0.5   |     5000 |        21841 |                37 |              10 |\n",
      "+---------+---------+--------------+----------+--------------+-------------------+-----------------+\n",
      "|       2 |      12 |        0.625 |    10000 |        21180 |                42 |               9 |\n",
      "+---------+---------+--------------+----------+--------------+-------------------+-----------------+\n",
      "|       3 |       4 |       14     |    15000 |        24132 |                32 |              47 |\n",
      "+---------+---------+--------------+----------+--------------+-------------------+-----------------+\n",
      "|       4 |       8 |       13     |     2000 |        14215 |                34 |              41 |\n",
      "+---------+---------+--------------+----------+--------------+-------------------+-----------------+\n",
      "|       5 |      18 |       15     |    30000 |        21654 |                22 |              42 |\n",
      "+---------+---------+--------------+----------+--------------+-------------------+-----------------+\n",
      "|       6 |       6 |       14     |    50000 |        20303 |                41 |              16 |\n",
      "+---------+---------+--------------+----------+--------------+-------------------+-----------------+\n",
      "|       7 |      12 |       13     |    15000 |        24553 |                32 |               5 |\n",
      "+---------+---------+--------------+----------+--------------+-------------------+-----------------+\n",
      "|       8 |       2 |       12.5   |     3000 |        21658 |                16 |              37 |\n",
      "+---------+---------+--------------+----------+--------------+-------------------+-----------------+\n",
      "|       9 |      30 |       15     |    30000 |        14528 |                27 |              26 |\n",
      "+---------+---------+--------------+----------+--------------+-------------------+-----------------+\n",
      "|      10 |      15 |       18     |    19000 |        23424 |                39 |              19 |\n",
      "+---------+---------+--------------+----------+--------------+-------------------+-----------------+\n",
      "\n",
      "Matriz 'Costos de Transporte':\n",
      "+-------+-------+-------+-------+-------+-------+-------+-------+-------+-------+\n",
      "|     0 | 17071 | 29902 | 28862 | 22693 | 26892 | 22793 | 20966 | 21399 | 12712 |\n",
      "+-------+-------+-------+-------+-------+-------+-------+-------+-------+-------+\n",
      "| 17071 |     0 | 20339 | 12897 | 28898 | 15196 | 16108 | 14577 | 21908 | 17243 |\n",
      "+-------+-------+-------+-------+-------+-------+-------+-------+-------+-------+\n",
      "| 29902 | 20339 |     0 | 23705 | 24941 | 20198 | 26903 | 23788 | 22812 | 24456 |\n",
      "+-------+-------+-------+-------+-------+-------+-------+-------+-------+-------+\n",
      "| 28862 | 12897 | 23705 |     0 | 22424 | 20542 | 19060 | 12041 | 19133 | 19640 |\n",
      "+-------+-------+-------+-------+-------+-------+-------+-------+-------+-------+\n",
      "| 22693 | 28898 | 24941 | 22424 |     0 | 16321 | 22995 | 14321 | 15803 | 13582 |\n",
      "+-------+-------+-------+-------+-------+-------+-------+-------+-------+-------+\n",
      "| 26892 | 15196 | 20198 | 20542 | 16321 |     0 | 13500 | 17573 | 21569 | 25485 |\n",
      "+-------+-------+-------+-------+-------+-------+-------+-------+-------+-------+\n",
      "| 22793 | 16108 | 26903 | 19060 | 22995 | 13500 |     0 | 21993 | 16491 | 22089 |\n",
      "+-------+-------+-------+-------+-------+-------+-------+-------+-------+-------+\n",
      "| 20966 | 14577 | 23788 | 12041 | 14321 | 17573 | 21993 |     0 | 29942 | 26153 |\n",
      "+-------+-------+-------+-------+-------+-------+-------+-------+-------+-------+\n",
      "| 21399 | 21908 | 22812 | 19133 | 15803 | 21569 | 16491 | 29942 |     0 | 17745 |\n",
      "+-------+-------+-------+-------+-------+-------+-------+-------+-------+-------+\n",
      "| 12712 | 17243 | 24456 | 19640 | 13582 | 25485 | 22089 | 26153 | 17745 |     0 |\n",
      "+-------+-------+-------+-------+-------+-------+-------+-------+-------+-------+\n",
      "\n",
      "Tabla 'Costos de Transporte':\n",
      "+-------+-------+-------+-------+-------+-------+-------+-------+-------+-------+-------+\n",
      "|       |  CA 1 |  CA 2 |  CA 3 |  CA 4 |  CA 5 |  CA 6 |  CA 7 |  CA 8 |  CA 9 | CA 10 |\n",
      "+-------+-------+-------+-------+-------+-------+-------+-------+-------+-------+-------+\n",
      "|  CA 1 |   0   | 17071 | 29902 | 28862 | 22693 | 26892 | 22793 | 20966 | 21399 | 12712 |\n",
      "|  CA 2 | 17071 |   0   | 20339 | 12897 | 28898 | 15196 | 16108 | 14577 | 21908 | 17243 |\n",
      "|  CA 3 | 29902 | 20339 |   0   | 23705 | 24941 | 20198 | 26903 | 23788 | 22812 | 24456 |\n",
      "|  CA 4 | 28862 | 12897 | 23705 |   0   | 22424 | 20542 | 19060 | 12041 | 19133 | 19640 |\n",
      "|  CA 5 | 22693 | 28898 | 24941 | 22424 |   0   | 16321 | 22995 | 14321 | 15803 | 13582 |\n",
      "|  CA 6 | 26892 | 15196 | 20198 | 20542 | 16321 |   0   | 13500 | 17573 | 21569 | 25485 |\n",
      "|  CA 7 | 22793 | 16108 | 26903 | 19060 | 22995 | 13500 |   0   | 21993 | 16491 | 22089 |\n",
      "|  CA 8 | 20966 | 14577 | 23788 | 12041 | 14321 | 17573 | 21993 |   0   | 29942 | 26153 |\n",
      "|  CA 9 | 21399 | 21908 | 22812 | 19133 | 15803 | 21569 | 16491 | 29942 |   0   | 17745 |\n",
      "| CA 10 | 12712 | 17243 | 24456 | 19640 | 13582 | 25485 | 22089 | 26153 | 17745 |   0   |\n",
      "+-------+-------+-------+-------+-------+-------+-------+-------+-------+-------+-------+\n",
      "\n",
      "Matriz 'Tiempos de Transporte':\n",
      "+----+----+----+----+----+----+----+----+----+----+\n",
      "|  0 | 35 | 19 | 44 | 21 | 43 | 34 | 19 | 12 | 22 |\n",
      "+----+----+----+----+----+----+----+----+----+----+\n",
      "| 35 |  0 | 44 | 17 | 43 | 45 | 22 | 46 | 29 | 15 |\n",
      "+----+----+----+----+----+----+----+----+----+----+\n",
      "| 19 | 44 |  0 | 35 | 23 | 15 | 44 | 30 | 32 | 26 |\n",
      "+----+----+----+----+----+----+----+----+----+----+\n",
      "| 44 | 17 | 35 |  0 | 46 | 28 | 40 | 41 | 12 | 20 |\n",
      "+----+----+----+----+----+----+----+----+----+----+\n",
      "| 21 | 43 | 23 | 46 |  0 | 13 | 28 | 12 | 28 | 35 |\n",
      "+----+----+----+----+----+----+----+----+----+----+\n",
      "| 43 | 45 | 15 | 28 | 13 |  0 | 24 | 46 | 17 | 23 |\n",
      "+----+----+----+----+----+----+----+----+----+----+\n",
      "| 34 | 22 | 44 | 40 | 28 | 24 |  0 | 37 | 19 | 43 |\n",
      "+----+----+----+----+----+----+----+----+----+----+\n",
      "| 19 | 46 | 30 | 41 | 12 | 46 | 37 |  0 | 46 | 47 |\n",
      "+----+----+----+----+----+----+----+----+----+----+\n",
      "| 12 | 29 | 32 | 12 | 28 | 17 | 19 | 46 |  0 | 23 |\n",
      "+----+----+----+----+----+----+----+----+----+----+\n",
      "| 22 | 15 | 26 | 20 | 35 | 23 | 43 | 47 | 23 |  0 |\n",
      "+----+----+----+----+----+----+----+----+----+----+\n",
      "\n",
      "Tabla 'Tiempos de Transporte':\n",
      "+-------+------+------+------+------+------+------+------+------+------+-------+\n",
      "|       | CA 1 | CA 2 | CA 3 | CA 4 | CA 5 | CA 6 | CA 7 | CA 8 | CA 9 | CA 10 |\n",
      "+-------+------+------+------+------+------+------+------+------+------+-------+\n",
      "|  CA 1 |  0   |  35  |  19  |  44  |  21  |  43  |  34  |  19  |  12  |   22  |\n",
      "|  CA 2 |  35  |  0   |  44  |  17  |  43  |  45  |  22  |  46  |  29  |   15  |\n",
      "|  CA 3 |  19  |  44  |  0   |  35  |  23  |  15  |  44  |  30  |  32  |   26  |\n",
      "|  CA 4 |  44  |  17  |  35  |  0   |  46  |  28  |  40  |  41  |  12  |   20  |\n",
      "|  CA 5 |  21  |  43  |  23  |  46  |  0   |  13  |  28  |  12  |  28  |   35  |\n",
      "|  CA 6 |  43  |  45  |  15  |  28  |  13  |  0   |  24  |  46  |  17  |   23  |\n",
      "|  CA 7 |  34  |  22  |  44  |  40  |  28  |  24  |  0   |  37  |  19  |   43  |\n",
      "|  CA 8 |  19  |  46  |  30  |  41  |  12  |  46  |  37  |  0   |  46  |   47  |\n",
      "|  CA 9 |  12  |  29  |  32  |  12  |  28  |  17  |  19  |  46  |  0   |   23  |\n",
      "| CA 10 |  22  |  15  |  26  |  20  |  35  |  23  |  43  |  47  |  23  |   0   |\n",
      "+-------+------+------+------+------+------+------+------+------+------+-------+\n",
      "\n",
      "Costo Tiempo: 0.00017937885586684707\n",
      "\n",
      "Tiempo Máximo Definido: 360\n"
     ]
    }
   ],
   "source": [
    "# Crear tabla para los centros de acopio\n",
    "centros_acopio = datos[\"centros_acopio\"]\n",
    "headers = [\"Id_CA\", \"Stock\", \"Ppotencial\", \"Precio\", \"CtranspCli\", \"TiempoTranspCli\", \"TiempoAlistam\"]\n",
    "table = [[c[\"Id_CA\"], c[\"Stock\"], c[\"Ppotencial\"], c[\"Precio\"], c[\"CtranspCli\"], c[\"TiempoTranspCli\"], c[\"TiempoAlistam\"]] for c in centros_acopio]\n",
    "print(\"Centros de Acopio:\")\n",
    "print(tabulate(table, headers=headers, tablefmt='grid'))\n",
    "print()\n",
    "\n",
    "\n",
    "# Mostrar costos de transporte en matriz\n",
    "print(\"Matriz 'Costos de Transporte':\")\n",
    "print(tabulate(datos[\"costos_transporte\"], tablefmt='grid'))\n",
    "print()\n",
    "# Crear tabla para la matriz de costos de transporte\n",
    "table = PrettyTable()\n",
    "table.field_names = [\"\"] + [f\"CA {i+1}\" for i in range(len(datos[\"costos_transporte\"]))]\n",
    "for i, row in enumerate(datos[\"costos_transporte\"]):\n",
    "    table.add_row([f\"CA {i+1}\"] + row)\n",
    "\n",
    "print(\"Tabla 'Costos de Transporte':\")\n",
    "print(table)\n",
    "print()\n",
    "\n",
    "# Mostrar tiempos de transporte\n",
    "print(\"Matriz 'Tiempos de Transporte':\")\n",
    "print(tabulate(datos[\"tiempos_transporte\"], tablefmt='grid'))\n",
    "print()\n",
    "\n",
    "# Crear tabla para la matriz de tiempos de transporte\n",
    "table = PrettyTable()\n",
    "table.field_names = [\"\"] + [f\"CA {i+1}\" for i in range(len(datos[\"tiempos_transporte\"]))]\n",
    "for i, row in enumerate(datos[\"tiempos_transporte\"]):\n",
    "    table.add_row([f\"CA {i+1}\"] + row)\n",
    "\n",
    "print(\"Tabla 'Tiempos de Transporte':\")\n",
    "print(table)\n",
    "print()\n",
    "\n",
    "# Mostrar costos y tiempos adicionales\n",
    "print(f\"Costo Tiempo: {model.costo_tiempo()}\\n\")\n",
    "print(f\"Tiempo Máximo Definido: {model.tiempo_maximo_definido()}\")\n"
   ]
  },
  {
   "cell_type": "markdown",
   "metadata": {},
   "source": [
    "# RESULTADOS"
   ]
  },
  {
   "cell_type": "markdown",
   "metadata": {},
   "source": [
    "# Solución óptima"
   ]
  },
  {
   "cell_type": "markdown",
   "metadata": {},
   "source": [
    "**Centros involucrados**"
   ]
  },
  {
   "cell_type": "code",
   "execution_count": 1441,
   "metadata": {},
   "outputs": [
    {
     "name": "stdout",
     "output_type": "stream",
     "text": [
      "Centros seleccionados para la operación:\n",
      "Centros 1\n",
      "Centros 2\n",
      "Centros 3\n",
      "Centros 4\n",
      "Centros 8\n"
     ]
    }
   ],
   "source": [
    "centros_despachados = set()\n",
    "print(f\"Centros seleccionados para la operación:\")\n",
    "\n",
    "for i in model.I:\n",
    "    for j in model.I:\n",
    "        try:\n",
    "            value_Y = pyo.value(model.Y[i, j])\n",
    "            if value_Y > 0:\n",
    "                centros_despachados.add(i)\n",
    "                centros_despachados.add(j)\n",
    "        except KeyError:\n",
    "            print(f\"Índice {i+1}, {j} no es válido para el componente model.Y.\")\n",
    "        except ValueError:\n",
    "            print(f\"Cantidad transportada de Centro {i+1} a Centro {j} no disponible\")\n",
    "\n",
    "for centro in centros_despachados:\n",
    "    print(f\"Centros {centro +1}\")\n"
   ]
  },
  {
   "cell_type": "markdown",
   "metadata": {},
   "source": [
    "**Cantidad asignada:**"
   ]
  },
  {
   "cell_type": "code",
   "execution_count": 1442,
   "metadata": {},
   "outputs": [
    {
     "name": "stdout",
     "output_type": "stream",
     "text": [
      "Centro 1: = 10.50\n",
      "Centro 2: = 12.62\n",
      "Centro 3: = 1.38\n",
      "Centro 4: = 21.00\n",
      "Centro 5: = 0.00\n",
      "Centro 6: = 0.00\n",
      "Centro 7: = 0.00\n",
      "Centro 8: = 14.50\n",
      "Centro 9: = 0.00\n",
      "Centro 10: = 0.00\n"
     ]
    }
   ],
   "source": [
    "for i in model.I:\n",
    "    try:\n",
    "        print(f\"Centro {i+1}: = {pyo.value(model.X[i]):.2f}\")\n",
    "    except ValueError:\n",
    "        print(f\"Centro {i+1}: Cantidad despachada no disponible\")"
   ]
  },
  {
   "cell_type": "markdown",
   "metadata": {},
   "source": [
    "**Centro principal para la demanda del cliente**"
   ]
  },
  {
   "cell_type": "code",
   "execution_count": 1443,
   "metadata": {},
   "outputs": [
    {
     "name": "stdout",
     "output_type": "stream",
     "text": [
      "\n",
      "Centro principal seleccionado: 4\n"
     ]
    }
   ],
   "source": [
    "print(f\"\\nCentro principal seleccionado: {model.CentroPrincipal.value + 1}\")"
   ]
  },
  {
   "cell_type": "markdown",
   "metadata": {},
   "source": [
    "**Resumen de operación al centro principal**"
   ]
  },
  {
   "cell_type": "code",
   "execution_count": 1444,
   "metadata": {},
   "outputs": [
    {
     "name": "stdout",
     "output_type": "stream",
     "text": [
      "\n",
      "Centro 1: Despachado = 10.50. \n",
      "Cantidad para transportar al centro principal 4 = 10.50. \n",
      "Costo transporte = $303051.00\n",
      "\n",
      "\n",
      "Centro 2: Despachado = 12.62. \n",
      "Cantidad para transportar al centro principal 4 = 12.62. \n",
      "Costo transporte = $162824.62\n",
      "\n",
      "\n",
      "Centro 3: Despachado = 1.38. \n",
      "Cantidad para transportar al centro principal 4 = 1.38. \n",
      "Costo transporte = $32594.38\n",
      "\n",
      "Centro 5: No hay cantidad a transportar al centro principal\n",
      "Centro 6: No hay cantidad a transportar al centro principal\n",
      "Centro 7: No hay cantidad a transportar al centro principal\n",
      "\n",
      "Centro 8: Despachado = 14.50. \n",
      "Cantidad para transportar al centro principal 4 = 14.50. \n",
      "Costo transporte = $174594.50\n",
      "\n",
      "Centro 9: No hay cantidad a transportar al centro principal\n",
      "Centro 10: No hay cantidad a transportar al centro principal\n",
      "\n",
      "Centros por despachar: ['Centro 1', 'Centro 2', 'Centro 3', 'Centro 8']\n"
     ]
    }
   ],
   "source": [
    "total_costo_transporte = 0\n",
    "centros_despachados = set()\n",
    "\n",
    "for i in model.I:\n",
    "    if i != model.CentroPrincipal:\n",
    "        try:\n",
    "            cantidad_transportada = sum(pyo.value(model.Y[i, j]) for j in model.I if model.Y[i, j].value is not None and pyo.value(model.Y[i, j]) > 0)\n",
    "            if cantidad_transportada > 0:\n",
    "                costo_transportado = cantidad_transportada * model.costos_transporte[i, model.CentroPrincipal]\n",
    "                total_costo_transporte += costo_transportado\n",
    "                centros_despachados.add(i)\n",
    "                print(f'\\nCentro {i+1}: Despachado = {model.X[i].value:.2f}. \\nCantidad para transportar al centro principal {model.CentroPrincipal.value +1} = {cantidad_transportada:.2f}. \\nCosto transporte = ${costo_transportado:.2f}\\n')\n",
    "            else:\n",
    "                print(f'Centro {i+1}: No hay cantidad a transportar al centro principal')\n",
    "        except ValueError:\n",
    "            print(f'Centro {i+1}: Despachado o cantidad transportada no disponible')\n",
    "\n",
    "nombres_centros = ['Centro 1', 'Centro 2', 'Centro 3', 'Centro 4', 'Centro 5', 'Centro 6', 'Centro 7', 'Centro 8', 'Centro 9', 'Centro 10']\n",
    "\n",
    "# Mostrar los centros despachados con nombres en el orden original\n",
    "print(f'\\nCentros por despachar: {[nombres_centros[i] for i in centros_despachados]}')"
   ]
  },
  {
   "cell_type": "markdown",
   "metadata": {},
   "source": [
    "**Costo total del producto**"
   ]
  },
  {
   "cell_type": "code",
   "execution_count": 1445,
   "metadata": {},
   "outputs": [
    {
     "name": "stdout",
     "output_type": "stream",
     "text": [
      "\n",
      "Costo total del modelo de optimización: = $1,981,725.55\n"
     ]
    }
   ],
   "source": [
    "print(f\"\\nCosto total del modelo de optimización: = ${pyo.value(model.CostoTotal):,.2f}\")"
   ]
  },
  {
   "cell_type": "markdown",
   "metadata": {},
   "source": [
    "**Costo total del transporte centros a centro principal**"
   ]
  },
  {
   "cell_type": "code",
   "execution_count": 1446,
   "metadata": {},
   "outputs": [
    {
     "name": "stdout",
     "output_type": "stream",
     "text": [
      "\n",
      "\n",
      "Costo total del transporte centros a centro principal: = $673064.50\n"
     ]
    }
   ],
   "source": [
    "print(f\"\\n\\nCosto total del transporte centros a centro principal: = ${total_costo_transporte:.2f}\")"
   ]
  },
  {
   "cell_type": "code",
   "execution_count": null,
   "metadata": {},
   "outputs": [],
   "source": []
  }
 ],
 "metadata": {
  "colab": {
   "provenance": []
  },
  "kernelspec": {
   "display_name": "Python 3 (ipykernel)",
   "language": "python",
   "name": "python3"
  },
  "language_info": {
   "codemirror_mode": {
    "name": "ipython",
    "version": 3
   },
   "file_extension": ".py",
   "mimetype": "text/x-python",
   "name": "python",
   "nbconvert_exporter": "python",
   "pygments_lexer": "ipython3",
   "version": "3.11.9"
  }
 },
 "nbformat": 4,
 "nbformat_minor": 4
}
