{
 "cells": [
  {
   "cell_type": "code",
   "metadata": {
    "id": "sLLmzB6qJwiG",
    "ExecuteTime": {
     "end_time": "2024-07-11T18:20:45.061515Z",
     "start_time": "2024-07-11T18:20:45.057925Z"
    }
   },
   "source": [
    "import numpy as np\n",
    "import pandas as pd"
   ],
   "outputs": [],
   "execution_count": 31
  },
  {
   "cell_type": "markdown",
   "metadata": {
    "id": "ZZ20H0g88fr9"
   },
   "source": [
    "## Conjuntos \n",
    "Del modelo de optimización\n",
    "\n",
    "| **Término**  | **Descripción**                |\n",
    "|--------------|--------------------------------|\n",
    "| $cacopios$   | Conjunto de centros de acopio  |\n",
    "| $clientes$   | Conjunto de clientes           |\n",
    "| $productos$  | Conjunto de productos          |"
   ]
  },
  {
   "cell_type": "code",
   "metadata": {
    "id": "rIc1Q2z08Ejj",
    "ExecuteTime": {
     "end_time": "2024-07-11T18:20:45.169669Z",
     "start_time": "2024-07-11T18:20:45.164987Z"
    }
   },
   "source": [
    "cacopios = 'CAcopios'\n",
    "clientes = 'Clientes'\n",
    "productos = 'Productos'"
   ],
   "outputs": [],
   "execution_count": 32
  },
  {
   "cell_type": "code",
   "metadata": {
    "id": "vQTQCvL0-G49",
    "ExecuteTime": {
     "end_time": "2024-07-11T18:20:45.238429Z",
     "start_time": "2024-07-11T18:20:45.233091Z"
    }
   },
   "source": [
    "csv_base = './csv/'\n",
    "\n",
    "routes = {\n",
    "    # Capacidades de centros de acopio\n",
    "    'cic': 'CapInvCA.csv',\n",
    "    'cictest': 'CapInvCAtest.csv',\n",
    "    # Costo de inventario del centro de acopio\n",
    "    'cia' : 'CostoInvCA.csv',\n",
    "    'ciatest' : 'CostoInvCAtest.csv',\n",
    "    # Costo de transporte del centro de acopio al cliente\n",
    "    'ctac' : 'CostoTransCAClie.csv',\n",
    "    'ctactest' : 'CostoTransCAClietest.csv'\n",
    "}\n",
    "\n",
    "csv_config = {\n",
    "    'delimiter' : ';',\n",
    "    'decimal' : ','\n",
    "}"
   ],
   "outputs": [],
   "execution_count": 33
  },
  {
   "cell_type": "markdown",
   "metadata": {},
   "source": [
    "## Centros de acopio"
   ]
  },
  {
   "cell_type": "code",
   "metadata": {
    "ExecuteTime": {
     "end_time": "2024-07-11T18:20:45.262473Z",
     "start_time": "2024-07-11T18:20:45.254932Z"
    }
   },
   "source": [
    "cacopios_df = pd.read_csv(csv_base + cacopios + '.csv')\n",
    "# cacopios_df = pd.read_csv(csv_base + cacopios + 'test' + '.csv')\n",
    "cacopios_df"
   ],
   "outputs": [
    {
     "data": {
      "text/plain": [
       "             CAcopios\n",
       "0  San Juan del Cesar\n",
       "1            Riohacha\n",
       "2              Maicao\n",
       "3              Guamal\n",
       "4             Pivijay\n",
       "5       Nueva Granada\n",
       "6            Monteria\n",
       "7               Chinu\n",
       "8        Planeta rica"
      ],
      "text/html": [
       "<div>\n",
       "<style scoped>\n",
       "    .dataframe tbody tr th:only-of-type {\n",
       "        vertical-align: middle;\n",
       "    }\n",
       "\n",
       "    .dataframe tbody tr th {\n",
       "        vertical-align: top;\n",
       "    }\n",
       "\n",
       "    .dataframe thead th {\n",
       "        text-align: right;\n",
       "    }\n",
       "</style>\n",
       "<table border=\"1\" class=\"dataframe\">\n",
       "  <thead>\n",
       "    <tr style=\"text-align: right;\">\n",
       "      <th></th>\n",
       "      <th>CAcopios</th>\n",
       "    </tr>\n",
       "  </thead>\n",
       "  <tbody>\n",
       "    <tr>\n",
       "      <th>0</th>\n",
       "      <td>San Juan del Cesar</td>\n",
       "    </tr>\n",
       "    <tr>\n",
       "      <th>1</th>\n",
       "      <td>Riohacha</td>\n",
       "    </tr>\n",
       "    <tr>\n",
       "      <th>2</th>\n",
       "      <td>Maicao</td>\n",
       "    </tr>\n",
       "    <tr>\n",
       "      <th>3</th>\n",
       "      <td>Guamal</td>\n",
       "    </tr>\n",
       "    <tr>\n",
       "      <th>4</th>\n",
       "      <td>Pivijay</td>\n",
       "    </tr>\n",
       "    <tr>\n",
       "      <th>5</th>\n",
       "      <td>Nueva Granada</td>\n",
       "    </tr>\n",
       "    <tr>\n",
       "      <th>6</th>\n",
       "      <td>Monteria</td>\n",
       "    </tr>\n",
       "    <tr>\n",
       "      <th>7</th>\n",
       "      <td>Chinu</td>\n",
       "    </tr>\n",
       "    <tr>\n",
       "      <th>8</th>\n",
       "      <td>Planeta rica</td>\n",
       "    </tr>\n",
       "  </tbody>\n",
       "</table>\n",
       "</div>"
      ]
     },
     "execution_count": 34,
     "metadata": {},
     "output_type": "execute_result"
    }
   ],
   "execution_count": 34
  },
  {
   "cell_type": "markdown",
   "metadata": {},
   "source": [
    "## Clientes"
   ]
  },
  {
   "cell_type": "code",
   "metadata": {
    "ExecuteTime": {
     "end_time": "2024-07-11T18:20:45.290796Z",
     "start_time": "2024-07-11T18:20:45.283069Z"
    }
   },
   "source": [
    "clientes_df = pd.read_csv(csv_base + clientes + '.csv')\n",
    "# clientes_df = pd.read_csv(csv_base + clientes + 'test' + '.csv')\n",
    "clientes_df"
   ],
   "outputs": [
    {
     "data": {
      "text/plain": [
       "         Clientes\n",
       "0   Distribuidor1\n",
       "1   Distribuidor2\n",
       "2   Distribuidor3\n",
       "3         Tienda1\n",
       "4         Tienda2\n",
       "5        Mercado1\n",
       "6        Mercado2\n",
       "7        Mercado3\n",
       "8      Panaderia1\n",
       "9      Panaderia2\n",
       "10     Panaderia3"
      ],
      "text/html": [
       "<div>\n",
       "<style scoped>\n",
       "    .dataframe tbody tr th:only-of-type {\n",
       "        vertical-align: middle;\n",
       "    }\n",
       "\n",
       "    .dataframe tbody tr th {\n",
       "        vertical-align: top;\n",
       "    }\n",
       "\n",
       "    .dataframe thead th {\n",
       "        text-align: right;\n",
       "    }\n",
       "</style>\n",
       "<table border=\"1\" class=\"dataframe\">\n",
       "  <thead>\n",
       "    <tr style=\"text-align: right;\">\n",
       "      <th></th>\n",
       "      <th>Clientes</th>\n",
       "    </tr>\n",
       "  </thead>\n",
       "  <tbody>\n",
       "    <tr>\n",
       "      <th>0</th>\n",
       "      <td>Distribuidor1</td>\n",
       "    </tr>\n",
       "    <tr>\n",
       "      <th>1</th>\n",
       "      <td>Distribuidor2</td>\n",
       "    </tr>\n",
       "    <tr>\n",
       "      <th>2</th>\n",
       "      <td>Distribuidor3</td>\n",
       "    </tr>\n",
       "    <tr>\n",
       "      <th>3</th>\n",
       "      <td>Tienda1</td>\n",
       "    </tr>\n",
       "    <tr>\n",
       "      <th>4</th>\n",
       "      <td>Tienda2</td>\n",
       "    </tr>\n",
       "    <tr>\n",
       "      <th>5</th>\n",
       "      <td>Mercado1</td>\n",
       "    </tr>\n",
       "    <tr>\n",
       "      <th>6</th>\n",
       "      <td>Mercado2</td>\n",
       "    </tr>\n",
       "    <tr>\n",
       "      <th>7</th>\n",
       "      <td>Mercado3</td>\n",
       "    </tr>\n",
       "    <tr>\n",
       "      <th>8</th>\n",
       "      <td>Panaderia1</td>\n",
       "    </tr>\n",
       "    <tr>\n",
       "      <th>9</th>\n",
       "      <td>Panaderia2</td>\n",
       "    </tr>\n",
       "    <tr>\n",
       "      <th>10</th>\n",
       "      <td>Panaderia3</td>\n",
       "    </tr>\n",
       "  </tbody>\n",
       "</table>\n",
       "</div>"
      ]
     },
     "execution_count": 35,
     "metadata": {},
     "output_type": "execute_result"
    }
   ],
   "execution_count": 35
  },
  {
   "cell_type": "markdown",
   "metadata": {},
   "source": [
    "## Productos"
   ]
  },
  {
   "cell_type": "code",
   "metadata": {
    "ExecuteTime": {
     "end_time": "2024-07-11T18:20:45.318649Z",
     "start_time": "2024-07-11T18:20:45.309765Z"
    }
   },
   "source": [
    "productos_df = pd.read_csv(csv_base + productos + '.csv')\n",
    "productos_df.head()"
   ],
   "outputs": [
    {
     "data": {
      "text/plain": [
       "      Productos\n",
       "0    Queso duro\n",
       "1  Queso blando"
      ],
      "text/html": [
       "<div>\n",
       "<style scoped>\n",
       "    .dataframe tbody tr th:only-of-type {\n",
       "        vertical-align: middle;\n",
       "    }\n",
       "\n",
       "    .dataframe tbody tr th {\n",
       "        vertical-align: top;\n",
       "    }\n",
       "\n",
       "    .dataframe thead th {\n",
       "        text-align: right;\n",
       "    }\n",
       "</style>\n",
       "<table border=\"1\" class=\"dataframe\">\n",
       "  <thead>\n",
       "    <tr style=\"text-align: right;\">\n",
       "      <th></th>\n",
       "      <th>Productos</th>\n",
       "    </tr>\n",
       "  </thead>\n",
       "  <tbody>\n",
       "    <tr>\n",
       "      <th>0</th>\n",
       "      <td>Queso duro</td>\n",
       "    </tr>\n",
       "    <tr>\n",
       "      <th>1</th>\n",
       "      <td>Queso blando</td>\n",
       "    </tr>\n",
       "  </tbody>\n",
       "</table>\n",
       "</div>"
      ]
     },
     "execution_count": 36,
     "metadata": {},
     "output_type": "execute_result"
    }
   ],
   "execution_count": 36
  },
  {
   "cell_type": "markdown",
   "metadata": {},
   "source": [
    "### Capacidades \n",
    "Obteniendo las capacidades de cada centro de acopio"
   ]
  },
  {
   "cell_type": "code",
   "metadata": {
    "ExecuteTime": {
     "end_time": "2024-07-11T18:20:45.406205Z",
     "start_time": "2024-07-11T18:20:45.394683Z"
    }
   },
   "source": [
    "cap_df = pd.read_csv(csv_base + routes['cic'], **csv_config)\n",
    "# cap_df = pd.read_csv(csv_base + routes['cictest'], **csv_config)\n",
    "cap_df"
   ],
   "outputs": [
    {
     "data": {
      "text/plain": [
       "              CAcopios     Productos  CapInvCA\n",
       "0   San Juan del Cesar    Queso duro       430\n",
       "1   San Juan del Cesar  Queso blando       320\n",
       "2             Riohacha    Queso duro        60\n",
       "3             Riohacha  Queso blando        90\n",
       "4               Maicao    Queso duro       190\n",
       "5               Maicao  Queso blando         0\n",
       "6               Guamal    Queso duro       140\n",
       "7               Guamal  Queso blando       170\n",
       "8              Pivijay    Queso duro       200\n",
       "9              Pivijay  Queso blando       280\n",
       "10       Nueva Granada    Queso duro       270\n",
       "11       Nueva Granada  Queso blando       230\n",
       "12            Monteria    Queso duro       150\n",
       "13            Monteria  Queso blando       250\n",
       "14               Chinu    Queso duro       410\n",
       "15               Chinu  Queso blando       160\n",
       "16        Planeta rica    Queso duro        50\n",
       "17        Planeta rica  Queso blando        80"
      ],
      "text/html": [
       "<div>\n",
       "<style scoped>\n",
       "    .dataframe tbody tr th:only-of-type {\n",
       "        vertical-align: middle;\n",
       "    }\n",
       "\n",
       "    .dataframe tbody tr th {\n",
       "        vertical-align: top;\n",
       "    }\n",
       "\n",
       "    .dataframe thead th {\n",
       "        text-align: right;\n",
       "    }\n",
       "</style>\n",
       "<table border=\"1\" class=\"dataframe\">\n",
       "  <thead>\n",
       "    <tr style=\"text-align: right;\">\n",
       "      <th></th>\n",
       "      <th>CAcopios</th>\n",
       "      <th>Productos</th>\n",
       "      <th>CapInvCA</th>\n",
       "    </tr>\n",
       "  </thead>\n",
       "  <tbody>\n",
       "    <tr>\n",
       "      <th>0</th>\n",
       "      <td>San Juan del Cesar</td>\n",
       "      <td>Queso duro</td>\n",
       "      <td>430</td>\n",
       "    </tr>\n",
       "    <tr>\n",
       "      <th>1</th>\n",
       "      <td>San Juan del Cesar</td>\n",
       "      <td>Queso blando</td>\n",
       "      <td>320</td>\n",
       "    </tr>\n",
       "    <tr>\n",
       "      <th>2</th>\n",
       "      <td>Riohacha</td>\n",
       "      <td>Queso duro</td>\n",
       "      <td>60</td>\n",
       "    </tr>\n",
       "    <tr>\n",
       "      <th>3</th>\n",
       "      <td>Riohacha</td>\n",
       "      <td>Queso blando</td>\n",
       "      <td>90</td>\n",
       "    </tr>\n",
       "    <tr>\n",
       "      <th>4</th>\n",
       "      <td>Maicao</td>\n",
       "      <td>Queso duro</td>\n",
       "      <td>190</td>\n",
       "    </tr>\n",
       "    <tr>\n",
       "      <th>5</th>\n",
       "      <td>Maicao</td>\n",
       "      <td>Queso blando</td>\n",
       "      <td>0</td>\n",
       "    </tr>\n",
       "    <tr>\n",
       "      <th>6</th>\n",
       "      <td>Guamal</td>\n",
       "      <td>Queso duro</td>\n",
       "      <td>140</td>\n",
       "    </tr>\n",
       "    <tr>\n",
       "      <th>7</th>\n",
       "      <td>Guamal</td>\n",
       "      <td>Queso blando</td>\n",
       "      <td>170</td>\n",
       "    </tr>\n",
       "    <tr>\n",
       "      <th>8</th>\n",
       "      <td>Pivijay</td>\n",
       "      <td>Queso duro</td>\n",
       "      <td>200</td>\n",
       "    </tr>\n",
       "    <tr>\n",
       "      <th>9</th>\n",
       "      <td>Pivijay</td>\n",
       "      <td>Queso blando</td>\n",
       "      <td>280</td>\n",
       "    </tr>\n",
       "    <tr>\n",
       "      <th>10</th>\n",
       "      <td>Nueva Granada</td>\n",
       "      <td>Queso duro</td>\n",
       "      <td>270</td>\n",
       "    </tr>\n",
       "    <tr>\n",
       "      <th>11</th>\n",
       "      <td>Nueva Granada</td>\n",
       "      <td>Queso blando</td>\n",
       "      <td>230</td>\n",
       "    </tr>\n",
       "    <tr>\n",
       "      <th>12</th>\n",
       "      <td>Monteria</td>\n",
       "      <td>Queso duro</td>\n",
       "      <td>150</td>\n",
       "    </tr>\n",
       "    <tr>\n",
       "      <th>13</th>\n",
       "      <td>Monteria</td>\n",
       "      <td>Queso blando</td>\n",
       "      <td>250</td>\n",
       "    </tr>\n",
       "    <tr>\n",
       "      <th>14</th>\n",
       "      <td>Chinu</td>\n",
       "      <td>Queso duro</td>\n",
       "      <td>410</td>\n",
       "    </tr>\n",
       "    <tr>\n",
       "      <th>15</th>\n",
       "      <td>Chinu</td>\n",
       "      <td>Queso blando</td>\n",
       "      <td>160</td>\n",
       "    </tr>\n",
       "    <tr>\n",
       "      <th>16</th>\n",
       "      <td>Planeta rica</td>\n",
       "      <td>Queso duro</td>\n",
       "      <td>50</td>\n",
       "    </tr>\n",
       "    <tr>\n",
       "      <th>17</th>\n",
       "      <td>Planeta rica</td>\n",
       "      <td>Queso blando</td>\n",
       "      <td>80</td>\n",
       "    </tr>\n",
       "  </tbody>\n",
       "</table>\n",
       "</div>"
      ]
     },
     "execution_count": 37,
     "metadata": {},
     "output_type": "execute_result"
    }
   ],
   "execution_count": 37
  },
  {
   "cell_type": "markdown",
   "metadata": {
    "collapsed": false,
    "jupyter": {
     "outputs_hidden": false
    }
   },
   "source": [
    "### Costos de Inventario\n",
    "$$\n",
    "  CInventario_t = \\sum_{j \\in J} \\sum_{p \\in P} CostoInvAcopio_{pjt} InvCA_{pjt} \\qquad \\forall_t \\in T\n",
    "$$"
   ]
  },
  {
   "cell_type": "code",
   "metadata": {
    "collapsed": false,
    "jupyter": {
     "outputs_hidden": false
    },
    "ExecuteTime": {
     "end_time": "2024-07-11T18:20:45.497375Z",
     "start_time": "2024-07-11T18:20:45.486416Z"
    }
   },
   "source": [
    "cia_df = pd.read_csv(csv_base + routes['cia'], **csv_config)\n",
    "# cia_df = pd.read_csv(csv_base + routes['ciatest'], **csv_config)\n",
    "cia_df.head()"
   ],
   "outputs": [
    {
     "data": {
      "text/plain": [
       "             CAcopios     Productos  CostoInvCA\n",
       "0  San Juan del Cesar    Queso duro        1000\n",
       "1  San Juan del Cesar  Queso blando        1500\n",
       "2            Riohacha    Queso duro         500\n",
       "3            Riohacha  Queso blando         800\n",
       "4              Maicao    Queso duro         900"
      ],
      "text/html": [
       "<div>\n",
       "<style scoped>\n",
       "    .dataframe tbody tr th:only-of-type {\n",
       "        vertical-align: middle;\n",
       "    }\n",
       "\n",
       "    .dataframe tbody tr th {\n",
       "        vertical-align: top;\n",
       "    }\n",
       "\n",
       "    .dataframe thead th {\n",
       "        text-align: right;\n",
       "    }\n",
       "</style>\n",
       "<table border=\"1\" class=\"dataframe\">\n",
       "  <thead>\n",
       "    <tr style=\"text-align: right;\">\n",
       "      <th></th>\n",
       "      <th>CAcopios</th>\n",
       "      <th>Productos</th>\n",
       "      <th>CostoInvCA</th>\n",
       "    </tr>\n",
       "  </thead>\n",
       "  <tbody>\n",
       "    <tr>\n",
       "      <th>0</th>\n",
       "      <td>San Juan del Cesar</td>\n",
       "      <td>Queso duro</td>\n",
       "      <td>1000</td>\n",
       "    </tr>\n",
       "    <tr>\n",
       "      <th>1</th>\n",
       "      <td>San Juan del Cesar</td>\n",
       "      <td>Queso blando</td>\n",
       "      <td>1500</td>\n",
       "    </tr>\n",
       "    <tr>\n",
       "      <th>2</th>\n",
       "      <td>Riohacha</td>\n",
       "      <td>Queso duro</td>\n",
       "      <td>500</td>\n",
       "    </tr>\n",
       "    <tr>\n",
       "      <th>3</th>\n",
       "      <td>Riohacha</td>\n",
       "      <td>Queso blando</td>\n",
       "      <td>800</td>\n",
       "    </tr>\n",
       "    <tr>\n",
       "      <th>4</th>\n",
       "      <td>Maicao</td>\n",
       "      <td>Queso duro</td>\n",
       "      <td>900</td>\n",
       "    </tr>\n",
       "  </tbody>\n",
       "</table>\n",
       "</div>"
      ]
     },
     "execution_count": 38,
     "metadata": {},
     "output_type": "execute_result"
    }
   ],
   "execution_count": 38
  },
  {
   "cell_type": "markdown",
   "metadata": {
    "collapsed": false,
    "jupyter": {
     "outputs_hidden": false
    }
   },
   "source": [
    "### Costos de Transporte\n",
    "$$\n",
    "  CTransporte_t = \\sum_{k \\in K} \\sum_{j \\in J} \\sum_{p \\in P} CostoTransAcopioClie_{pjkt} \\qquad \\forall_t \\in T\n",
    "$$"
   ]
  },
  {
   "cell_type": "code",
   "metadata": {
    "collapsed": false,
    "jupyter": {
     "outputs_hidden": false
    },
    "ExecuteTime": {
     "end_time": "2024-07-11T18:20:45.590053Z",
     "start_time": "2024-07-11T18:20:45.580898Z"
    }
   },
   "source": [
    "ctac_df = pd.read_csv(csv_base + routes['ctac'], **csv_config)\n",
    "# ctac_df = pd.read_csv(csv_base + routes['ctactest'], **csv_config)\n",
    "ctac_df.head()"
   ],
   "outputs": [
    {
     "data": {
      "text/plain": [
       "             CAcopios       Clientes  CostoTransCAClie\n",
       "0  San Juan del Cesar  Distribuidor1             68000\n",
       "1  San Juan del Cesar  Distribuidor2             38000\n",
       "2  San Juan del Cesar  Distribuidor3             56000\n",
       "3  San Juan del Cesar        Tienda1             32000\n",
       "4  San Juan del Cesar        Tienda2             95000"
      ],
      "text/html": [
       "<div>\n",
       "<style scoped>\n",
       "    .dataframe tbody tr th:only-of-type {\n",
       "        vertical-align: middle;\n",
       "    }\n",
       "\n",
       "    .dataframe tbody tr th {\n",
       "        vertical-align: top;\n",
       "    }\n",
       "\n",
       "    .dataframe thead th {\n",
       "        text-align: right;\n",
       "    }\n",
       "</style>\n",
       "<table border=\"1\" class=\"dataframe\">\n",
       "  <thead>\n",
       "    <tr style=\"text-align: right;\">\n",
       "      <th></th>\n",
       "      <th>CAcopios</th>\n",
       "      <th>Clientes</th>\n",
       "      <th>CostoTransCAClie</th>\n",
       "    </tr>\n",
       "  </thead>\n",
       "  <tbody>\n",
       "    <tr>\n",
       "      <th>0</th>\n",
       "      <td>San Juan del Cesar</td>\n",
       "      <td>Distribuidor1</td>\n",
       "      <td>68000</td>\n",
       "    </tr>\n",
       "    <tr>\n",
       "      <th>1</th>\n",
       "      <td>San Juan del Cesar</td>\n",
       "      <td>Distribuidor2</td>\n",
       "      <td>38000</td>\n",
       "    </tr>\n",
       "    <tr>\n",
       "      <th>2</th>\n",
       "      <td>San Juan del Cesar</td>\n",
       "      <td>Distribuidor3</td>\n",
       "      <td>56000</td>\n",
       "    </tr>\n",
       "    <tr>\n",
       "      <th>3</th>\n",
       "      <td>San Juan del Cesar</td>\n",
       "      <td>Tienda1</td>\n",
       "      <td>32000</td>\n",
       "    </tr>\n",
       "    <tr>\n",
       "      <th>4</th>\n",
       "      <td>San Juan del Cesar</td>\n",
       "      <td>Tienda2</td>\n",
       "      <td>95000</td>\n",
       "    </tr>\n",
       "  </tbody>\n",
       "</table>\n",
       "</div>"
      ]
     },
     "execution_count": 39,
     "metadata": {},
     "output_type": "execute_result"
    }
   ],
   "execution_count": 39
  },
  {
   "cell_type": "markdown",
   "metadata": {},
   "source": [
    "## Esquema de representación\n",
    "Se recibe la demanda $DemandaClie_{pkt}$ como parámetro de entrada.\n",
    "\n",
    "Se representa la cantidad $n$ de centros de acopio como un vector, donde se asigna una cantidad $x_i$ para cada centro de acopio $j_i$, la cantidad asignada representa la demanda que va a ser suplida por ese centro de acopio.\n",
    "$$\n",
    "\\begin{array} {|r|r|r|r|r|r|}\n",
    "    \\hline x_0 & x_1 & x_2 & x_3 & \\cdots & x_n \\\\\n",
    "    \\hline\n",
    "\\end{array}\n",
    "\\quad \\therefore \\quad x_i = AC_{pjkt}\n",
    "$$\n",
    "Donde se aplican las restricciones:\n",
    "$$\n",
    "\\begin{align*}\n",
    "    \\sum_{i=0}^{n} x_i &= DemandaClie_{pkt} \\\\\n",
    "    x_i &\\leq InvCA_{pjt}\n",
    "\\end{align*}\n",
    "$$"
   ]
  },
  {
   "metadata": {},
   "cell_type": "markdown",
   "source": [
    "# Escenarios de prueba\n",
    "Tomando demandas por cada centro de acopio, se definen distintos escenarios de posibles casos.\n",
    "\n",
    "**Escenario 1**: Un centro de acopio sobrepasa la demanda del cliente\n",
    "- El modelo puede asignar dicho centro de acopio para suplir con la demanda\n",
    "- El centro de acopio debe proveer esa demanda\n",
    "\n",
    "**Escenario 2**: Ningún centro de acopio cumple con toda la demanda del cliente\n",
    "- El modelo debe dar una solución de varios centros de acopio\n",
    "- La suma de la demanda por cada centro de acopio debe ser igual a la demanda\n",
    "\n",
    "**Escenario 3**: Un centro de acopio tiene en stock exactamente la cantidad de la demanda de un cliente.\n",
    "- El modelo puede tomar el centro de acopio que tiene en stock exactamente la demanda a cumplir"
   ]
  },
  {
   "metadata": {},
   "cell_type": "markdown",
   "source": [
    "### Demandas\n",
    "Generando demandas para cada cliente, se usarán como entrada para el modelo"
   ]
  },
  {
   "cell_type": "code",
   "metadata": {
    "ExecuteTime": {
     "end_time": "2024-07-11T18:20:45.671079Z",
     "start_time": "2024-07-11T18:20:45.665361Z"
    }
   },
   "source": [
    "demanda = 120\n",
    "cap_queso = cap_df[cap_df[productos] == 'Queso duro']\n",
    "bounds = [(0, x_i) for x_i in cap_queso['CapInvCA']]"
   ],
   "outputs": [],
   "execution_count": 40
  },
  {
   "cell_type": "markdown",
   "metadata": {},
   "source": [
    "## Función objetivo\n",
    "$$\n",
    "Min(F) = CInventario + CTransporte\n",
    "$$"
   ]
  },
  {
   "cell_type": "code",
   "metadata": {
    "ExecuteTime": {
     "end_time": "2024-07-11T18:20:45.780382Z",
     "start_time": "2024-07-11T18:20:45.772213Z"
    }
   },
   "source": [
    "# F(x)\n",
    "def f(x):\n",
    "    delta = 0\n",
    "\n",
    "    for idx in range(x.shape[0]):\n",
    "        ca = cacopios_df.loc[idx]\n",
    "\n",
    "        if x[idx] == 0.:\n",
    "            continue\n",
    "\n",
    "        # Costos de Inventario\n",
    "        costo_inv_ca = cia_df[(cia_df[cacopios] == ca[cacopios]) & (cia_df[productos] == 'Queso duro')]\n",
    "        # Costos de Transporte\n",
    "        costo_trans_ca = ctac_df[(ctac_df[cacopios] == ca[cacopios]) & (ctac_df[clientes] == 'Distribuidor1')]\n",
    "\n",
    "        delta += x[idx] * costo_inv_ca['CostoInvCA'].values[0]\n",
    "        delta += np.array(costo_trans_ca['CostoTransCAClie'].values[0])\n",
    "    \n",
    "    return delta"
   ],
   "outputs": [
    {
     "name": "stdout",
     "output_type": "stream",
     "text": [
      "Costo: 174000\n"
     ]
    }
   ],
   "execution_count": 41
  },
  {
   "cell_type": "markdown",
   "metadata": {},
   "source": [
    "## scipy"
   ]
  },
  {
   "cell_type": "markdown",
   "metadata": {},
   "source": [
    "**LinearConstraint**: $ lb \\leq A*v[x] \\leq ub $\n",
    "\n",
    "**NonLinearConstraint**: $ lb \\leq g(x) \\leq ub $"
   ]
  },
  {
   "cell_type": "code",
   "metadata": {
    "ExecuteTime": {
     "end_time": "2024-07-11T18:20:45.860188Z",
     "start_time": "2024-07-11T18:20:45.856455Z"
    }
   },
   "source": [
    "# from scipy.optimize import LinearConstraint\n",
    "# from scipy.optimize import NonlinearConstraint\n",
    "# \n",
    "# cons = {'constraints': LinearConstraint(np.ones(X.shape[0]), suma_demanda, suma_demanda)}\n",
    "# \n",
    "# g = lambda x : x.sum()\n",
    "# non_cons = {'constraints': NonlinearConstraint(g, suma_demanda, suma_demanda)}\n"
   ],
   "outputs": [],
   "execution_count": 42
  },
  {
   "cell_type": "code",
   "metadata": {
    "ExecuteTime": {
     "end_time": "2024-07-11T18:20:45.961851Z",
     "start_time": "2024-07-11T18:20:45.957450Z"
    }
   },
   "source": [
    "# from scipy.optimize import dual_annealing\n",
    "# from scipy.optimize import differential_evolution\n",
    "# result = dual_annealing(\n",
    "#     f,\n",
    "#     bounds=bounds,\n",
    "#     minimizer_kwargs=cons,\n",
    "#     # maxiter=200,\n",
    "#     x0=np.array(x0)\n",
    "# )\n",
    "# print(result)"
   ],
   "outputs": [],
   "execution_count": 43
  },
  {
   "metadata": {},
   "cell_type": "markdown",
   "source": "## pymoo"
  },
  {
   "cell_type": "code",
   "metadata": {
    "ExecuteTime": {
     "end_time": "2024-07-11T18:20:46.039584Z",
     "start_time": "2024-07-11T18:20:46.034734Z"
    }
   },
   "source": [
    "from pymoo.core.problem import ElementwiseProblem\n",
    "\n",
    "xl = np.zeros(cacopios_df.shape)\n",
    "xu = np.asarray([b for _, b in bounds])\n",
    "\n",
    "class Queso(ElementwiseProblem):\n",
    "    def __init__(self):\n",
    "        super().__init__(\n",
    "            n_var=len(xl),\n",
    "            n_obj=1,\n",
    "            # n_eq_constr=1,\n",
    "            n_ieq_constr=1,\n",
    "            xl=0,\n",
    "            xu=xu,\n",
    "            vtype=int\n",
    "        )\n",
    "        \n",
    "    def _evaluate(self, x, out, *args, **kwargs):\n",
    "        out['F'] = f(x)\n",
    "        out['G'] = demanda - np.sum(x)\n",
    "        # out['H'] = demanda - np.sum(x)"
   ],
   "outputs": [],
   "execution_count": 44
  },
  {
   "cell_type": "code",
   "metadata": {
    "ExecuteTime": {
     "end_time": "2024-07-11T18:24:02.630959Z",
     "start_time": "2024-07-11T18:20:46.050791Z"
    }
   },
   "source": [
    "from pymoo.algorithms.soo.nonconvex.ga import GA\n",
    "from pymoo.optimize import minimize\n",
    "from pymoo.termination import get_termination\n",
    "\n",
    "problem = Queso()\n",
    "\n",
    "algorithm = GA(\n",
    "    pop_size=100,\n",
    "    eliminate_duplicates=True\n",
    ")\n",
    "\n",
    "termination = get_termination('time', '00:00:05')\n",
    "\n",
    "res = minimize(problem,\n",
    "               algorithm,\n",
    "               # termination,\n",
    "               seed=1,\n",
    "               verbose=False)\n",
    "\n",
    "print(f'F: {res.F}, \\nX: {res.X}')"
   ],
   "outputs": [
    {
     "name": "stdout",
     "output_type": "stream",
     "text": [
      "F: [543010.27063177], \n",
      "X: [2.47409372e-05 5.85283557e+01 2.57038999e-05 2.31466919e-06\n",
      " 9.62493295e-10 1.51232765e-07 4.08470620e-05 6.14204203e+01\n",
      " 5.11302207e-02]\n"
     ]
    }
   ],
   "execution_count": 45
  }
 ],
 "metadata": {
  "colab": {
   "provenance": []
  },
  "kernelspec": {
   "display_name": "Python 3 (ipykernel)",
   "language": "python",
   "name": "python3"
  },
  "language_info": {
   "codemirror_mode": {
    "name": "ipython",
    "version": 3
   },
   "file_extension": ".py",
   "mimetype": "text/x-python",
   "name": "python",
   "nbconvert_exporter": "python",
   "pygments_lexer": "ipython3",
   "version": "3.11.7"
  }
 },
 "nbformat": 4,
 "nbformat_minor": 4
}
