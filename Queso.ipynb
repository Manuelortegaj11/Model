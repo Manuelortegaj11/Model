{
 "cells": [
  {
   "cell_type": "markdown",
   "metadata": {},
   "source": [
    "# *Modelo de Optimización para la Demanda de Queso Costeño*"
   ]
  },
  {
   "cell_type": "markdown",
   "metadata": {},
   "source": [
    "El modelo de optimización presentado está diseñado para gestionar la demanda de queso costeño a través de una plataforma de marketplace, utilizando múltiples centros de acopio. Su objetivo principal es minimizar los costos asociados con el cumplimiento de la demanda del cliente, considerando los costos de transporte, tiempos de alistamiento y producción potencial en cada centro. El modelo busca reducir los costos totales de distribución en un sistema complejo que involucra un centro principal y varios centros secundarios, asegurando que se satisfaga la demanda total con la menor inversión en costos posible, mientras se cumplen las restricciones de capacidad y tiempo.\n",
    "\n",
    "**Variables del Problema**\n",
    "\n",
    "**N**: Número de centros de acopio.\n",
    "\n",
    "**CAi**: Identificador del centro de acopio i para i=0…N donde i≠p. Estos centros de acopio complementan las unidades de producto de la demanda que el centro de acopio principal no tiene disponibles. Los centros de acopio **CAi** despachan hacia el centro de acopio principal.\n",
    "\n",
    "**CAp**: Identificador del centro de acopio principal p (**p**∈[0,N] y **p**≠i). Este centro de acopio atiende directamente al cliente y es responsable de enviar la demanda completa al cliente.\n",
    "\n",
    "**K(CAi)**: Cantidad del producto que se despacha desde el centro de acopio **CAi**, incluyendo unidades en stock y unidades potenciales que pueden estar listas en poco tiempo.\n",
    "\n",
    "**Precio(CAi)**: Precio por kilo del producto despachado desde el centro de acopio **CAi**.\n",
    "\n",
    "**cTransp(CAi)**: Costo del transporte del pedido desde el centro de acopio **CAi** a su destino.\n",
    "\n",
    "**TiempoAlistam(CAi)**: Tiempo en horas para alistar el pedido desde el centro de acopio **CAi** a su destino.\n",
    "\n",
    "**TiempoMaxDefinido**: Tiempo máximo definido para considerar la producción potencial.\n",
    "\n",
    "**TiempoTransp(CAi)**: Tiempo de transporte desde el centro de acopio **CAi** a su destino.\n",
    "\n",
    "**Tiempo(CAi)**: Tiempo total en horas para que el pedido llegue desde el centro de acopio **CAi** a su destino, sumando el tiempo de alistamiento y el tiempo de transporte.\n",
    "\n",
    "**cTiempo**: Costo adicional por cada unidad de tiempo contemplado en la variable **Tiempo(CAi)**.\n",
    "\n",
    "**Demanda**: Cantidad de producto solicitada por el cliente.\n",
    "\n",
    "**Stock(CAi)**: Stock del producto en el centro de acopio **CAi**.\n",
    "\n",
    "**Ppotencial(CAi)**: Cantidad de producto que potencialmente puede estar disponible en poco tiempo (potencial del día)."
   ]
  },
  {
   "cell_type": "markdown",
   "metadata": {},
   "source": [
    "*Código desarrollado para la resolución del problema*"
   ]
  },
  {
   "cell_type": "markdown",
   "metadata": {},
   "source": [
    "# IMPORTACIONES"
   ]
  },
  {
   "cell_type": "code",
   "execution_count": 39,
   "metadata": {},
   "outputs": [],
   "source": [
    "from pyomo.environ import *\n",
    "import pyomo.environ as pyo\n",
    "import matplotlib.pyplot as plt\n",
    "import pandas as pd\n",
    "import seaborn as sns\n",
    "from tabulate import tabulate\n",
    "from prettytable import PrettyTable\n",
    "import openpyxl\n",
    "import time"
   ]
  },
  {
   "cell_type": "markdown",
   "metadata": {},
   "source": [
    "# ENTRADA DE DATOS"
   ]
  },
  {
   "cell_type": "markdown",
   "metadata": {},
   "source": [
    "**demanda**: Cantidad de producto de acuerdo con la categoría del pedido a satisfacer.\n",
    "\n",
    "**costo_transporte**: Costo por unidad de tiempo de espera para satisfacer la demanda.\n",
    "\n",
    "**id**: Identificadores de Centro de Acopio (CAi).\n",
    "\n",
    "**kg**: Stock del Producto en el Centro de Acopio (Stock(CAi)).\n",
    "\n",
    "**produccion_potencial**: (Ppotencial(CAi)).\n",
    "\n",
    "**costos_transporte**: (cTransp(CAi)).\n",
    "\n",
    "**precio**: Precio del Producto por Kilo (Precio(CAi)).\n",
    "\n",
    "**tiempos_transporte**:Tiempos de Transporte (TiempoTransp(CAi)).\n",
    "\n",
    "**tiempo_alistamiento**:Tiempos de Alistamiento (TiempoAlistam(CAi))."
   ]
  },
  {
   "cell_type": "code",
   "execution_count": 40,
   "metadata": {},
   "outputs": [],
   "source": [
    "centros_acopio_df = pd.read_excel('data/centros_acopio.xlsx')\n",
    "tiempos_transporte_df = pd.read_excel('data/tiempos_transporte.xlsx')\n",
    "costo_transporte_df = pd.read_excel('data/costo_transporte.xlsx')"
   ]
  },
  {
   "cell_type": "markdown",
   "metadata": {},
   "source": [
    "# REPRESENTACIÓN DE DATOS DE ENTRADA"
   ]
  },
  {
   "cell_type": "code",
   "execution_count": 41,
   "metadata": {},
   "outputs": [
    {
     "name": "stdout",
     "output_type": "stream",
     "text": [
      "Centros de Acopio:\n",
      "+---------+---------+--------------+----------+--------------+-------------------+-----------------+\n",
      "| Id_CA   |   Stock |   Ppotencial |   Precio |   CtranspCli |   TiempoTranspCli |   TiempoAlistam |\n",
      "+=========+=========+==============+==========+==============+===================+=================+\n",
      "| CA1     |      10 |        0.5   |     5000 |        21841 |                37 |              10 |\n",
      "+---------+---------+--------------+----------+--------------+-------------------+-----------------+\n",
      "| CA2     |      12 |        0.625 |    10000 |        21180 |                42 |               9 |\n",
      "+---------+---------+--------------+----------+--------------+-------------------+-----------------+\n",
      "| CA3     |       4 |       14     |    15000 |        24132 |                32 |              47 |\n",
      "+---------+---------+--------------+----------+--------------+-------------------+-----------------+\n",
      "| CA4     |       8 |       13     |     2000 |        14215 |                34 |              41 |\n",
      "+---------+---------+--------------+----------+--------------+-------------------+-----------------+\n",
      "| CA5     |      18 |       15     |    30000 |        21654 |                22 |              42 |\n",
      "+---------+---------+--------------+----------+--------------+-------------------+-----------------+\n",
      "| CA6     |       6 |       14     |    50000 |        20303 |                41 |              16 |\n",
      "+---------+---------+--------------+----------+--------------+-------------------+-----------------+\n",
      "| CA7     |      12 |       13     |    15000 |        24553 |                32 |               5 |\n",
      "+---------+---------+--------------+----------+--------------+-------------------+-----------------+\n",
      "| CA8     |       2 |       12.5   |     3000 |        21658 |                16 |              37 |\n",
      "+---------+---------+--------------+----------+--------------+-------------------+-----------------+\n",
      "| CA9     |      30 |       15     |    30000 |        14528 |                27 |              26 |\n",
      "+---------+---------+--------------+----------+--------------+-------------------+-----------------+\n",
      "| CA10    |      15 |       18     |    19000 |        23424 |                39 |              19 |\n",
      "+---------+---------+--------------+----------+--------------+-------------------+-----------------+\n",
      "\n",
      "Matriz 'Costos de Transporte':\n",
      "+------+-------+-------+-------+-------+-------+-------+-------+-------+-------+--------+\n",
      "|      |   CA1 |   CA2 |   CA3 |   CA4 |   CA5 |   CA6 |   CA7 |   CA8 |   CA9 |   CA10 |\n",
      "+======+=======+=======+=======+=======+=======+=======+=======+=======+=======+========+\n",
      "| CA1  |     0 | 17071 | 29902 | 28862 | 22693 | 26892 | 22793 | 20966 | 21399 |  12712 |\n",
      "+------+-------+-------+-------+-------+-------+-------+-------+-------+-------+--------+\n",
      "| CA2  | 17071 |     0 | 20339 | 12897 | 28898 | 15196 | 16108 | 14577 | 21908 |  17243 |\n",
      "+------+-------+-------+-------+-------+-------+-------+-------+-------+-------+--------+\n",
      "| CA3  | 29902 | 20339 |     0 | 23705 | 24941 | 20198 | 26903 | 23788 | 22812 |  24456 |\n",
      "+------+-------+-------+-------+-------+-------+-------+-------+-------+-------+--------+\n",
      "| CA4  | 28862 | 12897 | 23705 |     0 | 22424 | 20542 | 19060 | 12041 | 19133 |  19640 |\n",
      "+------+-------+-------+-------+-------+-------+-------+-------+-------+-------+--------+\n",
      "| CA5  | 22693 | 28898 | 24941 | 22424 |     0 | 16321 | 22995 | 14321 | 15803 |  13582 |\n",
      "+------+-------+-------+-------+-------+-------+-------+-------+-------+-------+--------+\n",
      "| CA6  | 26892 | 15196 | 20198 | 20542 | 16321 |     0 | 13500 | 17573 | 21569 |  25485 |\n",
      "+------+-------+-------+-------+-------+-------+-------+-------+-------+-------+--------+\n",
      "| CA7  | 22793 | 16108 | 26903 | 19060 | 22995 | 13500 |     0 | 21993 | 16491 |  22089 |\n",
      "+------+-------+-------+-------+-------+-------+-------+-------+-------+-------+--------+\n",
      "| CA8  | 20966 | 14577 | 23788 | 12041 | 14321 | 17573 | 21993 |     0 | 29942 |  26153 |\n",
      "+------+-------+-------+-------+-------+-------+-------+-------+-------+-------+--------+\n",
      "| CA9  | 21399 | 21908 | 22812 | 19133 | 15803 | 21569 | 16491 | 29942 |     0 |  17745 |\n",
      "+------+-------+-------+-------+-------+-------+-------+-------+-------+-------+--------+\n",
      "| CA10 | 12712 | 17243 | 24456 | 19640 | 13582 | 25485 | 22089 | 26153 | 17745 |      0 |\n",
      "+------+-------+-------+-------+-------+-------+-------+-------+-------+-------+--------+\n",
      "\n",
      "Tabla 'Costos de Transporte':\n",
      "+------+-------+-------+-------+-------+-------+-------+-------+-------+-------+-------+\n",
      "|      |  CA1  |  CA2  |  CA3  |  CA4  |  CA5  |  CA6  |  CA7  |  CA8  |  CA9  |  CA10 |\n",
      "+------+-------+-------+-------+-------+-------+-------+-------+-------+-------+-------+\n",
      "| CA1  |   0   | 17071 | 29902 | 28862 | 22693 | 26892 | 22793 | 20966 | 21399 | 12712 |\n",
      "| CA2  | 17071 |   0   | 20339 | 12897 | 28898 | 15196 | 16108 | 14577 | 21908 | 17243 |\n",
      "| CA3  | 29902 | 20339 |   0   | 23705 | 24941 | 20198 | 26903 | 23788 | 22812 | 24456 |\n",
      "| CA4  | 28862 | 12897 | 23705 |   0   | 22424 | 20542 | 19060 | 12041 | 19133 | 19640 |\n",
      "| CA5  | 22693 | 28898 | 24941 | 22424 |   0   | 16321 | 22995 | 14321 | 15803 | 13582 |\n",
      "| CA6  | 26892 | 15196 | 20198 | 20542 | 16321 |   0   | 13500 | 17573 | 21569 | 25485 |\n",
      "| CA7  | 22793 | 16108 | 26903 | 19060 | 22995 | 13500 |   0   | 21993 | 16491 | 22089 |\n",
      "| CA8  | 20966 | 14577 | 23788 | 12041 | 14321 | 17573 | 21993 |   0   | 29942 | 26153 |\n",
      "| CA9  | 21399 | 21908 | 22812 | 19133 | 15803 | 21569 | 16491 | 29942 |   0   | 17745 |\n",
      "| CA10 | 12712 | 17243 | 24456 | 19640 | 13582 | 25485 | 22089 | 26153 | 17745 |   0   |\n",
      "+------+-------+-------+-------+-------+-------+-------+-------+-------+-------+-------+\n",
      "\n",
      "Matriz 'Tiempos de Transporte':\n",
      "+------+-------+-------+-------+-------+-------+-------+-------+-------+-------+--------+\n",
      "|      |   CA1 |   CA2 |   CA3 |   CA4 |   CA5 |   CA6 |   CA7 |   CA8 |   CA9 |   CA10 |\n",
      "+======+=======+=======+=======+=======+=======+=======+=======+=======+=======+========+\n",
      "| CA1  |     0 |    35 |    19 |    44 |    21 |    43 |    34 |    19 |    12 |     22 |\n",
      "+------+-------+-------+-------+-------+-------+-------+-------+-------+-------+--------+\n",
      "| CA2  |    35 |     0 |    44 |    17 |    43 |    45 |    22 |    46 |    29 |     15 |\n",
      "+------+-------+-------+-------+-------+-------+-------+-------+-------+-------+--------+\n",
      "| CA3  |    19 |    44 |     0 |    35 |    23 |    15 |    44 |    30 |    32 |     26 |\n",
      "+------+-------+-------+-------+-------+-------+-------+-------+-------+-------+--------+\n",
      "| CA4  |    44 |    17 |    35 |     0 |    46 |    28 |    40 |    41 |    12 |     20 |\n",
      "+------+-------+-------+-------+-------+-------+-------+-------+-------+-------+--------+\n",
      "| CA5  |    21 |    43 |    23 |    46 |     0 |    13 |    28 |    12 |    28 |     35 |\n",
      "+------+-------+-------+-------+-------+-------+-------+-------+-------+-------+--------+\n",
      "| CA6  |    43 |    45 |    15 |    28 |    13 |     0 |    24 |    46 |    17 |     23 |\n",
      "+------+-------+-------+-------+-------+-------+-------+-------+-------+-------+--------+\n",
      "| CA7  |    34 |    22 |    44 |    40 |    28 |    24 |     0 |    37 |    19 |     43 |\n",
      "+------+-------+-------+-------+-------+-------+-------+-------+-------+-------+--------+\n",
      "| CA8  |    19 |    46 |    30 |    41 |    12 |    46 |    37 |     0 |    46 |     47 |\n",
      "+------+-------+-------+-------+-------+-------+-------+-------+-------+-------+--------+\n",
      "| CA9  |    12 |    29 |    32 |    12 |    28 |    17 |    19 |    46 |     0 |     23 |\n",
      "+------+-------+-------+-------+-------+-------+-------+-------+-------+-------+--------+\n",
      "| CA10 |    22 |    15 |    26 |    20 |    35 |    23 |    43 |    47 |    23 |      0 |\n",
      "+------+-------+-------+-------+-------+-------+-------+-------+-------+-------+--------+\n",
      "\n",
      "Tabla 'Tiempos de Transporte':\n",
      "+------+-----+-----+-----+-----+-----+-----+-----+-----+-----+------+\n",
      "|      | CA1 | CA2 | CA3 | CA4 | CA5 | CA6 | CA7 | CA8 | CA9 | CA10 |\n",
      "+------+-----+-----+-----+-----+-----+-----+-----+-----+-----+------+\n",
      "| CA1  |  0  |  35 |  19 |  44 |  21 |  43 |  34 |  19 |  12 |  22  |\n",
      "| CA2  |  35 |  0  |  44 |  17 |  43 |  45 |  22 |  46 |  29 |  15  |\n",
      "| CA3  |  19 |  44 |  0  |  35 |  23 |  15 |  44 |  30 |  32 |  26  |\n",
      "| CA4  |  44 |  17 |  35 |  0  |  46 |  28 |  40 |  41 |  12 |  20  |\n",
      "| CA5  |  21 |  43 |  23 |  46 |  0  |  13 |  28 |  12 |  28 |  35  |\n",
      "| CA6  |  43 |  45 |  15 |  28 |  13 |  0  |  24 |  46 |  17 |  23  |\n",
      "| CA7  |  34 |  22 |  44 |  40 |  28 |  24 |  0  |  37 |  19 |  43  |\n",
      "| CA8  |  19 |  46 |  30 |  41 |  12 |  46 |  37 |  0  |  46 |  47  |\n",
      "| CA9  |  12 |  29 |  32 |  12 |  28 |  17 |  19 |  46 |  0  |  23  |\n",
      "| CA10 |  22 |  15 |  26 |  20 |  35 |  23 |  43 |  47 |  23 |  0   |\n",
      "+------+-----+-----+-----+-----+-----+-----+-----+-----+-----+------+\n",
      "\n"
     ]
    }
   ],
   "source": [
    "centros_acopio = centros_acopio_df.copy()\n",
    "headers = [\"Id_CA\", \"Stock\", \"Ppotencial\", \"Precio\", \"CtranspCli\", \"TiempoTranspCli\", \"TiempoAlistam\"]\n",
    "table = [[row[\"Id_CA\"], row[\"Stock\"], row[\"Ppotencial\"], row[\"Precio\"], row[\"CtranspCli\"], row[\"TiempoTranspCli\"], row[\"TiempoAlistam\"]] for _, row in centros_acopio.iterrows()]\n",
    "\n",
    "print(\"Centros de Acopio:\")\n",
    "print(tabulate(table, headers=headers, tablefmt='grid'))\n",
    "print()\n",
    "\n",
    "costo_transporte_df.columns = [''] + list(costo_transporte_df.columns[1:])\n",
    "tiempos_transporte_df.columns = [''] + list(tiempos_transporte_df.columns[1:])\n",
    "\n",
    "print(\"Matriz 'Costos de Transporte':\")\n",
    "print(tabulate(costo_transporte_df, tablefmt='grid', showindex=False, headers='keys'))\n",
    "print()\n",
    "\n",
    "table = PrettyTable()\n",
    "table.field_names = costo_transporte_df.columns.tolist()\n",
    "for row in costo_transporte_df.values:\n",
    "    table.add_row(list(row))\n",
    "\n",
    "print(\"Tabla 'Costos de Transporte':\")\n",
    "print(table)\n",
    "print()\n",
    "\n",
    "print(\"Matriz 'Tiempos de Transporte':\")\n",
    "print(tabulate(tiempos_transporte_df, tablefmt='grid', showindex=False, headers='keys'))\n",
    "print()\n",
    "\n",
    "table = PrettyTable()\n",
    "table.field_names = tiempos_transporte_df.columns.tolist()\n",
    "for row in tiempos_transporte_df.values:\n",
    "    table.add_row(list(row))\n",
    "\n",
    "print(\"Tabla 'Tiempos de Transporte':\")\n",
    "print(table)\n",
    "print()"
   ]
  },
  {
   "cell_type": "markdown",
   "metadata": {},
   "source": [
    "# FUNCIÓN DE OPTIMIZACIÓN PARA UN CENTRO PRINCIPAL ESPECÍFICO\n"
   ]
  },
  {
   "cell_type": "markdown",
   "metadata": {},
   "source": [
    "Este modelo cuenta con una función principal llamada optimizar_con_centro_principal, la cual realiza una optimización para determinar la mejor manera de despachar y transportar productos entre centros de acopio principal hasta el cliente, minimizando los costos. A continuación, se presenta un resumen de su contenido:"
   ]
  },
  {
   "cell_type": "markdown",
   "metadata": {},
   "source": [
    "**1. Creación del Modelo:** Se define un modelo de optimización usando Pyomo (pyo.ConcreteModel())."
   ]
  },
  {
   "cell_type": "markdown",
   "metadata": {},
   "source": [
    "**2. Conjunto de datos:** La función utiliza un conjunto de centros de acopio, definido por el rango desde 0 hasta el número total de centros menos uno. Este conjunto es utilizado para indexar las variables y parámetros en el modelo."
   ]
  },
  {
   "cell_type": "markdown",
   "metadata": {},
   "source": [
    "**3. Definición de parámetros:** Los parámetros son fundamentales para la optimización, ya que incluyen la cantidad total que debe ser satisfecha, los costos asociados al tiempo de alistamiento y los precios de los productos en los diferentes centros. También gestionan datos sobre el stock y el potencial de cada centro, así como los costos y tiempos de transporte. Adicionalmente, se establece un límite máximo de tiempo para alistamiento y transporte, y se define el centro de acopio principal que se evaluará. Estos parámetros permiten al modelo gestionar de manera eficiente la distribución de productos y minimizar los costos totales."
   ]
  },
  {
   "cell_type": "markdown",
   "metadata": {},
   "source": [
    "**4. Variables de decisión:** El modelo define dos tipos de variables: X, que representa la cantidad despachada desde cada centro, y Y, que representa la cantidad transportada entre centros. Ambas variables están restringidas a valores no negativos."
   ]
  },
  {
   "cell_type": "markdown",
   "metadata": {},
   "source": [
    "**5. Función Objetivo:**"
   ]
  },
  {
   "cell_type": "markdown",
   "metadata": {},
   "source": [
    "\\begin{equation}\n",
    "\\text{Minimizar} \\quad \\sum_{i=1, i \\neq p}^{N} \\left[ K(CAi) \\cdot Precio(CAi) + K(CAi) \\cdot cTransp(CAi) + Tiempo(CAi) \\cdot cTiempo \\right] + \\left[ K(CAp) \\cdot Precio(CAp) + Demanda \\cdot cTransp(CAp) + Tiempo(CAp) \\cdot cTiempo \\right]\n",
    "\\end{equation}"
   ]
  },
  {
   "cell_type": "markdown",
   "metadata": {},
   "source": [
    "La función objetivo para minimizar costos se puede desglosar en dos partes principales:\n",
    "\n",
    "a. **Costo de los centros de acopio que no son el principal (i ≠ p):**\n",
    "   \n",
    "\\begin{equation}\n",
    "\\quad \\sum_{i=1, i \\neq p}^{N} \\left[ K(CAi) \\cdot Precio(CAi) + K(CAi) \\cdot cTransp(CAi) + Tiempo(CAi) \\cdot cTiempo \\right] +\n",
    "\\end{equation}\n",
    "\n",
    "   - **K(CAi)** es el stock en el centro de acopio \\( i \\).\n",
    "   - **Precio(CAi)** es el precio en el centro de acopio \\( i \\).\n",
    "   - **cTransp(CAi** es el costo de transporte desde el centro de acopio \\( i \\).\n",
    "   - **Tiempo(CAi)** es el tiempo asociado al centro de acopio \\( i \\).\n",
    "   - **cTiempo** es el costo asociado al tiempo.\n",
    "\n",
    "   *Este término representa el costo total de todos los centros de acopio que no son el principal.*\n",
    "\n",
    "b. **Costo del centro de acopio principal (p):**\n",
    "\n",
    "   \n",
    "\\begin{equation}\n",
    " \\left[ K(CAp) \\cdot Precio(CAp) + Demanda \\cdot cTransp(CAp) + Tiempo(CAp) \\cdot cTiempo \\right]\n",
    "\\end{equation}\n",
    "   \n",
    "\n",
    "   - **K(CAp** es el stock en el centro de acopio principal.\n",
    "   - **Precio(CAp)** es el precio en el centro de acopio principal.\n",
    "   - **Demanda** es la demanda total.\n",
    "   - **cTransp(CAp)** es el costo de transporte desde el centro de acopio principal.\n",
    "   - **Tiempo(CAp)** es el tiempo asociado al centro de acopio principal.\n",
    "   - **cTiempo** es el costo asociado al tiempo.\n",
    "\n",
    "   *Este término representa el costo asociado al centro de acopio principal.*"
   ]
  },
  {
   "cell_type": "markdown",
   "metadata": {},
   "source": [
    "La función objetivo `objective_rule` en Pyomo se compone de dos partes principales:\n",
    "\n",
    "a. **Primera Parte**:\n",
    "   - Calcula los costos asociados a los productos por despachar, el transporte y el tiempo de alistamiento para todos los centros de acopio excepto el centro principal.\n",
    "   \n",
    "b. **Segunda Parte**:\n",
    "   - Calcula los costos de productos despachados, el transporte necesario para satisfacer la demanda total y el tiempo de alistamiento específicamente para el centro principal.\n",
    "\n",
    "Esto asegura que el modelo minimice los costos totales de operación, teniendo en cuenta los diferentes costos involucrados y priorizando el uso del centro principal cuando sea posible."
   ]
  },
  {
   "cell_type": "markdown",
   "metadata": {},
   "source": [
    "**6. Restricciones:**"
   ]
  },
  {
   "cell_type": "markdown",
   "metadata": {},
   "source": [
    "\\begin{equation}\n",
    "\\sum_{i=0}^{N} K(CAi) = Demanda\n",
    "\\end{equation}\n",
    "\n",
    "\\begin{equation}\n",
    "K(CAi) \\leq Stock(CAi) + P_{\\text{potencial}}(CAi) \\quad \\text{para } i=0\\ldots N\n",
    "\\end{equation}\n",
    "\n",
    "\\begin{equation}\n",
    "Tiempo(CAi) = Tiempo_{\\text{Alistam}}(CAi) + Tiempo_{\\text{Transp}}(CAi)\n",
    "\\end{equation}\n",
    "\n",
    "\\begin{equation}\n",
    "Tiempo_{\\text{Alistam}}(CAi) \\leq Tiempo_{\\text{MaxDefinido}} \\quad \\text{para } i=0\\ldots N\n",
    "\\end{equation}"
   ]
  },
  {
   "cell_type": "markdown",
   "metadata": {},
   "source": [
    "La restricciones funcionan de esta manera:\n",
    "\n",
    "a. **Sumatoria del stock igual a la demanda total:**\n",
    "\n",
    "La restricción se expresa de la siguiente manera:\n",
    "\n",
    "\\begin{equation}\n",
    "\\sum_{i=0}^{N} K(CAi) = Demanda\n",
    "\\end{equation}\n",
    "\n",
    "   - **K(CAi)** es el stock en el centro de acopio \\( i \\).\n",
    "   - **Demanda** es la demanda total.\n",
    "\n",
    "   Esta ecuación garantiza que la suma del stock disponible en todos los centros de acopio sea igual a la demanda total. En el código esta restricción asegura que la suma de todas las cantidades asignadas (model.X[i]) debe ser igual a la demanda total (model.demanda). Aquí, model.I representa el conjunto de índices de los centros de distribución.\n",
    "\n",
    "b. **Stock limitado por el inventario disponible y potencial:**\n",
    "\n",
    "La restricción se expresa de la siguiente manera:\n",
    "\n",
    "\\begin{equation}\n",
    "K(CAi) \\leq Stock(CAi) + P_{\\text{potencial}}(CAi) \\quad \\text{para } i=0\\ldots N\n",
    "\\end{equation}\n",
    "\n",
    "   - **K(CAi)** es el stock en el centro de acopio \\( i \\).\n",
    "   - **Stock(CAi)** es el inventario disponible en el centro de acopio \\( i \\).\n",
    "   - **P_potencial(CAi)** es el inventario potencial adicional que se puede obtener en el centro de acopio \\( i \\).\n",
    "\n",
    "   Esta ecuación garantiza que el stock en cada centro de acopio no exceda la suma del inventario disponible y el inventario potencial adicional. En el código esta restricción asegura que la cantidad asignada en cada centro de distribución i (model.X[i]) no exceda la suma del stock disponible (model.Stock[i]) y el stock potencial (model.Ppotencial[i]) en ese centro. La regla se aplica a cada centro de distribución en el conjunto model.I.\n",
    "\n",
    "c. **Tiempo total en cada centro de acopio:**\n",
    "\n",
    "La restricción se expresa de la siguiente manera:\n",
    "\n",
    "\\begin{equation}\n",
    "Tiempo(CAi) = Tiempo_{\\text{Alistam}}(CAi) + Tiempo_{\\text{Transp}}(CAi)\n",
    "\\end{equation}\n",
    "\n",
    "   - **Tiempo(CAi)** es el tiempo total asociado al centro de acopio \\( i \\).\n",
    "   - **Tiempo_Alistam(CAi)** es el tiempo de alistamiento en el centro de acopio \\( i \\).\n",
    "   - **Tiempo_Transp(CAi)** es el tiempo de transporte desde el centro de acopio \\( i \\).\n",
    "\n",
    "   Esta ecuación garantiza el tiempo total en cada centro de acopio como la suma del tiempo de alistamiento y el tiempo de transporte.\n",
    "\n",
    "d. **Límite en el tiempo de alistamiento:**\n",
    "\n",
    "La restricción se expresa de la siguiente manera:\n",
    "\n",
    "\\begin{equation}\n",
    "Tiempo_{\\text{Alistam}}(CAi) \\leq Tiempo_{\\text{MaxDefinido}} \\quad \\text{para } i=0\\ldots N\n",
    "\\end{equation}\n",
    "\n",
    "   - **Tiempo_Alistam(CAi)** es el tiempo de alistamiento en el centro de acopio \\( i \\).\n",
    "   - **Tiempo_MaxDefinido** es el tiempo máximo permitido para el alistamiento.\n",
    "\n",
    "   Esta ecuación garantiza que el tiempo de alistamiento en cada centro de acopio no exceda el tiempo máximo permitido definido previamente."
   ]
  },
  {
   "cell_type": "markdown",
   "metadata": {},
   "source": [
    "En el código las restricciones c y d aseguran que el tiempo de alistamiento en el centro i (model.TiempoAlistam[i]) más el tiempo total de transporte desde el centro i a otros centros (model.tiempos_transporte[i, j] * model.Y[i, j]) no exceda un tiempo máximo definido (model.tiempo_maximo_definido). Este tiempo máximo incluye el tiempo necesario para considerar la producción potencial, asegurando que toda la operación se complete dentro del tiempo permitido para maximizar la producción. Esta regla se aplica a cada centro de distribución en model.I."
   ]
  },
  {
   "cell_type": "markdown",
   "metadata": {},
   "source": [
    "e. **Balance de Transporte**\n",
    "\n",
    "\\begin{equation}\n",
    "\\sum_{j \\in I} Y_{j, i} = X_i \\quad \\text{para cada } i \\neq \\text{CentroPrincipal}\n",
    "\\end{equation}\n",
    " La ecuación garantiza que para cada centro de acopio que no sea el principal, la cantidad total de productos recibidos desde otros centros sea igual a la cantidad que ese centro despacha. Esto es esencial para mantener el equilibrio y la consistencia en el sistema de distribución. En el código esta restricción asegura que la cantidad total transportada hacia un centro i (sum(model.Y[j, i] for j in model.I)) sea igual a la cantidad despachada desde ese centro (model.X[i]), pero solo para los centros que no son el centro principal (i != model.CentroPrincipal). Para el centro principal, esta restricción se omite (pyo.Constraint.Skip), porque el centro principal maneja directamente la demanda y no se transporta nada hacia él."
   ]
  },
  {
   "cell_type": "markdown",
   "metadata": {},
   "source": [
    "f. **Manejo del Centro Principal**\n",
    "\n",
    "\n",
    "La restricción se expresa de la siguiente manera:\n",
    "\n",
    "\\begin{equation}\n",
    "\\sum_{i \\in I} Y_{i, \\text{(CAp)}} = X_{\\text{(CAp)}}\n",
    "\\end{equation}\n",
    "\n",
    "\n",
    "\n",
    "La ecuación garantiza que la cantidad total recibida por el centro principal (de otros centros) sea igual a la cantidad que el centro principal debe despachar, a menos que se trate del centro principal en sí mismo. En el código esta restricción asegura que la suma de las cantidades transportadas desde otros centros i al centro principal (model.Y[i, model.CentroPrincipal]) sea igual a la cantidad asignada en el centro principal (model.X[model.CentroPrincipal]).\n"
   ]
  },
  {
   "cell_type": "markdown",
   "metadata": {},
   "source": [
    "**7. Resolución del Modelo**"
   ]
  },
  {
   "cell_type": "markdown",
   "metadata": {},
   "source": [
    "**Uso de un Solver:** Se utiliza el solver *GLPK* para resolver el modelo y encontrar la solución óptima."
   ]
  },
  {
   "cell_type": "markdown",
   "metadata": {},
   "source": [
    "**8. Recalibración de Costos**"
   ]
  },
  {
   "cell_type": "markdown",
   "metadata": {},
   "source": [
    "**Recalculo del Costo de Tiempo:** Se ajusta el costo de tiempo utilizando los resultados iniciales y el modelo se actualiza mediante la modificación de la función objetivo."
   ]
  },
  {
   "cell_type": "markdown",
   "metadata": {},
   "source": [
    "**9. Resolución de actualización del Modelo**"
   ]
  },
  {
   "cell_type": "markdown",
   "metadata": {},
   "source": [
    "Se resuelve de nuevo para reflejar los cambios."
   ]
  },
  {
   "cell_type": "markdown",
   "metadata": {},
   "source": [
    "**10. Solución óptima**"
   ]
  },
  {
   "cell_type": "markdown",
   "metadata": {},
   "source": [
    "Se identifican los centros involucrados en la red de distribución. Se determina el centro principal, que es responsable de satisfacer la demanda del cliente, mientras se asigna una cantidad específica a cada centro. Se evalúan los costos de transporte desde cada centro hasta el principal, lo que permite calcular el costo total objetivo asociado con la demanda del cliente."
   ]
  },
  {
   "cell_type": "code",
   "execution_count": 48,
   "metadata": {},
   "outputs": [],
   "source": [
    "def minimize_distribution_costs(centro_principal_id, centros_acopio_df, tiempos_transporte_df, costo_transporte_df):\n",
    "    #1. Creación del modelo\n",
    "    model = pyo.ConcreteModel()\n",
    "    \n",
    "    #2. Conjunto de datos\n",
    "    num_centros = len(centros_acopio_df)\n",
    "    model.I = pyo.RangeSet(0, num_centros - 1)\n",
    "\n",
    "    #3. Definición de parámetros\n",
    "    model.demanda = pyo.Param(initialize=60)\n",
    "    model.costo_tiempo = pyo.Param(initialize=100, mutable=True)\n",
    "    model.Costo_Por_Unidad_De_Tiempo = pyo.Param(initialize=60.0, mutable=True, within=pyo.NonNegativeReals)\n",
    "    model.Stock = pyo.Param(model.I, initialize={i: centros_acopio_df.iloc[i]['Stock'] for i in model.I})\n",
    "    model.Ppotencial = pyo.Param(model.I, initialize={i: centros_acopio_df.iloc[i]['Ppotencial'] for i in model.I})\n",
    "    model.Precio = pyo.Param(model.I, initialize={i: centros_acopio_df.iloc[i]['Precio'] for i in model.I})\n",
    "    model.CTranspCli = pyo.Param(model.I, initialize={i: centros_acopio_df.iloc[i]['CtranspCli'] for i in model.I})\n",
    "    model.TiempoTranspCli = pyo.Param(model.I, initialize={i: centros_acopio_df.iloc[i]['TiempoTranspCli'] for i in model.I})\n",
    "    model.TiempoAlistam = pyo.Param(model.I, initialize={i: centros_acopio_df.iloc[i]['TiempoAlistam'] for i in model.I})\n",
    "    model.costos_transporte = pyo.Param(model.I, model.I, initialize={(i, j): costo_transporte_df.iloc[i, j+1] for i in model.I for j in model.I})\n",
    "    model.tiempos_transporte = pyo.Param(model.I, model.I, initialize={(i, j): tiempos_transporte_df.iloc[i, j+1] for i in model.I for j in model.I})\n",
    "    model.tiempo_maximo_definido = pyo.Param(initialize=360)\n",
    "    model.CentroPrincipal = pyo.Param(initialize=centro_principal_id)\n",
    "    \n",
    "    #4. Variables de decisión\n",
    "    model.X = pyo.Var(model.I, within=pyo.NonNegativeReals)  # Cantidad despachada desde cada centro\n",
    "    model.Y = pyo.Var(model.I, model.I, within=pyo.NonNegativeReals)  # Cantidad transportada entre centros\n",
    "    \n",
    "    #5. Función Objetivo\n",
    "    def objective_rule(model):\n",
    "        return sum(\n",
    "            model.X[i] * model.Precio[i] + \n",
    "            model.X[i] * model.CTranspCli[i] + \n",
    "            model.TiempoAlistam[i] * model.costo_tiempo \n",
    "            for i in model.I if i != model.CentroPrincipal\n",
    "        ) + (\n",
    "            model.X[model.CentroPrincipal] * model.Precio[model.CentroPrincipal] + \n",
    "            model.demanda * model.CTranspCli[model.CentroPrincipal] + \n",
    "            model.TiempoAlistam[model.CentroPrincipal] * model.costo_tiempo\n",
    "        )\n",
    "\n",
    "    model.CostoTotal = pyo.Objective(rule=objective_rule, sense=pyo.minimize)\n",
    "\n",
    "    #6. Restricciones\n",
    "    model.DemandaSatisfecha = pyo.Constraint(expr=sum(model.X[i] for i in model.I) == model.demanda)\n",
    "    model.CombinedStockPotential = pyo.Constraint(model.I, rule=lambda model, i: model.X[i] <= model.Stock[i] + model.Ppotencial[i])\n",
    "    model.CombinedTiempoTotalAlistamMax = pyo.Constraint(model.I, rule=lambda model, i: model.TiempoAlistam[i] + sum(model.tiempos_transporte[i, j] * model.Y[i, j] for j in model.I) <= model.tiempo_maximo_definido)\n",
    "    model.BalanceTransport = pyo.Constraint(model.I, rule=lambda model, i: sum(model.Y[j, i] for j in model.I) == model.X[i] if i != model.CentroPrincipal else pyo.Constraint.Skip)\n",
    "    model.CentroPrincipalManejo = pyo.Constraint(expr=sum(model.Y[i, model.CentroPrincipal] for i in model.I) == model.X[model.CentroPrincipal])\n",
    "\n",
    "    #7. Resolución del Modelo\n",
    "    solver = pyo.SolverFactory('glpk')\n",
    "    results = solver.solve(model)\n",
    "    \n",
    "    #8. Recalibración de Costos\n",
    "    Costo_Total = pyo.value(model.CostoTotal)\n",
    "    costo_tiempo_actualizado = model.tiempo_maximo_definido() / Costo_Total\n",
    "    model.costo_tiempo.set_value(costo_tiempo_actualizado)\n",
    "    \n",
    "    #9. Resolución de actualización del Modelo\n",
    "    results = solver.solve(model, tee=True)\n",
    "    \n",
    "    #10. Solución óptima\n",
    "    #a. Cálculo de costos de transporte de Centros al Centro Principal\n",
    "    total_costo_transporte = 0\n",
    "    centros_despachados = set()\n",
    "\n",
    "    for i in model.I:\n",
    "        for j in model.I:\n",
    "            value_Y = pyo.value(model.Y[i, j])\n",
    "            if value_Y and value_Y > 0:\n",
    "                centros_despachados.add(i)\n",
    "                centros_despachados.add(j)\n",
    "    \n",
    "    for i in model.I:\n",
    "        if i != model.CentroPrincipal:\n",
    "            cantidad_transportada = sum(pyo.value(model.Y[i, j]) for j in model.I if pyo.value(model.Y[i, j]) > 0)\n",
    "            if cantidad_transportada > 0:\n",
    "                costo_transportado = cantidad_transportada * model.costos_transporte[i, model.CentroPrincipal]\n",
    "                total_costo_transporte += costo_transportado\n",
    "\n",
    "    #b. Reporte de resultados\n",
    "    print(f\"\\nCentros seleccionados para la operación:\")\n",
    "    for centro in centros_despachados:\n",
    "        print(f\"Centro {centro + 1}\")\n",
    "    \n",
    "    print(f\"\\nCentro principal seleccionado: {model.CentroPrincipal.value + 1}\")\n",
    "    \n",
    "    print(\"\\nCantidad asignada:\")\n",
    "    for i in model.I:\n",
    "        cantidad_asignada = pyo.value(model.X[i])\n",
    "        print(f\"Centro {i + 1}: {cantidad_asignada:.2f}\")\n",
    "    \n",
    "    print(f'\\nCosto total del transporte desde centros al centro {centro_principal_id + 1} como Centro Principal = ${total_costo_transporte:,.2f}')\n",
    "    return pyo.value(model.CostoTotal), total_costo_transporte"
   ]
  },
  {
   "cell_type": "markdown",
   "metadata": {},
   "source": [
    "# ANÁLISIS DE COSTOS Y TIEMPOS DE EJECUCIÓN"
   ]
  },
  {
   "cell_type": "markdown",
   "metadata": {},
   "source": [
    "Se itera sobre todos los centros para calcular los costos considerando cada uno como centro principal. Estos datos se presentan en una tabla para identificar cuál de los centros ofrece el costo más óptimo para ser el centro principal definitivo."
   ]
  },
  {
   "cell_type": "code",
   "execution_count": 49,
   "metadata": {},
   "outputs": [
    {
     "name": "stdout",
     "output_type": "stream",
     "text": [
      "\n",
      "*** Optimizando para el Centro 1 como Centro Principal ***\n",
      "GLPSOL--GLPK LP/MIP Solver 5.0\n",
      "Parameter(s) specified in the command line:\n",
      " --write /tmp/tmpt819tyx3.glpk.raw --wglp /tmp/tmpdki51v_s.glpk.glp --cpxlp\n",
      " /tmp/tmp0qzx8096.pyomo.lp\n",
      "Reading problem data from '/tmp/tmp0qzx8096.pyomo.lp'...\n",
      "30 rows, 110 columns, 209 non-zeros\n",
      "429 lines were read\n",
      "Writing problem data to '/tmp/tmpdki51v_s.glpk.glp'...\n",
      "385 lines were written\n",
      "GLPK Simplex Optimizer 5.0\n",
      "30 rows, 110 columns, 209 non-zeros\n",
      "Preprocessing...\n",
      "20 rows, 99 columns, 189 non-zeros\n",
      "Scaling...\n",
      " A: min|aij| =  1.000e+00  max|aij| =  4.700e+01  ratio =  4.700e+01\n",
      "GM: min|aij| =  7.118e-01  max|aij| =  1.405e+00  ratio =  1.974e+00\n",
      "EQ: min|aij| =  5.080e-01  max|aij| =  1.000e+00  ratio =  1.968e+00\n",
      "Constructing initial basis...\n",
      "Size of triangular part is 20\n",
      "      0: obj =   1.610460036e+06 inf =   4.943e+01 (1)\n",
      "      3: obj =   2.767041661e+06 inf =   0.000e+00 (0)\n",
      "*     5: obj =   2.508470036e+06 inf =   0.000e+00 (0)\n",
      "OPTIMAL LP SOLUTION FOUND\n",
      "Time used:   0.0 secs\n",
      "Memory used: 0.1 Mb (113148 bytes)\n",
      "Writing basic solution to '/tmp/tmpt819tyx3.glpk.raw'...\n",
      "149 lines were written\n",
      "ERROR: evaluating object as numeric value: Y[0,0]\n",
      "        (object: <class 'pyomo.core.base.var._GeneralVarData'>)\n",
      "    No value for uninitialized NumericValue object Y[0,0]\n"
     ]
    },
    {
     "ename": "ValueError",
     "evalue": "No value for uninitialized NumericValue object Y[0,0]",
     "output_type": "error",
     "traceback": [
      "\u001b[0;31m---------------------------------------------------------------------------\u001b[0m",
      "\u001b[0;31mValueError\u001b[0m                                Traceback (most recent call last)",
      "Cell \u001b[0;32mIn[49], line 11\u001b[0m\n\u001b[1;32m      7\u001b[0m \u001b[38;5;28mprint\u001b[39m(\u001b[38;5;124mf\u001b[39m\u001b[38;5;124m'\u001b[39m\u001b[38;5;130;01m\\n\u001b[39;00m\u001b[38;5;124m*** Optimizando para el Centro \u001b[39m\u001b[38;5;132;01m{\u001b[39;00mcentro_id\u001b[38;5;250m \u001b[39m\u001b[38;5;241m+\u001b[39m\u001b[38;5;250m \u001b[39m\u001b[38;5;241m1\u001b[39m\u001b[38;5;132;01m}\u001b[39;00m\u001b[38;5;124m como Centro Principal ***\u001b[39m\u001b[38;5;124m'\u001b[39m)\n\u001b[1;32m      9\u001b[0m start_time \u001b[38;5;241m=\u001b[39m time\u001b[38;5;241m.\u001b[39mtime()\n\u001b[0;32m---> 11\u001b[0m resultado_optimizacion \u001b[38;5;241m=\u001b[39m \u001b[43mminimize_distribution_costs\u001b[49m\u001b[43m(\u001b[49m\n\u001b[1;32m     12\u001b[0m \u001b[43m    \u001b[49m\u001b[43mcentro_principal_id\u001b[49m\u001b[38;5;241;43m=\u001b[39;49m\u001b[43mcentro_id\u001b[49m\u001b[43m,\u001b[49m\n\u001b[1;32m     13\u001b[0m \u001b[43m    \u001b[49m\u001b[43mcentros_acopio_df\u001b[49m\u001b[38;5;241;43m=\u001b[39;49m\u001b[43mcentros_acopio_df\u001b[49m\u001b[43m,\u001b[49m\n\u001b[1;32m     14\u001b[0m \u001b[43m    \u001b[49m\u001b[43mtiempos_transporte_df\u001b[49m\u001b[38;5;241;43m=\u001b[39;49m\u001b[43mtiempos_transporte_df\u001b[49m\u001b[43m,\u001b[49m\n\u001b[1;32m     15\u001b[0m \u001b[43m    \u001b[49m\u001b[43mcosto_transporte_df\u001b[49m\u001b[38;5;241;43m=\u001b[39;49m\u001b[43mcosto_transporte_df\u001b[49m\u001b[43m,\u001b[49m\n\u001b[1;32m     16\u001b[0m \u001b[43m\u001b[49m\u001b[43m)\u001b[49m\n\u001b[1;32m     18\u001b[0m end_time \u001b[38;5;241m=\u001b[39m time\u001b[38;5;241m.\u001b[39mtime()\n\u001b[1;32m     19\u001b[0m elapsed_time \u001b[38;5;241m=\u001b[39m end_time \u001b[38;5;241m-\u001b[39m start_time\n",
      "Cell \u001b[0;32mIn[48], line 68\u001b[0m, in \u001b[0;36mminimize_distribution_costs\u001b[0;34m(centro_principal_id, centros_acopio_df, tiempos_transporte_df, costo_transporte_df)\u001b[0m\n\u001b[1;32m     66\u001b[0m \u001b[38;5;28;01mfor\u001b[39;00m i \u001b[38;5;129;01min\u001b[39;00m model\u001b[38;5;241m.\u001b[39mI:\n\u001b[1;32m     67\u001b[0m     \u001b[38;5;28;01mfor\u001b[39;00m j \u001b[38;5;129;01min\u001b[39;00m model\u001b[38;5;241m.\u001b[39mI:\n\u001b[0;32m---> 68\u001b[0m         value_Y \u001b[38;5;241m=\u001b[39m \u001b[43mpyo\u001b[49m\u001b[38;5;241;43m.\u001b[39;49m\u001b[43mvalue\u001b[49m\u001b[43m(\u001b[49m\u001b[43mmodel\u001b[49m\u001b[38;5;241;43m.\u001b[39;49m\u001b[43mY\u001b[49m\u001b[43m[\u001b[49m\u001b[43mi\u001b[49m\u001b[43m,\u001b[49m\u001b[43m \u001b[49m\u001b[43mj\u001b[49m\u001b[43m]\u001b[49m\u001b[43m)\u001b[49m\n\u001b[1;32m     69\u001b[0m         \u001b[38;5;28;01mif\u001b[39;00m value_Y \u001b[38;5;129;01mand\u001b[39;00m value_Y \u001b[38;5;241m>\u001b[39m \u001b[38;5;241m0\u001b[39m:\n\u001b[1;32m     70\u001b[0m             centros_despachados\u001b[38;5;241m.\u001b[39madd(i)\n",
      "File \u001b[0;32m/usr/local/lib64/python3.11/site-packages/pyomo/common/numeric_types.py:247\u001b[0m, in \u001b[0;36mvalue\u001b[0;34m(obj, exception)\u001b[0m\n\u001b[1;32m    245\u001b[0m     tmp \u001b[38;5;241m=\u001b[39m obj(exception\u001b[38;5;241m=\u001b[39m\u001b[38;5;28;01mTrue\u001b[39;00m)\n\u001b[1;32m    246\u001b[0m     \u001b[38;5;28;01mif\u001b[39;00m tmp \u001b[38;5;129;01mis\u001b[39;00m \u001b[38;5;28;01mNone\u001b[39;00m:\n\u001b[0;32m--> 247\u001b[0m         \u001b[38;5;28;01mraise\u001b[39;00m \u001b[38;5;167;01mValueError\u001b[39;00m(\n\u001b[1;32m    248\u001b[0m             \u001b[38;5;124m\"\u001b[39m\u001b[38;5;124mNo value for uninitialized NumericValue object \u001b[39m\u001b[38;5;132;01m%s\u001b[39;00m\u001b[38;5;124m\"\u001b[39m \u001b[38;5;241m%\u001b[39m (obj\u001b[38;5;241m.\u001b[39mname,)\n\u001b[1;32m    249\u001b[0m         )\n\u001b[1;32m    250\u001b[0m     \u001b[38;5;28;01mreturn\u001b[39;00m tmp\n\u001b[1;32m    251\u001b[0m \u001b[38;5;28;01mexcept\u001b[39;00m TemplateExpressionError:\n\u001b[1;32m    252\u001b[0m     \u001b[38;5;66;03m# Template expressions work by catching this error type. So\u001b[39;00m\n\u001b[1;32m    253\u001b[0m     \u001b[38;5;66;03m# we should defer this error handling and not log an error\u001b[39;00m\n\u001b[1;32m    254\u001b[0m     \u001b[38;5;66;03m# message.\u001b[39;00m\n",
      "\u001b[0;31mValueError\u001b[0m: No value for uninitialized NumericValue object Y[0,0]"
     ]
    }
   ],
   "source": [
    "resultados = {}\n",
    "tiempos_ejecucion = []\n",
    "num_iteraciones = 0\n",
    "\n",
    "for centro_id in range(len(centros_acopio_df)):\n",
    "    num_iteraciones += 1\n",
    "    print(f'\\n*** Optimizando para el Centro {centro_id + 1} como Centro Principal ***')\n",
    "    \n",
    "    start_time = time.time()\n",
    "\n",
    "    resultado_optimizacion = minimize_distribution_costs(\n",
    "        centro_principal_id=centro_id,\n",
    "        centros_acopio_df=centros_acopio_df,\n",
    "        tiempos_transporte_df=tiempos_transporte_df,\n",
    "        costo_transporte_df=costo_transporte_df,\n",
    "    )\n",
    "\n",
    "    end_time = time.time()\n",
    "    elapsed_time = end_time - start_time\n",
    "    tiempos_ejecucion.append(elapsed_time)\n",
    "\n",
    "    costo_total_valor, costo_transporte_valor = resultado_optimizacion\n",
    "\n",
    "    resultados[f'{centro_id + 1}'] = {\n",
    "        'costo_total': costo_total_valor,\n",
    "        'costo_transporte': costo_transporte_valor,\n",
    "        'tiempo_ejecucion': elapsed_time\n",
    "    }\n",
    "\n",
    "    print(f'Objetivo de costo total para el centro {centro_id + 1} como Centro Principal = ${costo_total_valor:,.2f}')\n",
    "    print(f'Costo de transporte para el centro {centro_id + 1} = ${costo_transporte_valor:,.2f}')\n",
    "    print(f'Tiempo de ejecución: {elapsed_time:.2f} segundos\\n\\n')\n",
    "\n",
    "promedio_tiempo = sum(tiempos_ejecucion) / len(tiempos_ejecucion)\n",
    "\n",
    "for _ in range(117):\n",
    "    print('-', end='')\n",
    "print()\n",
    "print('\\n\\nTabla de costos objetivos, costos de transporte y tiempos de ejecución: \\n')\n",
    "\n",
    "tabla = [[centro, \n",
    "          f\"${datos['costo_total']:,.2f}\", \n",
    "          f\"${datos['costo_transporte']:,.2f}\", \n",
    "          f\"{datos['tiempo_ejecucion']:.2f} segundos\"]\n",
    "         for centro, datos in resultados.items()]\n",
    "headers = [\"Centro\", \"Costo Total Objetivo\", \"Costo de Transporte\", \"Tiempo de Ejecución\"]\n",
    "print(tabulate(tabla, headers, tablefmt=\"grid\"))\n",
    "\n",
    "centro_menor_costo = min(resultados, key=lambda x: resultados[x]['costo_total'])\n",
    "costo_menor = resultados[centro_menor_costo]['costo_total']\n",
    "\n",
    "print(f'\\nEl centro con el costo total más óptimo es el Nº {centro_menor_costo}.')\n",
    "print(f'Tiempo promedio de ejecución es: {promedio_tiempo:.2f} segundos')\n",
    "\n",
    "centros = list(resultados.keys())\n",
    "costos_totales = [resultados[centro]['costo_total'] for centro in centros]\n",
    "costos_transporte = [resultados[centro]['costo_transporte'] for centro in centros]\n",
    "\n",
    "plt.figure(figsize=(12, 7))\n",
    "\n",
    "plt.plot(centros, costos_totales, marker='o', linestyle='-', color='blue', label='Costo Total Objetivo')\n",
    "\n",
    "plt.plot(centros, costos_transporte, marker='o', linestyle='--', color='orange', label='Costo de Transporte')\n",
    "\n",
    "for i, txt in enumerate(costos_totales):\n",
    "    plt.annotate(f'{txt:.2f}', (centros[i], costos_totales[i]), textcoords=\"offset points\", xytext=(0,10), ha='center', color='blue')\n",
    "for i, txt in enumerate(costos_transporte):\n",
    "    plt.annotate(f'{txt:.2f}', (centros[i], costos_transporte[i]), textcoords=\"offset points\", xytext=(0,-15), ha='center', color='orange')\n",
    "\n",
    "plt.xlabel('Centros(CA)')\n",
    "plt.ylabel('Costos ($)')\n",
    "plt.title('Comparación de Costos Totales y Costos de Transporte por Centro')\n",
    "plt.legend()\n",
    "plt.grid(True)\n",
    "\n",
    "plt.tight_layout()\n",
    "\n",
    "plt.show()"
   ]
  },
  {
   "cell_type": "markdown",
   "metadata": {},
   "source": [
    "# RESULTADOS"
   ]
  },
  {
   "cell_type": "markdown",
   "metadata": {},
   "source": [
    "Se selecciona el centro de acopio principal de manera definitiva y se optimiza el modelo eligiendo el centro de acopio con el menor costo de transporte al cliente."
   ]
  },
  {
   "cell_type": "code",
   "execution_count": 50,
   "metadata": {},
   "outputs": [
    {
     "name": "stdout",
     "output_type": "stream",
     "text": [
      "\n",
      "Centro Principal Definitivo: 4\n",
      "\n",
      "GLPSOL--GLPK LP/MIP Solver 5.0\n",
      "Parameter(s) specified in the command line:\n",
      " --write /tmp/tmptud0c1vw.glpk.raw --wglp /tmp/tmp7d3m8wu5.glpk.glp --cpxlp\n",
      " /tmp/tmp7hpgqwtj.pyomo.lp\n",
      "Reading problem data from '/tmp/tmp7hpgqwtj.pyomo.lp'...\n",
      "30 rows, 110 columns, 209 non-zeros\n",
      "429 lines were read\n",
      "Writing problem data to '/tmp/tmp7d3m8wu5.glpk.glp'...\n",
      "385 lines were written\n",
      "GLPK Simplex Optimizer 5.0\n",
      "30 rows, 110 columns, 209 non-zeros\n",
      "Preprocessing...\n",
      "20 rows, 99 columns, 189 non-zeros\n",
      "Scaling...\n",
      " A: min|aij| =  1.000e+00  max|aij| =  4.700e+01  ratio =  4.700e+01\n",
      "GM: min|aij| =  7.118e-01  max|aij| =  1.405e+00  ratio =  1.974e+00\n",
      "EQ: min|aij| =  5.080e-01  max|aij| =  1.000e+00  ratio =  1.968e+00\n",
      "Constructing initial basis...\n",
      "Size of triangular part is 20\n",
      "      0: obj =   9.729000452e+05 inf =   3.878e+01 (1)\n",
      "      3: obj =   2.191598545e+06 inf =   0.000e+00 (0)\n",
      "*     4: obj =   1.981725545e+06 inf =   0.000e+00 (0)\n",
      "OPTIMAL LP SOLUTION FOUND\n",
      "Time used:   0.0 secs\n",
      "Memory used: 0.1 Mb (113148 bytes)\n",
      "Writing basic solution to '/tmp/tmptud0c1vw.glpk.raw'...\n",
      "149 lines were written\n",
      "ERROR: evaluating object as numeric value: Y[3,3]\n",
      "        (object: <class 'pyomo.core.base.var._GeneralVarData'>)\n",
      "    No value for uninitialized NumericValue object Y[3,3]\n",
      "Error al optimizar con el centro de acopio con menor costo de transporte al cliente: No value for uninitialized NumericValue object Y[3,3]\n"
     ]
    }
   ],
   "source": [
    "try:\n",
    "    start_time = time.time()\n",
    "    centro_principal_optimo = centros_acopio_df['CtranspCli'].idxmin()\n",
    "    \n",
    "    print(f'\\nCentro Principal Definitivo: {centro_principal_optimo + 1}\\n')\n",
    "    \n",
    "    costo_total_optimo, total_costo_transporte = minimize_distribution_costs(\n",
    "        centro_principal_id=centro_principal_optimo,\n",
    "        centros_acopio_df=centros_acopio_df,\n",
    "        tiempos_transporte_df=tiempos_transporte_df,\n",
    "        costo_transporte_df=costo_transporte_df,\n",
    "    )\n",
    "    print(f'Objetivo de costo total para el centro {centro_principal_optimo + 1} como Centro Principal = ${costo_total_optimo:,.2f}\\n')\n",
    "    end_time = time.time()\n",
    "    elapsed_time = end_time - start_time\n",
    "    print(f'Tiempo de ejecución: {elapsed_time:.2f} segundos')\n",
    "    print(f'Tiempo promedio de ejecución es de {promedio_tiempo:.2f} segundos con un total de {num_iteraciones} iteraciones.')\n",
    "\n",
    "except Exception as e:\n",
    "    print(f\"Error al optimizar con el centro de acopio con menor costo de transporte al cliente: {e}\")"
   ]
  },
  {
   "cell_type": "markdown",
   "metadata": {},
   "source": [
    "Se ha concluido que el centro principal asignado es el número 4, mientras que los centros 1, 2, 3 y 8 se encargarán del suministro de productos a dicho centro. El costo total de transporte desde estos centros al centro principal asciende a 673,064.50. El costo total objetivo para satisfacer la demanda de 60 kg de queso, utilizando el centro principal con la menor inversión en costos posible, es de 1,981,725.55. Esta solución, obtenida mediante el uso del solver *GLPK (GNU Linear Programming Kit)* a través de la biblioteca *Pyomo*, optimiza los costos de transporte y la asignación de cantidades, garantizando una operación logística eficiente y económica. El tiempo de ejecución de 0.13 segundos refleja una capacidad de respuesta inmediata."
   ]
  },
  {
   "cell_type": "code",
   "execution_count": null,
   "metadata": {},
   "outputs": [],
   "source": []
  },
  {
   "cell_type": "code",
   "execution_count": null,
   "metadata": {},
   "outputs": [],
   "source": []
  },
  {
   "cell_type": "code",
   "execution_count": null,
   "metadata": {},
   "outputs": [],
   "source": []
  }
 ],
 "metadata": {
  "colab": {
   "provenance": []
  },
  "kernelspec": {
   "display_name": "Python 3 (ipykernel)",
   "language": "python",
   "name": "python3"
  },
  "language_info": {
   "codemirror_mode": {
    "name": "ipython",
    "version": 3
   },
   "file_extension": ".py",
   "mimetype": "text/x-python",
   "name": "python",
   "nbconvert_exporter": "python",
   "pygments_lexer": "ipython3",
   "version": "3.11.9"
  }
 },
 "nbformat": 4,
 "nbformat_minor": 4
}
