{
 "cells": [
  {
   "cell_type": "markdown",
   "metadata": {},
   "source": [
    "# Modelo de Optimización para la Demanda de Queso Costeño"
   ]
  },
  {
   "cell_type": "markdown",
   "metadata": {},
   "source": [
    "El modelo de optimización presentado está diseñado para gestionar la demanda de queso costeño a través de una plataforma de marketing, utilizando múltiples centros de acopio. El objetivo principal es minimizar los costos asociados con el cumplimiento de la demanda del cliente, considerando los costos de transporte, tiempos de alistamiento y producción potencial en los centros de acopio.\n",
    "\n",
    "**Variables del Problema**\n",
    "\n",
    "**N**: Número de centros de acopio.\n",
    "\n",
    "**CAi**: Identificador del centro de acopio i para i=0…N donde i≠p. Estos centros de acopio complementan las unidades de producto de la demanda que el centro de acopio principal no tiene disponibles. Los centros de acopio **CAi** despachan hacia el centro de acopio principal.\n",
    "\n",
    "**CAp**: Identificador del centro de acopio principal p (**p**∈[0,N] y **p**≠i). Este centro de acopio atiende directamente al cliente y es responsable de enviar la demanda completa al cliente.\n",
    "\n",
    "**K(CAi)**: Cantidad del producto que se despacha desde el centro de acopio **CAi**, incluyendo unidades en stock y unidades potenciales que pueden estar listas en poco tiempo.\n",
    "\n",
    "**Precio(CAi)**: Precio por kilo del producto despachado desde el centro de acopio **CAi**.\n",
    "\n",
    "**cTransp(CAi)**: Costo del transporte del pedido desde el centro de acopio **CAi** a su destino.\n",
    "\n",
    "**TiempoAlistam(CAi)**: Tiempo en horas para alistar el pedido desde el centro de acopio **CAi** a su destino.\n",
    "\n",
    "**TiempoMaxDefinido**: Tiempo máximo definido para considerar la producción potencial.\n",
    "\n",
    "**TiempoTransp(CAi)**: Tiempo de transporte desde el centro de acopio **CAi** a su destino.\n",
    "\n",
    "**Tiempo(CAi)**: Tiempo total en horas para que el pedido llegue desde el centro de acopio **CAi** a su destino, sumando el tiempo de alistamiento y el tiempo de transporte.\n",
    "\n",
    "**cTiempo**: Costo adicional por cada unidad de tiempo contemplado en la variable **Tiempo(CAi)**.\n",
    "\n",
    "**Demanda**: Cantidad de producto solicitada por el cliente.\n",
    "\n",
    "**Stock(CAi)**: Stock del producto en el centro de acopio **CAi**.\n",
    "\n",
    "**Ppotencial(CAi)**: Cantidad de producto que potencialmente puede estar disponible en poco tiempo (potencial del día)."
   ]
  },
  {
   "cell_type": "markdown",
   "metadata": {},
   "source": [
    "*Código desarrollado para la resolución del problema*"
   ]
  },
  {
   "cell_type": "markdown",
   "metadata": {},
   "source": [
    "# IMPORTACIONES"
   ]
  },
  {
   "cell_type": "code",
   "execution_count": 14,
   "metadata": {},
   "outputs": [],
   "source": [
    "from pyomo.environ import *\n",
    "import pyomo.environ as pyo\n",
    "import matplotlib.pyplot as plt\n",
    "import pandas as pd\n",
    "import seaborn as sns\n",
    "from tabulate import tabulate\n",
    "from prettytable import PrettyTable\n",
    "import openpyxl"
   ]
  },
  {
   "cell_type": "markdown",
   "metadata": {},
   "source": [
    "# ENTRADA DE DATOS"
   ]
  },
  {
   "cell_type": "markdown",
   "metadata": {},
   "source": [
    "**demanda**: Cantidad de producto de acuerdo con la categoría del pedido a satisfacer.\n",
    "\n",
    "**costo_transporte**: Costo por unidad de tiempo de espera para satisfacer la demanda.\n",
    "\n",
    "**id**: Identificadores de Centro de Acopio (CAi).\n",
    "\n",
    "**kg**: Stock del Producto en el Centro de Acopio (Stock(CAi)).\n",
    "\n",
    "**produccion_potencial**: (Ppotencial(CAi)).\n",
    "\n",
    "**costos_transporte**: (cTransp(CAi)).\n",
    "\n",
    "**precio**: Precio del Producto por Kilo (Precio(CAi)).\n",
    "\n",
    "**tiempos_transporte**:Tiempos de Transporte (TiempoTransp(CAi)).\n",
    "\n",
    "**tiempo_alistamiento**:Tiempos de Alistamiento (TiempoAlistam(CAi))."
   ]
  },
  {
   "cell_type": "code",
   "execution_count": 15,
   "metadata": {},
   "outputs": [],
   "source": [
    "centros_acopio_df = pd.read_excel('data/centros_acopio.xlsx')\n",
    "tiempos_transporte_df = pd.read_excel('data/tiempos_transporte.xlsx')\n",
    "costo_transporte_df = pd.read_excel('data/costo_transporte.xlsx')"
   ]
  },
  {
   "cell_type": "markdown",
   "metadata": {},
   "source": [
    "# CREACIÓN DEL MODELO"
   ]
  },
  {
   "cell_type": "code",
   "execution_count": 16,
   "metadata": {},
   "outputs": [],
   "source": [
    "model = pyo.ConcreteModel()"
   ]
  },
  {
   "cell_type": "markdown",
   "metadata": {},
   "source": [
    "# CONJUNTOS"
   ]
  },
  {
   "cell_type": "code",
   "execution_count": 17,
   "metadata": {},
   "outputs": [],
   "source": [
    "num_centros = len(centros_acopio_df)\n",
    "model.I = pyo.RangeSet(0, num_centros - 1)"
   ]
  },
  {
   "cell_type": "markdown",
   "metadata": {},
   "source": [
    "# PARAMETROS"
   ]
  },
  {
   "cell_type": "code",
   "execution_count": 18,
   "metadata": {},
   "outputs": [],
   "source": [
    "model.demanda = pyo.Param(initialize=60)\n",
    "model.costo_tiempo = pyo.Param(initialize=100, mutable=True)\n",
    "model.Costo_Por_Unidad_De_Tiempo = pyo.Param(initialize=60.0, mutable=True, within=pyo.NonNegativeReals)\n",
    "model.Stock = pyo.Param(model.I, initialize={i: centros_acopio_df.iloc[i]['Stock'] for i in model.I})\n",
    "model.Ppotencial = pyo.Param(model.I, initialize={i: centros_acopio_df.iloc[i]['Ppotencial'] for i in model.I})\n",
    "model.Precio = pyo.Param(model.I, initialize={i: centros_acopio_df.iloc[i]['Precio'] for i in model.I})\n",
    "model.CTranspCli = pyo.Param(model.I, initialize={i: centros_acopio_df.iloc[i]['CtranspCli'] for i in model.I})\n",
    "model.TiempoTranspCli = pyo.Param(model.I, initialize={i: centros_acopio_df.iloc[i]['TiempoTranspCli'] for i in model.I})\n",
    "model.TiempoAlistam = pyo.Param(model.I, initialize={i: centros_acopio_df.iloc[i]['TiempoAlistam'] for i in model.I})\n",
    "model.costos_transporte = pyo.Param(model.I, model.I, initialize={(i, j): costo_transporte_df.iloc[i, j+1] for i in model.I for j in model.I})\n",
    "model.tiempos_transporte = pyo.Param(model.I, model.I, initialize={(i, j): tiempos_transporte_df.iloc[i, j+1] for i in model.I for j in model.I})\n",
    "model.tiempo_maximo_definido = pyo.Param(initialize=360)"
   ]
  },
  {
   "cell_type": "markdown",
   "metadata": {},
   "source": [
    "# SELECCIÓN DEL CENTRO DE ACOPIO PRINCIPAL"
   ]
  },
  {
   "cell_type": "markdown",
   "metadata": {},
   "source": [
    "Selección automática del centro principal basado en el costo más bajo"
   ]
  },
  {
   "cell_type": "code",
   "execution_count": 19,
   "metadata": {},
   "outputs": [],
   "source": [
    "centro_principal_id = min(model.I, key=lambda i: model.CTranspCli[i])\n",
    "model.CentroPrincipal = pyo.Param(initialize=centro_principal_id)"
   ]
  },
  {
   "cell_type": "markdown",
   "metadata": {},
   "source": [
    "# VARIABLES"
   ]
  },
  {
   "cell_type": "code",
   "execution_count": 20,
   "metadata": {},
   "outputs": [],
   "source": [
    "model.X = pyo.Var(model.I, within=pyo.NonNegativeReals) # Cantidad despachada desde cada centro\n",
    "model.Y = pyo.Var(model.I, model.I, within=pyo.NonNegativeReals) # Cantidad transportada entre centros"
   ]
  },
  {
   "cell_type": "markdown",
   "metadata": {},
   "source": [
    "# FUNCIÓN OBJETIVO"
   ]
  },
  {
   "cell_type": "markdown",
   "metadata": {},
   "source": [
    "\\begin{equation}\n",
    "\\text{Minimizar} \\quad \\sum_{i=1, i \\neq p}^{N} \\left[ K(CAi) \\cdot Precio(CAi) + K(CAi) \\cdot cTransp(CAi) + Tiempo(CAi) \\cdot cTiempo \\right] + \\left[ K(CAp) \\cdot Precio(CAp) + Demanda \\cdot cTransp(CAp) + Tiempo(CAp) \\cdot cTiempo \\right]\n",
    "\\end{equation}"
   ]
  },
  {
   "cell_type": "markdown",
   "metadata": {},
   "source": [
    "La función objetivo para minimizar costos se puede desglosar en dos partes principales:\n",
    "\n",
    "1. **Costo de los centros de acopio que no son el principal (i ≠ p):**\n",
    "   \n",
    "\\begin{equation}\n",
    "\\quad \\sum_{i=1, i \\neq p}^{N} \\left[ K(CAi) \\cdot Precio(CAi) + K(CAi) \\cdot cTransp(CAi) + Tiempo(CAi) \\cdot cTiempo \\right] +\n",
    "\\end{equation}\n",
    "\n",
    "   - **K(CAi)** es el stock en el centro de acopio \\( i \\).\n",
    "   - **Precio(CAi)** es el precio en el centro de acopio \\( i \\).\n",
    "   - **cTransp(CAi** es el costo de transporte desde el centro de acopio \\( i \\).\n",
    "   - **Tiempo(CAi)** es el tiempo asociado al centro de acopio \\( i \\).\n",
    "   - **cTiempo** es el costo asociado al tiempo.\n",
    "\n",
    "   *Este término representa el costo total de todos los centros de acopio que no son el principal.*\n",
    "\n",
    "2. **Costo del centro de acopio principal (p):**\n",
    "\n",
    "   \n",
    "\\begin{equation}\n",
    " \\left[ K(CAp) \\cdot Precio(CAp) + Demanda \\cdot cTransp(CAp) + Tiempo(CAp) \\cdot cTiempo \\right]\n",
    "\\end{equation}\n",
    "   \n",
    "\n",
    "   - **K(CAp** es el stock en el centro de acopio principal.\n",
    "   - **Precio(CAp)** es el precio en el centro de acopio principal.\n",
    "   - **Demanda** es la demanda total.\n",
    "   - **cTransp(CAp)** es el costo de transporte desde el centro de acopio principal.\n",
    "   - **Tiempo(CAp)** es el tiempo asociado al centro de acopio principal.\n",
    "   - **cTiempo** es el costo asociado al tiempo.\n",
    "\n",
    "   *Este término representa el costo asociado al centro de acopio principal.*"
   ]
  },
  {
   "cell_type": "code",
   "execution_count": 21,
   "metadata": {},
   "outputs": [],
   "source": [
    "def objective_rule(model):\n",
    "    return sum(\n",
    "        model.X[i] * model.Precio[i] + \n",
    "        model.X[i] * model.CTranspCli[i] + \n",
    "        model.TiempoAlistam[i] * model.costo_tiempo \n",
    "        for i in model.I if i != model.CentroPrincipal\n",
    "    ) + (\n",
    "        model.X[model.CentroPrincipal] * model.Precio[model.CentroPrincipal] + \n",
    "        model.demanda * model.CTranspCli[model.CentroPrincipal] + \n",
    "        model.TiempoAlistam[model.CentroPrincipal] * model.costo_tiempo\n",
    "    )\n",
    "\n",
    "model.CostoTotal = pyo.Objective(rule=objective_rule, sense=pyo.minimize)"
   ]
  },
  {
   "cell_type": "markdown",
   "metadata": {},
   "source": [
    "# RESTRICCIONES "
   ]
  },
  {
   "cell_type": "markdown",
   "metadata": {},
   "source": [
    "\\begin{equation}\n",
    "\\sum_{i=0}^{N} K(CAi) = Demanda\n",
    "\\end{equation}\n",
    "\n",
    "\\begin{equation}\n",
    "K(CAi) \\leq Stock(CAi) + P_{\\text{potencial}}(CAi) \\quad \\text{para } i=0\\ldots N\n",
    "\\end{equation}\n",
    "\n",
    "\\begin{equation}\n",
    "Tiempo(CAi) = Tiempo_{\\text{Alistam}}(CAi) + Tiempo_{\\text{Transp}}(CAi)\n",
    "\\end{equation}\n",
    "\n",
    "\\begin{equation}\n",
    "Tiempo_{\\text{Alistam}}(CAi) \\leq Tiempo_{\\text{MaxDefinido}} \\quad \\text{para } i=0\\ldots N\n",
    "\\end{equation}"
   ]
  },
  {
   "cell_type": "markdown",
   "metadata": {},
   "source": [
    "La restricciones funcionan de esta manera:\n",
    "\n",
    "1. **Sumatoria del stock igual a la demanda total:**\n",
    "\n",
    "\\begin{equation}\n",
    "\\sum_{i=0}^{N} K(CAi) = Demanda\n",
    "\\end{equation}\n",
    "\n",
    "   - **K(CAi)** es el stock en el centro de acopio \\( i \\).\n",
    "   - **Demanda** es la demanda total.\n",
    "\n",
    "   Esta ecuación asegura que la suma del stock disponible en todos los centros de acopio sea igual a la demanda total.\n",
    "\n",
    "2. **Stock limitado por el inventario disponible y potencial:**\n",
    "\n",
    "\\begin{equation}\n",
    "K(CAi) \\leq Stock(CAi) + P_{\\text{potencial}}(CAi) \\quad \\text{para } i=0\\ldots N\n",
    "\\end{equation}\n",
    "\n",
    "   - **K(CAi)** es el stock en el centro de acopio \\( i \\).\n",
    "   - **Stock(CAi)** es el inventario disponible en el centro de acopio \\( i \\).\n",
    "   - **P_potencial(CAi)** es el inventario potencial adicional que se puede obtener en el centro de acopio \\( i \\).\n",
    "\n",
    "   Esta ecuación garantiza que el stock en cada centro de acopio no exceda la suma del inventario disponible y el inventario potencial adicional.\n",
    "\n",
    "3. **Tiempo total en cada centro de acopio:**\n",
    "\n",
    "\\begin{equation}\n",
    "Tiempo(CAi) = Tiempo_{\\text{Alistam}}(CAi) + Tiempo_{\\text{Transp}}(CAi)\n",
    "\\end{equation}\n",
    "\n",
    "   - **Tiempo(CAi)** es el tiempo total asociado al centro de acopio \\( i \\).\n",
    "   - **Tiempo_Alistam(CAi)** es el tiempo de alistamiento en el centro de acopio \\( i \\).\n",
    "   - **Tiempo_Transp(CAi)** es el tiempo de transporte desde el centro de acopio \\( i \\).\n",
    "\n",
    "   Esta ecuación define el tiempo total en cada centro de acopio como la suma del tiempo de alistamiento y el tiempo de transporte.\n",
    "\n",
    "4. **Límite en el tiempo de alistamiento:**\n",
    "\n",
    "\\begin{equation}\n",
    "Tiempo_{\\text{Alistam}}(CAi) \\leq Tiempo_{\\text{MaxDefinido}} \\quad \\text{para } i=0\\ldots N\n",
    "\\end{equation}\n",
    "\n",
    "   - **Tiempo_Alistam(CAi)** es el tiempo de alistamiento en el centro de acopio \\( i \\).\n",
    "   - **Tiempo_MaxDefinido** es el tiempo máximo permitido para el alistamiento.\n",
    "\n",
    "   Esta ecuación asegura que el tiempo de alistamiento en cada centro de acopio no exceda el tiempo máximo permitido definido previamente."
   ]
  },
  {
   "cell_type": "code",
   "execution_count": 22,
   "metadata": {},
   "outputs": [],
   "source": [
    "model.DemandaSatisfecha = pyo.Constraint(expr=sum(model.X[i] for i in model.I) == model.demanda)\n",
    "\n",
    "model.CombinedStockPotential = pyo.Constraint(model.I, rule=lambda model, i: model.X[i] <= model.Stock[i] + model.Ppotencial[i])\n",
    "\n",
    "model.CombinedTiempoTotalAlistamMax = pyo.Constraint(model.I, rule=lambda model, i: model.TiempoAlistam[i] + sum(model.tiempos_transporte[i, j] * model.Y[i, j] for j in model.I) <= model.tiempo_maximo_definido)\n",
    "\n",
    "model.BalanceTransport = pyo.Constraint(model.I, rule=lambda model, i: sum(model.Y[j, i] for j in model.I) == model.X[i] if i != model.CentroPrincipal else pyo.Constraint.Skip)\n",
    "\n",
    "model.CentroPrincipalManejo = pyo.Constraint(expr=sum(model.Y[i, model.CentroPrincipal] for i in model.I) == model.X[model.CentroPrincipal])"
   ]
  },
  {
   "cell_type": "markdown",
   "metadata": {},
   "source": [
    "# RESOLVER MODELO"
   ]
  },
  {
   "cell_type": "markdown",
   "metadata": {},
   "source": [
    "Resolviendo inicialmente"
   ]
  },
  {
   "cell_type": "code",
   "execution_count": 23,
   "metadata": {},
   "outputs": [],
   "source": [
    "solver = pyo.SolverFactory('glpk')\n",
    "results = solver.solve(model)"
   ]
  },
  {
   "cell_type": "markdown",
   "metadata": {},
   "source": [
    "Calcular el costo total, actualizando en la función objetivo y resolviendo nuevamente"
   ]
  },
  {
   "cell_type": "code",
   "execution_count": 24,
   "metadata": {},
   "outputs": [
    {
     "name": "stdout",
     "output_type": "stream",
     "text": [
      "TiempoTranspCli[CentroPrincipal]: 34\n",
      "Costo de Tiempo Actualizado para el cliente CentroPrincipal: 2040.0\n"
     ]
    }
   ],
   "source": [
    "try:\n",
    "    tiempo_transporte = model.TiempoTranspCli[model.CentroPrincipal]\n",
    "    print(f\"TiempoTranspCli[{model.CentroPrincipal}]: {tiempo_transporte}\")\n",
    "except KeyError:\n",
    "    print(f\"No hay valor para TiempoTranspCli[{model.CentroPrincipal}]\")\n",
    "else:\n",
    "    costo_tiempo_actualizado = tiempo_transporte * model.Costo_Por_Unidad_De_Tiempo()\n",
    "    print(f\"Costo de Tiempo Actualizado para el cliente {model.CentroPrincipal}: {costo_tiempo_actualizado}\")\n",
    "\n",
    "    model.costo_tiempo.set_value(costo_tiempo_actualizado)"
   ]
  },
  {
   "cell_type": "markdown",
   "metadata": {},
   "source": [
    "# REPRESENTACIÓN DE DATOS"
   ]
  },
  {
   "cell_type": "code",
   "execution_count": 25,
   "metadata": {},
   "outputs": [
    {
     "name": "stdout",
     "output_type": "stream",
     "text": [
      "\n",
      "Representación de stocks:\n"
     ]
    },
    {
     "ename": "NameError",
     "evalue": "name 'datos' is not defined",
     "output_type": "error",
     "traceback": [
      "\u001b[0;31m---------------------------------------------------------------------------\u001b[0m",
      "\u001b[0;31mNameError\u001b[0m                                 Traceback (most recent call last)",
      "Cell \u001b[0;32mIn[25], line 3\u001b[0m\n\u001b[1;32m      1\u001b[0m \u001b[38;5;28mprint\u001b[39m(\u001b[38;5;124m\"\u001b[39m\u001b[38;5;130;01m\\n\u001b[39;00m\u001b[38;5;124mRepresentación de stocks:\u001b[39m\u001b[38;5;124m\"\u001b[39m)\n\u001b[0;32m----> 3\u001b[0m df_centros \u001b[38;5;241m=\u001b[39m pd\u001b[38;5;241m.\u001b[39mDataFrame(\u001b[43mdatos\u001b[49m[\u001b[38;5;124m'\u001b[39m\u001b[38;5;124mcentros_acopio\u001b[39m\u001b[38;5;124m'\u001b[39m])\n\u001b[1;32m      4\u001b[0m plt\u001b[38;5;241m.\u001b[39mfigure(figsize\u001b[38;5;241m=\u001b[39m(\u001b[38;5;241m12\u001b[39m, \u001b[38;5;241m7\u001b[39m))\n\u001b[1;32m      5\u001b[0m sns\u001b[38;5;241m.\u001b[39mbarplot(x\u001b[38;5;241m=\u001b[39m\u001b[38;5;124m'\u001b[39m\u001b[38;5;124mId_CA\u001b[39m\u001b[38;5;124m'\u001b[39m, y\u001b[38;5;241m=\u001b[39m\u001b[38;5;124m'\u001b[39m\u001b[38;5;124mStock\u001b[39m\u001b[38;5;124m'\u001b[39m, data\u001b[38;5;241m=\u001b[39mdf_centros, palette\u001b[38;5;241m=\u001b[39m\u001b[38;5;124m'\u001b[39m\u001b[38;5;124mviridis\u001b[39m\u001b[38;5;124m'\u001b[39m, edgecolor\u001b[38;5;241m=\u001b[39m\u001b[38;5;124m'\u001b[39m\u001b[38;5;124mblack\u001b[39m\u001b[38;5;124m'\u001b[39m)\n",
      "\u001b[0;31mNameError\u001b[0m: name 'datos' is not defined"
     ]
    }
   ],
   "source": [
    "print(\"\\nRepresentación de stocks:\")\n",
    "\n",
    "df_centros = pd.DataFrame(datos['centros_acopio'])\n",
    "plt.figure(figsize=(12, 7))\n",
    "sns.barplot(x='Id_CA', y='Stock', data=df_centros, palette='viridis', edgecolor='black')\n",
    "plt.title('Kilogramos en cada Centro de Acopio', fontsize=16, weight='bold')\n",
    "plt.xlabel('ID del Centro', fontsize=14)\n",
    "plt.ylabel('Kilogramos', fontsize=14)\n",
    "plt.xticks(rotation=45)\n",
    "plt.grid(True, linestyle='--', alpha=0.7)\n",
    "plt.show()"
   ]
  },
  {
   "cell_type": "code",
   "execution_count": 26,
   "metadata": {},
   "outputs": [
    {
     "ename": "NameError",
     "evalue": "name 'datos' is not defined",
     "output_type": "error",
     "traceback": [
      "\u001b[0;31m---------------------------------------------------------------------------\u001b[0m",
      "\u001b[0;31mNameError\u001b[0m                                 Traceback (most recent call last)",
      "Cell \u001b[0;32mIn[26], line 1\u001b[0m\n\u001b[0;32m----> 1\u001b[0m centros_acopio \u001b[38;5;241m=\u001b[39m \u001b[43mdatos\u001b[49m[\u001b[38;5;124m\"\u001b[39m\u001b[38;5;124mcentros_acopio\u001b[39m\u001b[38;5;124m\"\u001b[39m]\n\u001b[1;32m      2\u001b[0m headers \u001b[38;5;241m=\u001b[39m [\u001b[38;5;124m\"\u001b[39m\u001b[38;5;124mId_CA\u001b[39m\u001b[38;5;124m\"\u001b[39m, \u001b[38;5;124m\"\u001b[39m\u001b[38;5;124mStock\u001b[39m\u001b[38;5;124m\"\u001b[39m, \u001b[38;5;124m\"\u001b[39m\u001b[38;5;124mPpotencial\u001b[39m\u001b[38;5;124m\"\u001b[39m, \u001b[38;5;124m\"\u001b[39m\u001b[38;5;124mPrecio\u001b[39m\u001b[38;5;124m\"\u001b[39m, \u001b[38;5;124m\"\u001b[39m\u001b[38;5;124mCtranspCli\u001b[39m\u001b[38;5;124m\"\u001b[39m, \u001b[38;5;124m\"\u001b[39m\u001b[38;5;124mTiempoTranspCli\u001b[39m\u001b[38;5;124m\"\u001b[39m, \u001b[38;5;124m\"\u001b[39m\u001b[38;5;124mTiempoAlistam\u001b[39m\u001b[38;5;124m\"\u001b[39m]\n\u001b[1;32m      3\u001b[0m table \u001b[38;5;241m=\u001b[39m [[c[\u001b[38;5;124m\"\u001b[39m\u001b[38;5;124mId_CA\u001b[39m\u001b[38;5;124m\"\u001b[39m], c[\u001b[38;5;124m\"\u001b[39m\u001b[38;5;124mStock\u001b[39m\u001b[38;5;124m\"\u001b[39m], c[\u001b[38;5;124m\"\u001b[39m\u001b[38;5;124mPpotencial\u001b[39m\u001b[38;5;124m\"\u001b[39m], c[\u001b[38;5;124m\"\u001b[39m\u001b[38;5;124mPrecio\u001b[39m\u001b[38;5;124m\"\u001b[39m], c[\u001b[38;5;124m\"\u001b[39m\u001b[38;5;124mCtranspCli\u001b[39m\u001b[38;5;124m\"\u001b[39m], c[\u001b[38;5;124m\"\u001b[39m\u001b[38;5;124mTiempoTranspCli\u001b[39m\u001b[38;5;124m\"\u001b[39m], c[\u001b[38;5;124m\"\u001b[39m\u001b[38;5;124mTiempoAlistam\u001b[39m\u001b[38;5;124m\"\u001b[39m]] \u001b[38;5;28;01mfor\u001b[39;00m c \u001b[38;5;129;01min\u001b[39;00m centros_acopio]\n",
      "\u001b[0;31mNameError\u001b[0m: name 'datos' is not defined"
     ]
    }
   ],
   "source": [
    "centros_acopio = datos[\"centros_acopio\"]\n",
    "headers = [\"Id_CA\", \"Stock\", \"Ppotencial\", \"Precio\", \"CtranspCli\", \"TiempoTranspCli\", \"TiempoAlistam\"]\n",
    "table = [[c[\"Id_CA\"], c[\"Stock\"], c[\"Ppotencial\"], c[\"Precio\"], c[\"CtranspCli\"], c[\"TiempoTranspCli\"], c[\"TiempoAlistam\"]] for c in centros_acopio]\n",
    "print(\"Centros de Acopio:\")\n",
    "print(tabulate(table, headers=headers, tablefmt='grid'))\n",
    "print()\n",
    "\n",
    "print(\"Matriz 'Costos de Transporte':\")\n",
    "print(tabulate(datos[\"costos_transporte\"], tablefmt='grid'))\n",
    "print()\n",
    "\n",
    "table = PrettyTable()\n",
    "table.field_names = [\"\"] + [f\"CA {i+1}\" for i in range(len(datos[\"costos_transporte\"]))]\n",
    "for i, row in enumerate(datos[\"costos_transporte\"]):\n",
    "    table.add_row([f\"CA {i+1}\"] + row)\n",
    "\n",
    "print(\"Tabla 'Costos de Transporte':\")\n",
    "print(table)\n",
    "print()\n",
    "\n",
    "print(\"Matriz 'Tiempos de Transporte':\")\n",
    "print(tabulate(datos[\"tiempos_transporte\"], tablefmt='grid'))\n",
    "print()\n",
    "\n",
    "table = PrettyTable()\n",
    "table.field_names = [\"\"] + [f\"CA {i+1}\" for i in range(len(datos[\"tiempos_transporte\"]))]\n",
    "for i, row in enumerate(datos[\"tiempos_transporte\"]):\n",
    "    table.add_row([f\"CA {i+1}\"] + row)\n",
    "\n",
    "print(\"Tabla 'Tiempos de Transporte':\")\n",
    "print(table)\n",
    "print()\n",
    "\n",
    "print(f\"Costo Tiempo: {model.costo_tiempo()}\\n\")\n",
    "print(f\"Tiempo Máximo Definido: {model.tiempo_maximo_definido()}\")\n"
   ]
  },
  {
   "cell_type": "markdown",
   "metadata": {},
   "source": [
    "# RESULTADOS"
   ]
  },
  {
   "cell_type": "markdown",
   "metadata": {},
   "source": [
    "# Solución óptima"
   ]
  },
  {
   "cell_type": "markdown",
   "metadata": {},
   "source": [
    "**Centros involucrados**"
   ]
  },
  {
   "cell_type": "code",
   "execution_count": 27,
   "metadata": {},
   "outputs": [
    {
     "name": "stdout",
     "output_type": "stream",
     "text": [
      "Centros seleccionados para la operación:\n",
      "Centros 1\n",
      "Centros 2\n",
      "Centros 3\n",
      "Centros 4\n",
      "Centros 8\n"
     ]
    }
   ],
   "source": [
    "centros_despachados = set()\n",
    "print(f\"Centros seleccionados para la operación:\")\n",
    "\n",
    "for i in model.I:\n",
    "    for j in model.I:\n",
    "        try:\n",
    "            value_Y = pyo.value(model.Y[i, j])\n",
    "            if value_Y > 0:\n",
    "                centros_despachados.add(i)\n",
    "                centros_despachados.add(j)\n",
    "        except KeyError:\n",
    "            print(f\"Índice {i+1}, {j} no es válido para el componente model.Y.\")\n",
    "        except ValueError:\n",
    "            print(f\"Cantidad transportada de Centro {i+1} a Centro {j} no disponible\")\n",
    "\n",
    "for centro in centros_despachados:\n",
    "    print(f\"Centros {centro +1}\")\n"
   ]
  },
  {
   "cell_type": "markdown",
   "metadata": {},
   "source": [
    "**Centro principal para la demanda del cliente**"
   ]
  },
  {
   "cell_type": "code",
   "execution_count": 28,
   "metadata": {},
   "outputs": [
    {
     "name": "stdout",
     "output_type": "stream",
     "text": [
      "\n",
      "Centro principal seleccionado: 4\n"
     ]
    }
   ],
   "source": [
    "print(f\"\\nCentro principal seleccionado: {model.CentroPrincipal.value + 1}\")"
   ]
  },
  {
   "cell_type": "markdown",
   "metadata": {},
   "source": [
    "**Cantidad asignada:**"
   ]
  },
  {
   "cell_type": "code",
   "execution_count": 29,
   "metadata": {},
   "outputs": [
    {
     "name": "stdout",
     "output_type": "stream",
     "text": [
      "Centro 1: = 10.50\n",
      "Centro 2: = 12.62\n",
      "Centro 3: = 1.38\n",
      "Centro 4: = 21.00\n",
      "Centro 5: = 0.00\n",
      "Centro 6: = 0.00\n",
      "Centro 7: = 0.00\n",
      "Centro 8: = 14.50\n",
      "Centro 9: = 0.00\n",
      "Centro 10: = 0.00\n"
     ]
    }
   ],
   "source": [
    "for i in model.I:\n",
    "    try:\n",
    "        print(f\"Centro {i+1}: = {pyo.value(model.X[i]):.2f}\")\n",
    "    except ValueError:\n",
    "        print(f\"Centro {i+1}: Cantidad despachada no disponible\")"
   ]
  },
  {
   "cell_type": "markdown",
   "metadata": {},
   "source": [
    "**Resumen de operación al centro principal**"
   ]
  },
  {
   "cell_type": "code",
   "execution_count": 30,
   "metadata": {},
   "outputs": [
    {
     "name": "stdout",
     "output_type": "stream",
     "text": [
      "\n",
      "Centro 1: \n",
      "Cantidad para transportar al centro principal 4 = 10.50. \n",
      "Costo transporte = $303051.00\n",
      "\n",
      "\n",
      "Centro 2: \n",
      "Cantidad para transportar al centro principal 4 = 12.62. \n",
      "Costo transporte = $162824.62\n",
      "\n",
      "\n",
      "Centro 3: \n",
      "Cantidad para transportar al centro principal 4 = 1.38. \n",
      "Costo transporte = $32594.38\n",
      "\n",
      "Centro 5: No hay cantidad a transportar al centro principal\n",
      "Centro 6: No hay cantidad a transportar al centro principal\n",
      "Centro 7: No hay cantidad a transportar al centro principal\n",
      "\n",
      "Centro 8: \n",
      "Cantidad para transportar al centro principal 4 = 14.50. \n",
      "Costo transporte = $174594.50\n",
      "\n",
      "Centro 9: No hay cantidad a transportar al centro principal\n",
      "Centro 10: No hay cantidad a transportar al centro principal\n",
      "\n",
      "Centros por despachar: ['Centro 1', 'Centro 2', 'Centro 3', 'Centro 8']\n"
     ]
    }
   ],
   "source": [
    "total_costo_transporte = 0\n",
    "centros_despachados = set()\n",
    "\n",
    "for i in model.I:\n",
    "    if i != model.CentroPrincipal:\n",
    "        try:\n",
    "            cantidad_transportada = sum(pyo.value(model.Y[i, j]) for j in model.I if model.Y[i, j].value is not None and pyo.value(model.Y[i, j]) > 0)\n",
    "            if cantidad_transportada > 0:\n",
    "                costo_transportado = cantidad_transportada * model.costos_transporte[i, model.CentroPrincipal]\n",
    "                total_costo_transporte += costo_transportado\n",
    "                centros_despachados.add(i)\n",
    "                print(f'\\nCentro {i+1}: \\nCantidad para transportar al centro principal {model.CentroPrincipal.value +1} = {cantidad_transportada:.2f}. \\nCosto transporte = ${costo_transportado:.2f}\\n')\n",
    "            else:\n",
    "                print(f'Centro {i+1}: No hay cantidad a transportar al centro principal')\n",
    "        except ValueError:\n",
    "            print(f'Centro {i+1}: Despachado o cantidad transportada no disponible')\n",
    "\n",
    "nombres_centros = ['Centro 1', 'Centro 2', 'Centro 3', 'Centro 4', 'Centro 5', 'Centro 6', 'Centro 7', 'Centro 8', 'Centro 9', 'Centro 10']\n",
    "\n",
    "print(f'\\nCentros por despachar: {[nombres_centros[i] for i in centros_despachados]}')"
   ]
  },
  {
   "cell_type": "markdown",
   "metadata": {},
   "source": [
    "**Costo total del producto**"
   ]
  },
  {
   "cell_type": "code",
   "execution_count": 31,
   "metadata": {},
   "outputs": [
    {
     "name": "stdout",
     "output_type": "stream",
     "text": [
      "\n",
      "Costo total del modelo de optimización: = $2,495,805.50\n"
     ]
    }
   ],
   "source": [
    "print(f\"\\nCosto total del modelo de optimización: = ${pyo.value(model.CostoTotal):,.2f}\")"
   ]
  },
  {
   "cell_type": "markdown",
   "metadata": {},
   "source": [
    "**Costo total del transporte centros a centro principal**"
   ]
  },
  {
   "cell_type": "code",
   "execution_count": 32,
   "metadata": {},
   "outputs": [
    {
     "name": "stdout",
     "output_type": "stream",
     "text": [
      "\n",
      "\n",
      "Costo total del transporte centros a centro principal: = $673064.50\n"
     ]
    }
   ],
   "source": [
    "print(f\"\\n\\nCosto total del transporte centros a centro principal: = ${total_costo_transporte:.2f}\")"
   ]
  },
  {
   "cell_type": "code",
   "execution_count": null,
   "metadata": {},
   "outputs": [],
   "source": []
  },
  {
   "cell_type": "code",
   "execution_count": null,
   "metadata": {},
   "outputs": [],
   "source": []
  },
  {
   "cell_type": "code",
   "execution_count": null,
   "metadata": {},
   "outputs": [],
   "source": []
  },
  {
   "cell_type": "code",
   "execution_count": null,
   "metadata": {},
   "outputs": [],
   "source": []
  }
 ],
 "metadata": {
  "colab": {
   "provenance": []
  },
  "kernelspec": {
   "display_name": "Python 3 (ipykernel)",
   "language": "python",
   "name": "python3"
  },
  "language_info": {
   "codemirror_mode": {
    "name": "ipython",
    "version": 3
   },
   "file_extension": ".py",
   "mimetype": "text/x-python",
   "name": "python",
   "nbconvert_exporter": "python",
   "pygments_lexer": "ipython3",
   "version": "3.11.9"
  }
 },
 "nbformat": 4,
 "nbformat_minor": 4
}
