{
 "cells": [
  {
   "cell_type": "code",
<<<<<<< HEAD
<<<<<<< HEAD
   "execution_count": 33,
   "metadata": {},
   "outputs": [],
   "source": [
    "from pyomo.environ import *\n",
=======
   "execution_count": 1,
   "metadata": {
    "ExecuteTime": {
     "end_time": "2024-07-15T15:28:47.055977Z",
     "start_time": "2024-07-15T15:28:46.455475Z"
    },
    "id": "sLLmzB6qJwiG"
   },
   "outputs": [],
   "source": [
    "import numpy as np\n",
>>>>>>> main
    "import pandas as pd"
   ]
  },
  {
   "cell_type": "markdown",
   "metadata": {
    "id": "ZZ20H0g88fr9"
   },
   "source": [
    "## Conjuntos \n",
    "Del modelo de optimización\n",
    "\n",
    "| **Término**  | **Descripción**                |\n",
    "|--------------|--------------------------------|\n",
    "| $cacopios$   | Conjunto de centros de acopio  |\n",
    "| $clientes$   | Conjunto de clientes           |\n",
    "| $productos$  | Conjunto de productos          |"
   ]
  },
  {
   "cell_type": "code",
<<<<<<< HEAD
   "execution_count": 34,
   "metadata": {
    "ExecuteTime": {
     "end_time": "2024-07-11T18:20:45.169669Z",
     "start_time": "2024-07-11T18:20:45.164987Z"
=======
   "execution_count": 2,
   "metadata": {
    "ExecuteTime": {
     "end_time": "2024-07-15T15:28:47.060472Z",
     "start_time": "2024-07-15T15:28:47.055977Z"
>>>>>>> main
    },
    "id": "rIc1Q2z08Ejj"
   },
   "outputs": [],
   "source": [
    "cacopios = 'CAcopios'\n",
    "clientes = 'Clientes'\n",
    "productos = 'Productos'"
   ]
<<<<<<< HEAD
  },
  {
   "cell_type": "markdown",
   "metadata": {},
   "source": [
    "# Configuración de archivos CSV"
   ]
  },
  {
   "cell_type": "code",
   "execution_count": 35,
   "metadata": {
    "ExecuteTime": {
     "end_time": "2024-07-11T18:20:45.238429Z",
     "start_time": "2024-07-11T18:20:45.233091Z"
=======
  },
  {
   "cell_type": "code",
   "execution_count": 3,
   "metadata": {
    "ExecuteTime": {
     "end_time": "2024-07-15T15:28:47.068447Z",
     "start_time": "2024-07-15T15:28:47.060472Z"
>>>>>>> main
    },
    "id": "vQTQCvL0-G49"
   },
   "outputs": [],
   "source": [
    "# Configuración de archivos CSV\n",
    "csv_base = './csv/'\n",
    "\n",
    "routes = {\n",
    "    'cic': 'CapInvCA.csv',\n",
    "    'cia': 'CostoInvCA.csv',\n",
    "    'ctac': 'CostoTransCAClie.csv'\n",
    "}\n",
    "\n",
    "csv_config = {\n",
    "    'delimiter': ';',\n",
    "    'decimal': ','\n",
    "}"
   ]
  },
  {
   "cell_type": "markdown",
   "metadata": {},
   "source": [
    "## Centros de acopio"
   ]
  },
  {
   "cell_type": "code",
<<<<<<< HEAD
   "execution_count": 36,
=======
   "execution_count": 4,
>>>>>>> main
   "metadata": {
    "ExecuteTime": {
     "end_time": "2024-07-15T15:28:47.087068Z",
     "start_time": "2024-07-15T15:28:47.069453Z"
    }
   },
<<<<<<< HEAD
   "outputs": [],
   "source": [
    "# Cargar datos\n",
    "cacopios_df = pd.read_csv(csv_base + 'CAcopios.csv')\n"
=======
   "outputs": [
    {
     "data": {
      "text/html": [
       "<div>\n",
       "<style scoped>\n",
       "    .dataframe tbody tr th:only-of-type {\n",
       "        vertical-align: middle;\n",
       "    }\n",
       "\n",
       "    .dataframe tbody tr th {\n",
       "        vertical-align: top;\n",
       "    }\n",
       "\n",
       "    .dataframe thead th {\n",
       "        text-align: right;\n",
       "    }\n",
       "</style>\n",
       "<table border=\"1\" class=\"dataframe\">\n",
       "  <thead>\n",
       "    <tr style=\"text-align: right;\">\n",
       "      <th></th>\n",
       "      <th>CAcopios</th>\n",
       "    </tr>\n",
       "  </thead>\n",
       "  <tbody>\n",
       "    <tr>\n",
       "      <th>0</th>\n",
       "      <td>San Juan del Cesar</td>\n",
       "    </tr>\n",
       "    <tr>\n",
       "      <th>1</th>\n",
       "      <td>Riohacha</td>\n",
       "    </tr>\n",
       "    <tr>\n",
       "      <th>2</th>\n",
       "      <td>Maicao</td>\n",
       "    </tr>\n",
       "  </tbody>\n",
       "</table>\n",
       "</div>"
      ],
      "text/plain": [
       "             CAcopios\n",
       "0  San Juan del Cesar\n",
       "1            Riohacha\n",
       "2              Maicao"
      ]
     },
     "execution_count": 4,
     "metadata": {},
     "output_type": "execute_result"
    }
   ],
   "source": [
    "# cacopios_df = pd.read_csv(csv_base + cacopios + '.csv')\n",
    "cacopios_df = pd.read_csv(csv_base + cacopios + 'test' + '.csv')\n",
    "cacopios_df"
>>>>>>> main
   ]
  },
  {
   "cell_type": "markdown",
   "metadata": {},
   "source": [
    "## Clientes"
   ]
  },
  {
   "cell_type": "code",
<<<<<<< HEAD
   "execution_count": 37,
=======
   "execution_count": 5,
>>>>>>> main
   "metadata": {
    "ExecuteTime": {
     "end_time": "2024-07-15T15:28:47.099034Z",
     "start_time": "2024-07-15T15:28:47.087068Z"
    }
   },
<<<<<<< HEAD
   "outputs": [],
   "source": [
    "clientes_df = pd.read_csv(csv_base + 'Clientes.csv')"
=======
   "outputs": [
    {
     "data": {
      "text/html": [
       "<div>\n",
       "<style scoped>\n",
       "    .dataframe tbody tr th:only-of-type {\n",
       "        vertical-align: middle;\n",
       "    }\n",
       "\n",
       "    .dataframe tbody tr th {\n",
       "        vertical-align: top;\n",
       "    }\n",
       "\n",
       "    .dataframe thead th {\n",
       "        text-align: right;\n",
       "    }\n",
       "</style>\n",
       "<table border=\"1\" class=\"dataframe\">\n",
       "  <thead>\n",
       "    <tr style=\"text-align: right;\">\n",
       "      <th></th>\n",
       "      <th>Clientes</th>\n",
       "    </tr>\n",
       "  </thead>\n",
       "  <tbody>\n",
       "    <tr>\n",
       "      <th>0</th>\n",
       "      <td>Distribuidor1</td>\n",
       "    </tr>\n",
       "    <tr>\n",
       "      <th>1</th>\n",
       "      <td>Distribuidor2</td>\n",
       "    </tr>\n",
       "  </tbody>\n",
       "</table>\n",
       "</div>"
      ],
      "text/plain": [
       "        Clientes\n",
       "0  Distribuidor1\n",
       "1  Distribuidor2"
      ]
     },
     "execution_count": 5,
     "metadata": {},
     "output_type": "execute_result"
    }
   ],
   "source": [
    "# clientes_df = pd.read_csv(csv_base + clientes + '.csv')\n",
    "clientes_df = pd.read_csv(csv_base + clientes + 'test' + '.csv')\n",
    "clientes_df"
>>>>>>> main
   ]
  },
  {
   "cell_type": "markdown",
   "metadata": {},
   "source": [
    "## Productos"
   ]
  },
  {
   "cell_type": "code",
<<<<<<< HEAD
   "execution_count": 38,
=======
   "execution_count": 6,
>>>>>>> main
   "metadata": {
    "ExecuteTime": {
     "end_time": "2024-07-15T15:28:47.108368Z",
     "start_time": "2024-07-15T15:28:47.101037Z"
    }
   },
<<<<<<< HEAD
   "outputs": [],
   "source": [
    "productos_df = pd.read_csv(csv_base + 'Productos.csv')"
=======
   "outputs": [
    {
     "data": {
      "text/html": [
       "<div>\n",
       "<style scoped>\n",
       "    .dataframe tbody tr th:only-of-type {\n",
       "        vertical-align: middle;\n",
       "    }\n",
       "\n",
       "    .dataframe tbody tr th {\n",
       "        vertical-align: top;\n",
       "    }\n",
       "\n",
       "    .dataframe thead th {\n",
       "        text-align: right;\n",
       "    }\n",
       "</style>\n",
       "<table border=\"1\" class=\"dataframe\">\n",
       "  <thead>\n",
       "    <tr style=\"text-align: right;\">\n",
       "      <th></th>\n",
       "      <th>Productos</th>\n",
       "    </tr>\n",
       "  </thead>\n",
       "  <tbody>\n",
       "    <tr>\n",
       "      <th>0</th>\n",
       "      <td>Queso duro</td>\n",
       "    </tr>\n",
       "    <tr>\n",
       "      <th>1</th>\n",
       "      <td>Queso blando</td>\n",
       "    </tr>\n",
       "  </tbody>\n",
       "</table>\n",
       "</div>"
      ],
      "text/plain": [
       "      Productos\n",
       "0    Queso duro\n",
       "1  Queso blando"
      ]
     },
     "execution_count": 6,
     "metadata": {},
     "output_type": "execute_result"
    }
   ],
   "source": [
    "productos_df = pd.read_csv(csv_base + productos + '.csv')\n",
    "productos_df.head()"
>>>>>>> main
   ]
  },
  {
   "cell_type": "markdown",
   "metadata": {},
   "source": [
    "### Capacidades \n",
    "Obteniendo las capacidades de cada centro de acopio"
   ]
  },
  {
   "cell_type": "code",
<<<<<<< HEAD
   "execution_count": 39,
=======
   "execution_count": 7,
>>>>>>> main
   "metadata": {
    "ExecuteTime": {
     "end_time": "2024-07-15T15:28:47.119481Z",
     "start_time": "2024-07-15T15:28:47.108368Z"
    }
   },
<<<<<<< HEAD
   "outputs": [],
   "source": [
    "cap_df = pd.read_csv(csv_base + routes['cic'], **csv_config)"
=======
   "outputs": [
    {
     "data": {
      "text/html": [
       "<div>\n",
       "<style scoped>\n",
       "    .dataframe tbody tr th:only-of-type {\n",
       "        vertical-align: middle;\n",
       "    }\n",
       "\n",
       "    .dataframe tbody tr th {\n",
       "        vertical-align: top;\n",
       "    }\n",
       "\n",
       "    .dataframe thead th {\n",
       "        text-align: right;\n",
       "    }\n",
       "</style>\n",
       "<table border=\"1\" class=\"dataframe\">\n",
       "  <thead>\n",
       "    <tr style=\"text-align: right;\">\n",
       "      <th></th>\n",
       "      <th>CAcopios</th>\n",
       "      <th>Productos</th>\n",
       "      <th>CapInvCA</th>\n",
       "    </tr>\n",
       "  </thead>\n",
       "  <tbody>\n",
       "    <tr>\n",
       "      <th>0</th>\n",
       "      <td>San Juan del Cesar</td>\n",
       "      <td>Queso duro</td>\n",
       "      <td>50</td>\n",
       "    </tr>\n",
       "    <tr>\n",
       "      <th>1</th>\n",
       "      <td>San Juan del Cesar</td>\n",
       "      <td>Queso blando</td>\n",
       "      <td>320</td>\n",
       "    </tr>\n",
       "    <tr>\n",
       "      <th>2</th>\n",
       "      <td>Riohacha</td>\n",
       "      <td>Queso duro</td>\n",
       "      <td>100</td>\n",
       "    </tr>\n",
       "    <tr>\n",
       "      <th>3</th>\n",
       "      <td>Riohacha</td>\n",
       "      <td>Queso blando</td>\n",
       "      <td>90</td>\n",
       "    </tr>\n",
       "    <tr>\n",
       "      <th>4</th>\n",
       "      <td>Maicao</td>\n",
       "      <td>Queso duro</td>\n",
       "      <td>10</td>\n",
       "    </tr>\n",
       "    <tr>\n",
       "      <th>5</th>\n",
       "      <td>Maicao</td>\n",
       "      <td>Queso blando</td>\n",
       "      <td>0</td>\n",
       "    </tr>\n",
       "  </tbody>\n",
       "</table>\n",
       "</div>"
      ],
      "text/plain": [
       "             CAcopios     Productos  CapInvCA\n",
       "0  San Juan del Cesar    Queso duro        50\n",
       "1  San Juan del Cesar  Queso blando       320\n",
       "2            Riohacha    Queso duro       100\n",
       "3            Riohacha  Queso blando        90\n",
       "4              Maicao    Queso duro        10\n",
       "5              Maicao  Queso blando         0"
      ]
     },
     "execution_count": 7,
     "metadata": {},
     "output_type": "execute_result"
    }
   ],
   "source": [
    "# cap_df = pd.read_csv(csv_base + routes['cic'], **csv_config)\n",
    "cap_df = pd.read_csv(csv_base + routes['cictest'], **csv_config)\n",
    "cap_df"
>>>>>>> main
   ]
  },
  {
   "cell_type": "markdown",
   "metadata": {
    "jupyter": {
     "outputs_hidden": false
    }
   },
   "source": [
    "### Costos de Inventario\n",
    "$$\n",
    "  CInventario_t = \\sum_{j \\in J} \\sum_{p \\in P} CostoInvAcopio_{pjt} InvCA_{pjt} \\qquad \\forall_t \\in T\n",
    "$$"
   ]
  },
  {
   "cell_type": "code",
<<<<<<< HEAD
   "execution_count": 40,
   "metadata": {
    "ExecuteTime": {
     "end_time": "2024-07-11T18:20:45.497375Z",
     "start_time": "2024-07-11T18:20:45.486416Z"
=======
   "execution_count": 8,
   "metadata": {
    "ExecuteTime": {
     "end_time": "2024-07-15T15:28:47.128331Z",
     "start_time": "2024-07-15T15:28:47.119481Z"
>>>>>>> main
    },
    "jupyter": {
     "outputs_hidden": false
    }
   },
<<<<<<< HEAD
   "outputs": [],
   "source": [
    "cia_df = pd.read_csv(csv_base + routes['cia'], **csv_config)"
=======
   "outputs": [
    {
     "data": {
      "text/html": [
       "<div>\n",
       "<style scoped>\n",
       "    .dataframe tbody tr th:only-of-type {\n",
       "        vertical-align: middle;\n",
       "    }\n",
       "\n",
       "    .dataframe tbody tr th {\n",
       "        vertical-align: top;\n",
       "    }\n",
       "\n",
       "    .dataframe thead th {\n",
       "        text-align: right;\n",
       "    }\n",
       "</style>\n",
       "<table border=\"1\" class=\"dataframe\">\n",
       "  <thead>\n",
       "    <tr style=\"text-align: right;\">\n",
       "      <th></th>\n",
       "      <th>CAcopios</th>\n",
       "      <th>Productos</th>\n",
       "      <th>CostoInvCA</th>\n",
       "    </tr>\n",
       "  </thead>\n",
       "  <tbody>\n",
       "    <tr>\n",
       "      <th>0</th>\n",
       "      <td>San Juan del Cesar</td>\n",
       "      <td>Queso duro</td>\n",
       "      <td>1000</td>\n",
       "    </tr>\n",
       "    <tr>\n",
       "      <th>1</th>\n",
       "      <td>San Juan del Cesar</td>\n",
       "      <td>Queso blando</td>\n",
       "      <td>1500</td>\n",
       "    </tr>\n",
       "    <tr>\n",
       "      <th>2</th>\n",
       "      <td>Riohacha</td>\n",
       "      <td>Queso duro</td>\n",
       "      <td>2000</td>\n",
       "    </tr>\n",
       "    <tr>\n",
       "      <th>3</th>\n",
       "      <td>Riohacha</td>\n",
       "      <td>Queso blando</td>\n",
       "      <td>800</td>\n",
       "    </tr>\n",
       "    <tr>\n",
       "      <th>4</th>\n",
       "      <td>Maicao</td>\n",
       "      <td>Queso duro</td>\n",
       "      <td>5000</td>\n",
       "    </tr>\n",
       "  </tbody>\n",
       "</table>\n",
       "</div>"
      ],
      "text/plain": [
       "             CAcopios     Productos  CostoInvCA\n",
       "0  San Juan del Cesar    Queso duro        1000\n",
       "1  San Juan del Cesar  Queso blando        1500\n",
       "2            Riohacha    Queso duro        2000\n",
       "3            Riohacha  Queso blando         800\n",
       "4              Maicao    Queso duro        5000"
      ]
     },
     "execution_count": 8,
     "metadata": {},
     "output_type": "execute_result"
    }
   ],
   "source": [
    "# cia_df = pd.read_csv(csv_base + routes['cia'], **csv_config)\n",
    "cia_df = pd.read_csv(csv_base + routes['ciatest'], **csv_config)\n",
    "cia_df.head()"
>>>>>>> main
   ]
  },
  {
   "cell_type": "markdown",
   "metadata": {
    "jupyter": {
     "outputs_hidden": false
    }
   },
   "source": [
    "### Costos de Transporte\n",
    "$$\n",
    "  CTransporte_t = \\sum_{k \\in K} \\sum_{j \\in J} \\sum_{p \\in P} CostoTransAcopioClie_{pjkt} \\qquad \\forall_t \\in T\n",
    "$$"
   ]
  },
  {
   "cell_type": "code",
<<<<<<< HEAD
   "execution_count": 41,
   "metadata": {
    "ExecuteTime": {
     "end_time": "2024-07-11T18:20:45.590053Z",
     "start_time": "2024-07-11T18:20:45.580898Z"
=======
   "execution_count": 9,
   "metadata": {
    "ExecuteTime": {
     "end_time": "2024-07-15T15:28:47.139926Z",
     "start_time": "2024-07-15T15:28:47.128331Z"
>>>>>>> main
    },
    "jupyter": {
     "outputs_hidden": false
    }
   },
<<<<<<< HEAD
   "outputs": [],
   "source": [
    "ctac_df = pd.read_csv(csv_base + routes['ctac'], **csv_config)"
=======
   "outputs": [
    {
     "data": {
      "text/html": [
       "<div>\n",
       "<style scoped>\n",
       "    .dataframe tbody tr th:only-of-type {\n",
       "        vertical-align: middle;\n",
       "    }\n",
       "\n",
       "    .dataframe tbody tr th {\n",
       "        vertical-align: top;\n",
       "    }\n",
       "\n",
       "    .dataframe thead th {\n",
       "        text-align: right;\n",
       "    }\n",
       "</style>\n",
       "<table border=\"1\" class=\"dataframe\">\n",
       "  <thead>\n",
       "    <tr style=\"text-align: right;\">\n",
       "      <th></th>\n",
       "      <th>CAcopios</th>\n",
       "      <th>Clientes</th>\n",
       "      <th>CostoTransCAClie</th>\n",
       "    </tr>\n",
       "  </thead>\n",
       "  <tbody>\n",
       "    <tr>\n",
       "      <th>0</th>\n",
       "      <td>San Juan del Cesar</td>\n",
       "      <td>Distribuidor1</td>\n",
       "      <td>5000</td>\n",
       "    </tr>\n",
       "    <tr>\n",
       "      <th>1</th>\n",
       "      <td>San Juan del Cesar</td>\n",
       "      <td>Distribuidor2</td>\n",
       "      <td>38000</td>\n",
       "    </tr>\n",
       "    <tr>\n",
       "      <th>2</th>\n",
       "      <td>Riohacha</td>\n",
       "      <td>Distribuidor1</td>\n",
       "      <td>5000</td>\n",
       "    </tr>\n",
       "    <tr>\n",
       "      <th>3</th>\n",
       "      <td>Riohacha</td>\n",
       "      <td>Distribuidor2</td>\n",
       "      <td>15000</td>\n",
       "    </tr>\n",
       "    <tr>\n",
       "      <th>4</th>\n",
       "      <td>Maicao</td>\n",
       "      <td>Distribuidor1</td>\n",
       "      <td>5000</td>\n",
       "    </tr>\n",
       "  </tbody>\n",
       "</table>\n",
       "</div>"
      ],
      "text/plain": [
       "             CAcopios       Clientes  CostoTransCAClie\n",
       "0  San Juan del Cesar  Distribuidor1              5000\n",
       "1  San Juan del Cesar  Distribuidor2             38000\n",
       "2            Riohacha  Distribuidor1              5000\n",
       "3            Riohacha  Distribuidor2             15000\n",
       "4              Maicao  Distribuidor1              5000"
      ]
     },
     "execution_count": 9,
     "metadata": {},
     "output_type": "execute_result"
    }
   ],
   "source": [
    "# ctac_df = pd.read_csv(csv_base + routes['ctac'], **csv_config)\n",
    "ctac_df = pd.read_csv(csv_base + routes['ctactest'], **csv_config)\n",
    "ctac_df.head()"
   ]
  },
  {
   "cell_type": "markdown",
   "metadata": {},
   "source": [
    "## Esquema de representación\n",
    "Se recibe la demanda $DemandaClie_{pkt}$ como parámetro de entrada.\n",
    "\n",
    "Se representa la cantidad $n$ de centros de acopio como un vector, donde se asigna una cantidad $x_i$ para cada centro de acopio $j_i$, la cantidad asignada representa la demanda que va a ser suplida por ese centro de acopio.\n",
    "$$\n",
    "\\begin{array} {|r|r|r|r|r|r|}\n",
    "    \\hline x_0 & x_1 & x_2 & x_3 & \\cdots & x_n \\\\\n",
    "    \\hline\n",
    "\\end{array}\n",
    "\\quad \\therefore \\quad x_i = AC_{pjkt}\n",
    "$$\n",
    "Donde se aplican las restricciones:\n",
    "$$\n",
    "\\begin{align*}\n",
    "    \\sum_{i=0}^{n} x_i &= DemandaClie_{pkt} \\\\\n",
    "    x_i &\\leq InvCA_{pjt}\n",
    "\\end{align*}\n",
    "$$"
>>>>>>> main
   ]
  },
  {
   "cell_type": "markdown",
   "metadata": {},
<<<<<<< HEAD
=======
   "source": [
    "# Escenarios de prueba\n",
    "Tomando demandas por cada centro de acopio, se definen distintos escenarios de posibles casos.\n",
    "\n",
    "**Escenario 1**: Un centro de acopio sobrepasa la demanda del cliente\n",
    "- El modelo puede asignar dicho centro de acopio para suplir con la demanda\n",
    "- El centro de acopio debe proveer esa demanda\n",
    "\n",
    "**Escenario 2**: Ningún centro de acopio cumple con toda la demanda del cliente\n",
    "- El modelo debe dar una solución de varios centros de acopio\n",
    "- La suma de la demanda por cada centro de acopio debe ser igual a la demanda\n",
    "\n",
    "**Escenario 3**: Un centro de acopio tiene en stock exactamente la cantidad de la demanda de un cliente.\n",
    "- El modelo puede tomar el centro de acopio que tiene en stock exactamente la demanda a cumplir"
   ]
  },
  {
   "cell_type": "markdown",
   "metadata": {},
>>>>>>> main
   "source": [
    "### Demandas\n",
    "Generando demandas para cada cliente, se usarán como entrada para el modelo"
   ]
  },
  {
   "cell_type": "code",
<<<<<<< HEAD
   "execution_count": 42,
=======
   "execution_count": 27,
>>>>>>> main
   "metadata": {
    "ExecuteTime": {
     "end_time": "2024-07-15T16:04:28.676622Z",
     "start_time": "2024-07-15T16:04:28.671476Z"
    }
   },
<<<<<<< HEAD
   "outputs": [
    {
     "ename": "KeyError",
     "evalue": "'Producto'",
     "output_type": "error",
     "traceback": [
      "\u001b[0;31m---------------------------------------------------------------------------\u001b[0m",
      "\u001b[0;31mKeyError\u001b[0m                                  Traceback (most recent call last)",
      "File \u001b[0;32m/usr/local/lib64/python3.11/site-packages/pandas/core/indexes/base.py:3652\u001b[0m, in \u001b[0;36mIndex.get_loc\u001b[0;34m(self, key)\u001b[0m\n\u001b[1;32m   3651\u001b[0m \u001b[38;5;28;01mtry\u001b[39;00m:\n\u001b[0;32m-> 3652\u001b[0m     \u001b[38;5;28;01mreturn\u001b[39;00m \u001b[38;5;28;43mself\u001b[39;49m\u001b[38;5;241;43m.\u001b[39;49m\u001b[43m_engine\u001b[49m\u001b[38;5;241;43m.\u001b[39;49m\u001b[43mget_loc\u001b[49m\u001b[43m(\u001b[49m\u001b[43mcasted_key\u001b[49m\u001b[43m)\u001b[49m\n\u001b[1;32m   3653\u001b[0m \u001b[38;5;28;01mexcept\u001b[39;00m \u001b[38;5;167;01mKeyError\u001b[39;00m \u001b[38;5;28;01mas\u001b[39;00m err:\n",
      "File \u001b[0;32m/usr/local/lib64/python3.11/site-packages/pandas/_libs/index.pyx:147\u001b[0m, in \u001b[0;36mpandas._libs.index.IndexEngine.get_loc\u001b[0;34m()\u001b[0m\n",
      "File \u001b[0;32m/usr/local/lib64/python3.11/site-packages/pandas/_libs/index.pyx:176\u001b[0m, in \u001b[0;36mpandas._libs.index.IndexEngine.get_loc\u001b[0;34m()\u001b[0m\n",
      "File \u001b[0;32mpandas/_libs/hashtable_class_helper.pxi:7080\u001b[0m, in \u001b[0;36mpandas._libs.hashtable.PyObjectHashTable.get_item\u001b[0;34m()\u001b[0m\n",
      "File \u001b[0;32mpandas/_libs/hashtable_class_helper.pxi:7088\u001b[0m, in \u001b[0;36mpandas._libs.hashtable.PyObjectHashTable.get_item\u001b[0;34m()\u001b[0m\n",
      "\u001b[0;31mKeyError\u001b[0m: 'Producto'",
      "\nThe above exception was the direct cause of the following exception:\n",
      "\u001b[0;31mKeyError\u001b[0m                                  Traceback (most recent call last)",
      "Cell \u001b[0;32mIn[42], line 2\u001b[0m\n\u001b[1;32m      1\u001b[0m demanda \u001b[38;5;241m=\u001b[39m \u001b[38;5;241m80\u001b[39m\n\u001b[0;32m----> 2\u001b[0m cap_queso \u001b[38;5;241m=\u001b[39m cap_df[\u001b[43mproductos_df\u001b[49m\u001b[43m[\u001b[49m\u001b[38;5;124;43m'\u001b[39;49m\u001b[38;5;124;43mProducto\u001b[39;49m\u001b[38;5;124;43m'\u001b[39;49m\u001b[43m]\u001b[49m \u001b[38;5;241m==\u001b[39m \u001b[38;5;124m'\u001b[39m\u001b[38;5;124mQueso duro\u001b[39m\u001b[38;5;124m'\u001b[39m]\n",
      "File \u001b[0;32m/usr/local/lib64/python3.11/site-packages/pandas/core/frame.py:3761\u001b[0m, in \u001b[0;36mDataFrame.__getitem__\u001b[0;34m(self, key)\u001b[0m\n\u001b[1;32m   3759\u001b[0m \u001b[38;5;28;01mif\u001b[39;00m \u001b[38;5;28mself\u001b[39m\u001b[38;5;241m.\u001b[39mcolumns\u001b[38;5;241m.\u001b[39mnlevels \u001b[38;5;241m>\u001b[39m \u001b[38;5;241m1\u001b[39m:\n\u001b[1;32m   3760\u001b[0m     \u001b[38;5;28;01mreturn\u001b[39;00m \u001b[38;5;28mself\u001b[39m\u001b[38;5;241m.\u001b[39m_getitem_multilevel(key)\n\u001b[0;32m-> 3761\u001b[0m indexer \u001b[38;5;241m=\u001b[39m \u001b[38;5;28;43mself\u001b[39;49m\u001b[38;5;241;43m.\u001b[39;49m\u001b[43mcolumns\u001b[49m\u001b[38;5;241;43m.\u001b[39;49m\u001b[43mget_loc\u001b[49m\u001b[43m(\u001b[49m\u001b[43mkey\u001b[49m\u001b[43m)\u001b[49m\n\u001b[1;32m   3762\u001b[0m \u001b[38;5;28;01mif\u001b[39;00m is_integer(indexer):\n\u001b[1;32m   3763\u001b[0m     indexer \u001b[38;5;241m=\u001b[39m [indexer]\n",
      "File \u001b[0;32m/usr/local/lib64/python3.11/site-packages/pandas/core/indexes/base.py:3654\u001b[0m, in \u001b[0;36mIndex.get_loc\u001b[0;34m(self, key)\u001b[0m\n\u001b[1;32m   3652\u001b[0m     \u001b[38;5;28;01mreturn\u001b[39;00m \u001b[38;5;28mself\u001b[39m\u001b[38;5;241m.\u001b[39m_engine\u001b[38;5;241m.\u001b[39mget_loc(casted_key)\n\u001b[1;32m   3653\u001b[0m \u001b[38;5;28;01mexcept\u001b[39;00m \u001b[38;5;167;01mKeyError\u001b[39;00m \u001b[38;5;28;01mas\u001b[39;00m err:\n\u001b[0;32m-> 3654\u001b[0m     \u001b[38;5;28;01mraise\u001b[39;00m \u001b[38;5;167;01mKeyError\u001b[39;00m(key) \u001b[38;5;28;01mfrom\u001b[39;00m \u001b[38;5;21;01merr\u001b[39;00m\n\u001b[1;32m   3655\u001b[0m \u001b[38;5;28;01mexcept\u001b[39;00m \u001b[38;5;167;01mTypeError\u001b[39;00m:\n\u001b[1;32m   3656\u001b[0m     \u001b[38;5;66;03m# If we have a listlike key, _check_indexing_error will raise\u001b[39;00m\n\u001b[1;32m   3657\u001b[0m     \u001b[38;5;66;03m#  InvalidIndexError. Otherwise we fall through and re-raise\u001b[39;00m\n\u001b[1;32m   3658\u001b[0m     \u001b[38;5;66;03m#  the TypeError.\u001b[39;00m\n\u001b[1;32m   3659\u001b[0m     \u001b[38;5;28mself\u001b[39m\u001b[38;5;241m.\u001b[39m_check_indexing_error(key)\n",
      "\u001b[0;31mKeyError\u001b[0m: 'Producto'"
     ]
    }
   ],
   "source": [
    "demanda = 80\n",
    "cap_queso = cap_df[productos_df['Producto'] == 'Queso duro']"
   ]
  },
  {
   "cell_type": "markdown",
   "metadata": {},
   "source": [
    "# Crear modelo"
   ]
  },
  {
   "cell_type": "code",
   "execution_count": 18,
   "metadata": {},
   "outputs": [],
   "source": [
    "model = ConcreteModel()"
   ]
  },
  {
   "cell_type": "markdown",
   "metadata": {},
   "source": [
    "Crear el modelo\n"
   ]
  },
  {
   "cell_type": "markdown",
   "metadata": {},
   "source": [
    "# Conjuntos"
   ]
  },
  {
   "cell_type": "code",
   "execution_count": 19,
   "metadata": {},
   "outputs": [
    {
     "ename": "KeyError",
     "evalue": "'CentroAcopio'",
     "output_type": "error",
     "traceback": [
      "\u001b[0;31m---------------------------------------------------------------------------\u001b[0m",
      "\u001b[0;31mKeyError\u001b[0m                                  Traceback (most recent call last)",
      "File \u001b[0;32m/usr/local/lib64/python3.11/site-packages/pandas/core/indexes/base.py:3652\u001b[0m, in \u001b[0;36mIndex.get_loc\u001b[0;34m(self, key)\u001b[0m\n\u001b[1;32m   3651\u001b[0m \u001b[38;5;28;01mtry\u001b[39;00m:\n\u001b[0;32m-> 3652\u001b[0m     \u001b[38;5;28;01mreturn\u001b[39;00m \u001b[38;5;28;43mself\u001b[39;49m\u001b[38;5;241;43m.\u001b[39;49m\u001b[43m_engine\u001b[49m\u001b[38;5;241;43m.\u001b[39;49m\u001b[43mget_loc\u001b[49m\u001b[43m(\u001b[49m\u001b[43mcasted_key\u001b[49m\u001b[43m)\u001b[49m\n\u001b[1;32m   3653\u001b[0m \u001b[38;5;28;01mexcept\u001b[39;00m \u001b[38;5;167;01mKeyError\u001b[39;00m \u001b[38;5;28;01mas\u001b[39;00m err:\n",
      "File \u001b[0;32m/usr/local/lib64/python3.11/site-packages/pandas/_libs/index.pyx:147\u001b[0m, in \u001b[0;36mpandas._libs.index.IndexEngine.get_loc\u001b[0;34m()\u001b[0m\n",
      "File \u001b[0;32m/usr/local/lib64/python3.11/site-packages/pandas/_libs/index.pyx:176\u001b[0m, in \u001b[0;36mpandas._libs.index.IndexEngine.get_loc\u001b[0;34m()\u001b[0m\n",
      "File \u001b[0;32mpandas/_libs/hashtable_class_helper.pxi:7080\u001b[0m, in \u001b[0;36mpandas._libs.hashtable.PyObjectHashTable.get_item\u001b[0;34m()\u001b[0m\n",
      "File \u001b[0;32mpandas/_libs/hashtable_class_helper.pxi:7088\u001b[0m, in \u001b[0;36mpandas._libs.hashtable.PyObjectHashTable.get_item\u001b[0;34m()\u001b[0m\n",
      "\u001b[0;31mKeyError\u001b[0m: 'CentroAcopio'",
      "\nThe above exception was the direct cause of the following exception:\n",
      "\u001b[0;31mKeyError\u001b[0m                                  Traceback (most recent call last)",
      "Cell \u001b[0;32mIn[19], line 1\u001b[0m\n\u001b[0;32m----> 1\u001b[0m model\u001b[38;5;241m.\u001b[39mCA \u001b[38;5;241m=\u001b[39m Set(initialize\u001b[38;5;241m=\u001b[39m\u001b[43mcacopios_df\u001b[49m\u001b[43m[\u001b[49m\u001b[38;5;124;43m'\u001b[39;49m\u001b[38;5;124;43mCentroAcopio\u001b[39;49m\u001b[38;5;124;43m'\u001b[39;49m\u001b[43m]\u001b[49m\u001b[38;5;241m.\u001b[39munique())\n\u001b[1;32m      2\u001b[0m model\u001b[38;5;241m.\u001b[39mP \u001b[38;5;241m=\u001b[39m Set(initialize\u001b[38;5;241m=\u001b[39mcacopios_df[\u001b[38;5;124m'\u001b[39m\u001b[38;5;124mPeriodo\u001b[39m\u001b[38;5;124m'\u001b[39m]\u001b[38;5;241m.\u001b[39munique())\n",
      "File \u001b[0;32m/usr/local/lib64/python3.11/site-packages/pandas/core/frame.py:3761\u001b[0m, in \u001b[0;36mDataFrame.__getitem__\u001b[0;34m(self, key)\u001b[0m\n\u001b[1;32m   3759\u001b[0m \u001b[38;5;28;01mif\u001b[39;00m \u001b[38;5;28mself\u001b[39m\u001b[38;5;241m.\u001b[39mcolumns\u001b[38;5;241m.\u001b[39mnlevels \u001b[38;5;241m>\u001b[39m \u001b[38;5;241m1\u001b[39m:\n\u001b[1;32m   3760\u001b[0m     \u001b[38;5;28;01mreturn\u001b[39;00m \u001b[38;5;28mself\u001b[39m\u001b[38;5;241m.\u001b[39m_getitem_multilevel(key)\n\u001b[0;32m-> 3761\u001b[0m indexer \u001b[38;5;241m=\u001b[39m \u001b[38;5;28;43mself\u001b[39;49m\u001b[38;5;241;43m.\u001b[39;49m\u001b[43mcolumns\u001b[49m\u001b[38;5;241;43m.\u001b[39;49m\u001b[43mget_loc\u001b[49m\u001b[43m(\u001b[49m\u001b[43mkey\u001b[49m\u001b[43m)\u001b[49m\n\u001b[1;32m   3762\u001b[0m \u001b[38;5;28;01mif\u001b[39;00m is_integer(indexer):\n\u001b[1;32m   3763\u001b[0m     indexer \u001b[38;5;241m=\u001b[39m [indexer]\n",
      "File \u001b[0;32m/usr/local/lib64/python3.11/site-packages/pandas/core/indexes/base.py:3654\u001b[0m, in \u001b[0;36mIndex.get_loc\u001b[0;34m(self, key)\u001b[0m\n\u001b[1;32m   3652\u001b[0m     \u001b[38;5;28;01mreturn\u001b[39;00m \u001b[38;5;28mself\u001b[39m\u001b[38;5;241m.\u001b[39m_engine\u001b[38;5;241m.\u001b[39mget_loc(casted_key)\n\u001b[1;32m   3653\u001b[0m \u001b[38;5;28;01mexcept\u001b[39;00m \u001b[38;5;167;01mKeyError\u001b[39;00m \u001b[38;5;28;01mas\u001b[39;00m err:\n\u001b[0;32m-> 3654\u001b[0m     \u001b[38;5;28;01mraise\u001b[39;00m \u001b[38;5;167;01mKeyError\u001b[39;00m(key) \u001b[38;5;28;01mfrom\u001b[39;00m \u001b[38;5;21;01merr\u001b[39;00m\n\u001b[1;32m   3655\u001b[0m \u001b[38;5;28;01mexcept\u001b[39;00m \u001b[38;5;167;01mTypeError\u001b[39;00m:\n\u001b[1;32m   3656\u001b[0m     \u001b[38;5;66;03m# If we have a listlike key, _check_indexing_error will raise\u001b[39;00m\n\u001b[1;32m   3657\u001b[0m     \u001b[38;5;66;03m#  InvalidIndexError. Otherwise we fall through and re-raise\u001b[39;00m\n\u001b[1;32m   3658\u001b[0m     \u001b[38;5;66;03m#  the TypeError.\u001b[39;00m\n\u001b[1;32m   3659\u001b[0m     \u001b[38;5;28mself\u001b[39m\u001b[38;5;241m.\u001b[39m_check_indexing_error(key)\n",
      "\u001b[0;31mKeyError\u001b[0m: 'CentroAcopio'"
     ]
    }
   ],
   "source": [
    "model.CA = Set(initialize=cacopios_df['CentroAcopio'].unique())\n",
    "model.P = Set(initialize=cacopios_df['Periodo'].unique())"
   ]
  },
  {
   "cell_type": "markdown",
   "metadata": {},
   "source": [
    "# Parametros"
   ]
  },
  {
   "cell_type": "code",
   "execution_count": 20,
   "metadata": {},
   "outputs": [
    {
     "ename": "AttributeError",
     "evalue": "'ConcreteModel' object has no attribute 'P'",
     "output_type": "error",
     "traceback": [
      "\u001b[0;31m---------------------------------------------------------------------------\u001b[0m",
      "\u001b[0;31mAttributeError\u001b[0m                            Traceback (most recent call last)",
      "Cell \u001b[0;32mIn[20], line 2\u001b[0m\n\u001b[1;32m      1\u001b[0m \u001b[38;5;66;03m# Parámetros\u001b[39;00m\n\u001b[0;32m----> 2\u001b[0m model\u001b[38;5;241m.\u001b[39mDemanda \u001b[38;5;241m=\u001b[39m Param(\u001b[43mmodel\u001b[49m\u001b[38;5;241;43m.\u001b[39;49m\u001b[43mP\u001b[49m, within\u001b[38;5;241m=\u001b[39mNonNegativeReals, initialize\u001b[38;5;241m=\u001b[39m{p: demanda \u001b[38;5;28;01mfor\u001b[39;00m p \u001b[38;5;129;01min\u001b[39;00m model\u001b[38;5;241m.\u001b[39mP})\n\u001b[1;32m      3\u001b[0m model\u001b[38;5;241m.\u001b[39mStock \u001b[38;5;241m=\u001b[39m Param(model\u001b[38;5;241m.\u001b[39mCA, model\u001b[38;5;241m.\u001b[39mP, within\u001b[38;5;241m=\u001b[39mNonNegativeReals, initialize\u001b[38;5;241m=\u001b[39m\u001b[38;5;28mdict\u001b[39m(((row[\u001b[38;5;124m'\u001b[39m\u001b[38;5;124mCentroAcopio\u001b[39m\u001b[38;5;124m'\u001b[39m], row[\u001b[38;5;124m'\u001b[39m\u001b[38;5;124mPeriodo\u001b[39m\u001b[38;5;124m'\u001b[39m]), row[\u001b[38;5;124m'\u001b[39m\u001b[38;5;124mCapInvCA\u001b[39m\u001b[38;5;124m'\u001b[39m]) \u001b[38;5;28;01mfor\u001b[39;00m idx, row \u001b[38;5;129;01min\u001b[39;00m cap_df\u001b[38;5;241m.\u001b[39miterrows()))\n\u001b[1;32m      4\u001b[0m model\u001b[38;5;241m.\u001b[39mTiempoTransp \u001b[38;5;241m=\u001b[39m Param(model\u001b[38;5;241m.\u001b[39mCA, model\u001b[38;5;241m.\u001b[39mCA, within\u001b[38;5;241m=\u001b[39mNonNegativeReals, initialize\u001b[38;5;241m=\u001b[39m\u001b[38;5;28mdict\u001b[39m(((row[\u001b[38;5;124m'\u001b[39m\u001b[38;5;124mCentroOrigen\u001b[39m\u001b[38;5;124m'\u001b[39m], row[\u001b[38;5;124m'\u001b[39m\u001b[38;5;124mCentroDestino\u001b[39m\u001b[38;5;124m'\u001b[39m]), row[\u001b[38;5;124m'\u001b[39m\u001b[38;5;124mCostoTransporte\u001b[39m\u001b[38;5;124m'\u001b[39m]) \u001b[38;5;28;01mfor\u001b[39;00m idx, row \u001b[38;5;129;01min\u001b[39;00m ctac_df\u001b[38;5;241m.\u001b[39miterrows()))\n",
      "File \u001b[0;32m/usr/local/lib64/python3.11/site-packages/pyomo/core/base/block.py:559\u001b[0m, in \u001b[0;36m_BlockData.__getattr__\u001b[0;34m(self, val)\u001b[0m\n\u001b[1;32m    556\u001b[0m     \u001b[38;5;28;01mreturn\u001b[39;00m _component_decorator(\u001b[38;5;28mself\u001b[39m, ModelComponentFactory\u001b[38;5;241m.\u001b[39mget_class(val))\n\u001b[1;32m    557\u001b[0m \u001b[38;5;66;03m# Since the base classes don't support getattr, we can just\u001b[39;00m\n\u001b[1;32m    558\u001b[0m \u001b[38;5;66;03m# throw the \"normal\" AttributeError\u001b[39;00m\n\u001b[0;32m--> 559\u001b[0m \u001b[38;5;28;01mraise\u001b[39;00m \u001b[38;5;167;01mAttributeError\u001b[39;00m(\n\u001b[1;32m    560\u001b[0m     \u001b[38;5;124m\"\u001b[39m\u001b[38;5;124m'\u001b[39m\u001b[38;5;132;01m%s\u001b[39;00m\u001b[38;5;124m'\u001b[39m\u001b[38;5;124m object has no attribute \u001b[39m\u001b[38;5;124m'\u001b[39m\u001b[38;5;132;01m%s\u001b[39;00m\u001b[38;5;124m'\u001b[39m\u001b[38;5;124m\"\u001b[39m \u001b[38;5;241m%\u001b[39m (\u001b[38;5;28mself\u001b[39m\u001b[38;5;241m.\u001b[39m\u001b[38;5;18m__class__\u001b[39m\u001b[38;5;241m.\u001b[39m\u001b[38;5;18m__name__\u001b[39m, val)\n\u001b[1;32m    561\u001b[0m )\n",
      "\u001b[0;31mAttributeError\u001b[0m: 'ConcreteModel' object has no attribute 'P'"
     ]
    }
   ],
   "source": [
    "# Parámetros\n",
    "model.Demanda = Param(model.P, within=NonNegativeReals, initialize={p: demanda for p in model.P})\n",
    "model.Stock = Param(model.CA, model.P, within=NonNegativeReals, initialize=dict(((row['CentroAcopio'], row['Periodo']), row['CapInvCA']) for idx, row in cap_df.iterrows()))\n",
    "model.TiempoTransp = Param(model.CA, model.CA, within=NonNegativeReals, initialize=dict(((row['CentroOrigen'], row['CentroDestino']), row['CostoTransporte']) for idx, row in ctac_df.iterrows()))\n",
    "model.ProduccionPotencial = Param(model.CA, model.P, within=NonNegativeReals, initialize=dict(((row['CentroAcopio'], row['Periodo']), row['ProduccionPotencial']) for idx, row in cacopios_df.iterrows()))\n",
    "model.Precio = Param(model.CA, within=NonNegativeReals, initialize=dict(zip(cacopios_df['CentroAcopio'], cacopios_df['Precio'])))\n",
    "model.TiempoAlistam = Param(model.CA, within=NonNegativeReals, initialize=dict(zip(cacopios_df['CentroAcopio'], cacopios_df['TiempoAlistamiento'])))\n",
    "model.TiempoMaxDefinido = Param(within=NonNegativeReals, initialize=cacopios_df['TiempoMaxDefinido'].iloc[0])\n",
    "model.cTransp = Param(model.CA, model.CA, within=NonNegativeReals, initialize=dict(((row['CentroOrigen'], row['CentroDestino']), row['CostoTransporte']) for idx, row in ctac_df.iterrows()))\n",
    "model.cTiempo = Param(within=NonNegativeReals, initialize=cacopios_df['CostoTiempo'].iloc[0])"
   ]
  },
  {
   "cell_type": "markdown",
   "metadata": {},
   "source": [
    "# Variables"
   ]
  },
  {
   "cell_type": "code",
   "execution_count": 21,
   "metadata": {},
   "outputs": [
    {
     "ename": "AttributeError",
     "evalue": "'ConcreteModel' object has no attribute 'CA'",
     "output_type": "error",
     "traceback": [
      "\u001b[0;31m---------------------------------------------------------------------------\u001b[0m",
      "\u001b[0;31mAttributeError\u001b[0m                            Traceback (most recent call last)",
      "Cell \u001b[0;32mIn[21], line 1\u001b[0m\n\u001b[0;32m----> 1\u001b[0m model\u001b[38;5;241m.\u001b[39mk \u001b[38;5;241m=\u001b[39m Var(\u001b[43mmodel\u001b[49m\u001b[38;5;241;43m.\u001b[39;49m\u001b[43mCA\u001b[49m, model\u001b[38;5;241m.\u001b[39mP, within\u001b[38;5;241m=\u001b[39mNonNegativeReals, bounds\u001b[38;5;241m=\u001b[39m\u001b[38;5;28;01mlambda\u001b[39;00m model, ca, p: (\u001b[38;5;241m0\u001b[39m, cap_queso[cap_queso[\u001b[38;5;124m'\u001b[39m\u001b[38;5;124mCentroAcopio\u001b[39m\u001b[38;5;124m'\u001b[39m] \u001b[38;5;241m==\u001b[39m ca][\u001b[38;5;124m'\u001b[39m\u001b[38;5;124mCapInvCA\u001b[39m\u001b[38;5;124m'\u001b[39m]\u001b[38;5;241m.\u001b[39mvalues[\u001b[38;5;241m0\u001b[39m]))\n",
      "File \u001b[0;32m/usr/local/lib64/python3.11/site-packages/pyomo/core/base/block.py:559\u001b[0m, in \u001b[0;36m_BlockData.__getattr__\u001b[0;34m(self, val)\u001b[0m\n\u001b[1;32m    556\u001b[0m     \u001b[38;5;28;01mreturn\u001b[39;00m _component_decorator(\u001b[38;5;28mself\u001b[39m, ModelComponentFactory\u001b[38;5;241m.\u001b[39mget_class(val))\n\u001b[1;32m    557\u001b[0m \u001b[38;5;66;03m# Since the base classes don't support getattr, we can just\u001b[39;00m\n\u001b[1;32m    558\u001b[0m \u001b[38;5;66;03m# throw the \"normal\" AttributeError\u001b[39;00m\n\u001b[0;32m--> 559\u001b[0m \u001b[38;5;28;01mraise\u001b[39;00m \u001b[38;5;167;01mAttributeError\u001b[39;00m(\n\u001b[1;32m    560\u001b[0m     \u001b[38;5;124m\"\u001b[39m\u001b[38;5;124m'\u001b[39m\u001b[38;5;132;01m%s\u001b[39;00m\u001b[38;5;124m'\u001b[39m\u001b[38;5;124m object has no attribute \u001b[39m\u001b[38;5;124m'\u001b[39m\u001b[38;5;132;01m%s\u001b[39;00m\u001b[38;5;124m'\u001b[39m\u001b[38;5;124m\"\u001b[39m \u001b[38;5;241m%\u001b[39m (\u001b[38;5;28mself\u001b[39m\u001b[38;5;241m.\u001b[39m\u001b[38;5;18m__class__\u001b[39m\u001b[38;5;241m.\u001b[39m\u001b[38;5;18m__name__\u001b[39m, val)\n\u001b[1;32m    561\u001b[0m )\n",
      "\u001b[0;31mAttributeError\u001b[0m: 'ConcreteModel' object has no attribute 'CA'"
     ]
    }
   ],
   "source": [
    "model.k = Var(model.CA, model.P, within=NonNegativeReals, bounds=lambda model, ca, p: (0, cap_queso[cap_queso['CentroAcopio'] == ca]['CapInvCA'].values[0]))"
   ]
  },
  {
   "cell_type": "code",
   "execution_count": 22,
   "metadata": {},
   "outputs": [
    {
     "ename": "SyntaxError",
     "evalue": "invalid syntax (965617164.py, line 1)",
     "output_type": "error",
     "traceback": [
      "\u001b[0;36m  Cell \u001b[0;32mIn[22], line 1\u001b[0;36m\u001b[0m\n\u001b[0;31m    Centro de acopio principal (fijar uno de los centros como principal)\u001b[0m\n\u001b[0m           ^\u001b[0m\n\u001b[0;31mSyntaxError\u001b[0m\u001b[0;31m:\u001b[0m invalid syntax\n"
     ]
    }
   ],
   "source": [
    "Centro de acopio principal (fijar uno de los centros como principal)"
   ]
  },
  {
   "cell_type": "code",
   "execution_count": 23,
   "metadata": {},
   "outputs": [],
   "source": [
    "model.CA_principal = Param(within=Any, initialize='CentroPrincipal')"
   ]
  },
  {
   "cell_type": "markdown",
   "metadata": {},
   "source": [
    "# Restricciones"
   ]
  },
  {
   "cell_type": "markdown",
   "metadata": {},
   "source": [
    "Restricción de demanda"
   ]
  },
  {
   "cell_type": "code",
   "execution_count": 24,
   "metadata": {},
   "outputs": [
    {
     "ename": "AttributeError",
     "evalue": "'ConcreteModel' object has no attribute 'P'",
     "output_type": "error",
     "traceback": [
      "\u001b[0;31m---------------------------------------------------------------------------\u001b[0m",
      "\u001b[0;31mAttributeError\u001b[0m                            Traceback (most recent call last)",
      "Cell \u001b[0;32mIn[24], line 3\u001b[0m\n\u001b[1;32m      1\u001b[0m \u001b[38;5;28;01mdef\u001b[39;00m \u001b[38;5;21mdemanda_constraint\u001b[39m(model, p):\n\u001b[1;32m      2\u001b[0m     \u001b[38;5;28;01mreturn\u001b[39;00m \u001b[38;5;28msum\u001b[39m(model\u001b[38;5;241m.\u001b[39mk[ca, p] \u001b[38;5;28;01mfor\u001b[39;00m ca \u001b[38;5;129;01min\u001b[39;00m model\u001b[38;5;241m.\u001b[39mCA) \u001b[38;5;241m==\u001b[39m model\u001b[38;5;241m.\u001b[39mDemanda[p]\n\u001b[0;32m----> 3\u001b[0m model\u001b[38;5;241m.\u001b[39mDemandaConstraint \u001b[38;5;241m=\u001b[39m Constraint(\u001b[43mmodel\u001b[49m\u001b[38;5;241;43m.\u001b[39;49m\u001b[43mP\u001b[49m, rule\u001b[38;5;241m=\u001b[39mdemanda_constraint)\n",
      "File \u001b[0;32m/usr/local/lib64/python3.11/site-packages/pyomo/core/base/block.py:559\u001b[0m, in \u001b[0;36m_BlockData.__getattr__\u001b[0;34m(self, val)\u001b[0m\n\u001b[1;32m    556\u001b[0m     \u001b[38;5;28;01mreturn\u001b[39;00m _component_decorator(\u001b[38;5;28mself\u001b[39m, ModelComponentFactory\u001b[38;5;241m.\u001b[39mget_class(val))\n\u001b[1;32m    557\u001b[0m \u001b[38;5;66;03m# Since the base classes don't support getattr, we can just\u001b[39;00m\n\u001b[1;32m    558\u001b[0m \u001b[38;5;66;03m# throw the \"normal\" AttributeError\u001b[39;00m\n\u001b[0;32m--> 559\u001b[0m \u001b[38;5;28;01mraise\u001b[39;00m \u001b[38;5;167;01mAttributeError\u001b[39;00m(\n\u001b[1;32m    560\u001b[0m     \u001b[38;5;124m\"\u001b[39m\u001b[38;5;124m'\u001b[39m\u001b[38;5;132;01m%s\u001b[39;00m\u001b[38;5;124m'\u001b[39m\u001b[38;5;124m object has no attribute \u001b[39m\u001b[38;5;124m'\u001b[39m\u001b[38;5;132;01m%s\u001b[39;00m\u001b[38;5;124m'\u001b[39m\u001b[38;5;124m\"\u001b[39m \u001b[38;5;241m%\u001b[39m (\u001b[38;5;28mself\u001b[39m\u001b[38;5;241m.\u001b[39m\u001b[38;5;18m__class__\u001b[39m\u001b[38;5;241m.\u001b[39m\u001b[38;5;18m__name__\u001b[39m, val)\n\u001b[1;32m    561\u001b[0m )\n",
      "\u001b[0;31mAttributeError\u001b[0m: 'ConcreteModel' object has no attribute 'P'"
     ]
    }
   ],
   "source": [
    "def demanda_constraint(model, p):\n",
    "    return sum(model.k[ca, p] for ca in model.CA) == model.Demanda[p]\n",
    "model.DemandaConstraint = Constraint(model.P, rule=demanda_constraint)"
   ]
  },
  {
   "cell_type": "markdown",
   "metadata": {},
   "source": [
    "Restricción de inventario y producción potencial"
   ]
  },
  {
   "cell_type": "code",
   "execution_count": 25,
   "metadata": {},
   "outputs": [
    {
     "ename": "AttributeError",
     "evalue": "'ConcreteModel' object has no attribute 'CA'",
     "output_type": "error",
     "traceback": [
      "\u001b[0;31m---------------------------------------------------------------------------\u001b[0m",
      "\u001b[0;31mAttributeError\u001b[0m                            Traceback (most recent call last)",
      "Cell \u001b[0;32mIn[25], line 3\u001b[0m\n\u001b[1;32m      1\u001b[0m \u001b[38;5;28;01mdef\u001b[39;00m \u001b[38;5;21minventario_constraint\u001b[39m(model, ca, p):\n\u001b[1;32m      2\u001b[0m     \u001b[38;5;28;01mreturn\u001b[39;00m model\u001b[38;5;241m.\u001b[39mk[ca, p] \u001b[38;5;241m<\u001b[39m\u001b[38;5;241m=\u001b[39m model\u001b[38;5;241m.\u001b[39mStock[ca, p] \u001b[38;5;241m+\u001b[39m model\u001b[38;5;241m.\u001b[39mProduccionPotencial[ca, p]\n\u001b[0;32m----> 3\u001b[0m model\u001b[38;5;241m.\u001b[39mInventarioConstraint \u001b[38;5;241m=\u001b[39m Constraint(\u001b[43mmodel\u001b[49m\u001b[38;5;241;43m.\u001b[39;49m\u001b[43mCA\u001b[49m, model\u001b[38;5;241m.\u001b[39mP, rule\u001b[38;5;241m=\u001b[39minventario_constraint)\n",
      "File \u001b[0;32m/usr/local/lib64/python3.11/site-packages/pyomo/core/base/block.py:559\u001b[0m, in \u001b[0;36m_BlockData.__getattr__\u001b[0;34m(self, val)\u001b[0m\n\u001b[1;32m    556\u001b[0m     \u001b[38;5;28;01mreturn\u001b[39;00m _component_decorator(\u001b[38;5;28mself\u001b[39m, ModelComponentFactory\u001b[38;5;241m.\u001b[39mget_class(val))\n\u001b[1;32m    557\u001b[0m \u001b[38;5;66;03m# Since the base classes don't support getattr, we can just\u001b[39;00m\n\u001b[1;32m    558\u001b[0m \u001b[38;5;66;03m# throw the \"normal\" AttributeError\u001b[39;00m\n\u001b[0;32m--> 559\u001b[0m \u001b[38;5;28;01mraise\u001b[39;00m \u001b[38;5;167;01mAttributeError\u001b[39;00m(\n\u001b[1;32m    560\u001b[0m     \u001b[38;5;124m\"\u001b[39m\u001b[38;5;124m'\u001b[39m\u001b[38;5;132;01m%s\u001b[39;00m\u001b[38;5;124m'\u001b[39m\u001b[38;5;124m object has no attribute \u001b[39m\u001b[38;5;124m'\u001b[39m\u001b[38;5;132;01m%s\u001b[39;00m\u001b[38;5;124m'\u001b[39m\u001b[38;5;124m\"\u001b[39m \u001b[38;5;241m%\u001b[39m (\u001b[38;5;28mself\u001b[39m\u001b[38;5;241m.\u001b[39m\u001b[38;5;18m__class__\u001b[39m\u001b[38;5;241m.\u001b[39m\u001b[38;5;18m__name__\u001b[39m, val)\n\u001b[1;32m    561\u001b[0m )\n",
      "\u001b[0;31mAttributeError\u001b[0m: 'ConcreteModel' object has no attribute 'CA'"
     ]
    }
   ],
   "source": [
    "def inventario_constraint(model, ca, p):\n",
    "    return model.k[ca, p] <= model.Stock[ca, p] + model.ProduccionPotencial[ca, p]\n",
    "model.InventarioConstraint = Constraint(model.CA, model.P, rule=inventario_constraint)"
   ]
  },
  {
   "cell_type": "markdown",
   "metadata": {},
   "source": [
    "Restricción de tiempo de alistamiento"
   ]
  },
  {
   "cell_type": "code",
   "execution_count": 26,
   "metadata": {},
   "outputs": [
    {
     "ename": "AttributeError",
     "evalue": "'ConcreteModel' object has no attribute 'CA'",
     "output_type": "error",
     "traceback": [
      "\u001b[0;31m---------------------------------------------------------------------------\u001b[0m",
      "\u001b[0;31mAttributeError\u001b[0m                            Traceback (most recent call last)",
      "Cell \u001b[0;32mIn[26], line 3\u001b[0m\n\u001b[1;32m      1\u001b[0m \u001b[38;5;28;01mdef\u001b[39;00m \u001b[38;5;21mtiempo_alistam_constraint\u001b[39m(model, ca):\n\u001b[1;32m      2\u001b[0m     \u001b[38;5;28;01mreturn\u001b[39;00m model\u001b[38;5;241m.\u001b[39mTiempoAlistam[ca] \u001b[38;5;241m<\u001b[39m\u001b[38;5;241m=\u001b[39m model\u001b[38;5;241m.\u001b[39mTiempoMaxDefinido\n\u001b[0;32m----> 3\u001b[0m model\u001b[38;5;241m.\u001b[39mTiempoAlistamConstraint \u001b[38;5;241m=\u001b[39m Constraint(\u001b[43mmodel\u001b[49m\u001b[38;5;241;43m.\u001b[39;49m\u001b[43mCA\u001b[49m, rule\u001b[38;5;241m=\u001b[39mtiempo_alistam_constraint)\n",
      "File \u001b[0;32m/usr/local/lib64/python3.11/site-packages/pyomo/core/base/block.py:559\u001b[0m, in \u001b[0;36m_BlockData.__getattr__\u001b[0;34m(self, val)\u001b[0m\n\u001b[1;32m    556\u001b[0m     \u001b[38;5;28;01mreturn\u001b[39;00m _component_decorator(\u001b[38;5;28mself\u001b[39m, ModelComponentFactory\u001b[38;5;241m.\u001b[39mget_class(val))\n\u001b[1;32m    557\u001b[0m \u001b[38;5;66;03m# Since the base classes don't support getattr, we can just\u001b[39;00m\n\u001b[1;32m    558\u001b[0m \u001b[38;5;66;03m# throw the \"normal\" AttributeError\u001b[39;00m\n\u001b[0;32m--> 559\u001b[0m \u001b[38;5;28;01mraise\u001b[39;00m \u001b[38;5;167;01mAttributeError\u001b[39;00m(\n\u001b[1;32m    560\u001b[0m     \u001b[38;5;124m\"\u001b[39m\u001b[38;5;124m'\u001b[39m\u001b[38;5;132;01m%s\u001b[39;00m\u001b[38;5;124m'\u001b[39m\u001b[38;5;124m object has no attribute \u001b[39m\u001b[38;5;124m'\u001b[39m\u001b[38;5;132;01m%s\u001b[39;00m\u001b[38;5;124m'\u001b[39m\u001b[38;5;124m\"\u001b[39m \u001b[38;5;241m%\u001b[39m (\u001b[38;5;28mself\u001b[39m\u001b[38;5;241m.\u001b[39m\u001b[38;5;18m__class__\u001b[39m\u001b[38;5;241m.\u001b[39m\u001b[38;5;18m__name__\u001b[39m, val)\n\u001b[1;32m    561\u001b[0m )\n",
      "\u001b[0;31mAttributeError\u001b[0m: 'ConcreteModel' object has no attribute 'CA'"
     ]
    }
   ],
   "source": [
    "def tiempo_alistam_constraint(model, ca):\n",
    "    return model.TiempoAlistam[ca] <= model.TiempoMaxDefinido\n",
    "model.TiempoAlistamConstraint = Constraint(model.CA, rule=tiempo_alistam_constraint)"
   ]
  },
  {
   "cell_type": "markdown",
   "metadata": {},
   "source": [
    "Restricción de tiempo de traslado"
   ]
  },
  {
   "cell_type": "code",
   "execution_count": 27,
   "metadata": {},
   "outputs": [
    {
     "ename": "AttributeError",
     "evalue": "'ConcreteModel' object has no attribute 'CA'",
     "output_type": "error",
     "traceback": [
      "\u001b[0;31m---------------------------------------------------------------------------\u001b[0m",
      "\u001b[0;31mAttributeError\u001b[0m                            Traceback (most recent call last)",
      "Cell \u001b[0;32mIn[27], line 3\u001b[0m\n\u001b[1;32m      1\u001b[0m \u001b[38;5;28;01mdef\u001b[39;00m \u001b[38;5;21mtiempo_transp_constraint\u001b[39m(model, ca1, ca2):\n\u001b[1;32m      2\u001b[0m     \u001b[38;5;28;01mreturn\u001b[39;00m model\u001b[38;5;241m.\u001b[39mTiempoTransp[ca1, ca2] \u001b[38;5;241m<\u001b[39m\u001b[38;5;241m=\u001b[39m model\u001b[38;5;241m.\u001b[39mTiempoMaxDefinido\n\u001b[0;32m----> 3\u001b[0m model\u001b[38;5;241m.\u001b[39mTiempoTranspConstraint \u001b[38;5;241m=\u001b[39m Constraint(\u001b[43mmodel\u001b[49m\u001b[38;5;241;43m.\u001b[39;49m\u001b[43mCA\u001b[49m, model\u001b[38;5;241m.\u001b[39mCA, rule\u001b[38;5;241m=\u001b[39mtiempo_transp_constraint)\n",
      "File \u001b[0;32m/usr/local/lib64/python3.11/site-packages/pyomo/core/base/block.py:559\u001b[0m, in \u001b[0;36m_BlockData.__getattr__\u001b[0;34m(self, val)\u001b[0m\n\u001b[1;32m    556\u001b[0m     \u001b[38;5;28;01mreturn\u001b[39;00m _component_decorator(\u001b[38;5;28mself\u001b[39m, ModelComponentFactory\u001b[38;5;241m.\u001b[39mget_class(val))\n\u001b[1;32m    557\u001b[0m \u001b[38;5;66;03m# Since the base classes don't support getattr, we can just\u001b[39;00m\n\u001b[1;32m    558\u001b[0m \u001b[38;5;66;03m# throw the \"normal\" AttributeError\u001b[39;00m\n\u001b[0;32m--> 559\u001b[0m \u001b[38;5;28;01mraise\u001b[39;00m \u001b[38;5;167;01mAttributeError\u001b[39;00m(\n\u001b[1;32m    560\u001b[0m     \u001b[38;5;124m\"\u001b[39m\u001b[38;5;124m'\u001b[39m\u001b[38;5;132;01m%s\u001b[39;00m\u001b[38;5;124m'\u001b[39m\u001b[38;5;124m object has no attribute \u001b[39m\u001b[38;5;124m'\u001b[39m\u001b[38;5;132;01m%s\u001b[39;00m\u001b[38;5;124m'\u001b[39m\u001b[38;5;124m\"\u001b[39m \u001b[38;5;241m%\u001b[39m (\u001b[38;5;28mself\u001b[39m\u001b[38;5;241m.\u001b[39m\u001b[38;5;18m__class__\u001b[39m\u001b[38;5;241m.\u001b[39m\u001b[38;5;18m__name__\u001b[39m, val)\n\u001b[1;32m    561\u001b[0m )\n",
      "\u001b[0;31mAttributeError\u001b[0m: 'ConcreteModel' object has no attribute 'CA'"
     ]
    }
   ],
   "source": [
    "def tiempo_transp_constraint(model, ca1, ca2):\n",
    "    return model.TiempoTransp[ca1, ca2] <= model.TiempoMaxDefinido\n",
    "model.TiempoTranspConstraint = Constraint(model.CA, model.CA, rule=tiempo_transp_constraint)"
=======
   "outputs": [],
   "source": [
    "demanda = 120\n",
    "cap_queso = cap_df[cap_df[productos] == 'Queso duro']\n",
    "bounds = tuple((0, x_i) for x_i in cap_queso['CapInvCA'])"
>>>>>>> main
   ]
  },
  {
   "cell_type": "markdown",
   "metadata": {},
   "source": [
    "## Función objetivo\n",
    "$$\n",
    "Min(F) = CInventario + CTransporte\n",
    "$$"
   ]
  },
  {
   "cell_type": "code",
<<<<<<< HEAD
   "execution_count": 28,
=======
   "execution_count": 11,
>>>>>>> main
   "metadata": {
    "ExecuteTime": {
     "end_time": "2024-07-15T15:28:47.152048Z",
     "start_time": "2024-07-15T15:28:47.144755Z"
    }
   },
<<<<<<< HEAD
   "outputs": [
    {
     "ename": "SyntaxError",
     "evalue": "incomplete input (3173880608.py, line 5)",
     "output_type": "error",
     "traceback": [
      "\u001b[0;36m  Cell \u001b[0;32mIn[28], line 5\u001b[0;36m\u001b[0m\n\u001b[0;31m    model.Objetivo = Objective(rule=objetivo, sense=minimize\u001b[0m\n\u001b[0m                                                            ^\u001b[0m\n\u001b[0;31mSyntaxError\u001b[0m\u001b[0;31m:\u001b[0m incomplete input\n"
     ]
    }
   ],
   "source": [
    "def objetivo(model):\n",
    "    return sum(model.k[ca, p] * model.Precio[ca] + model.cTransp[ca, model.CA_principal] + \n",
    "               (model.TiempoAlistam[ca] + model.TiempoTransp[ca, model.CA_principal]) * model.cTiempo\n",
    "               for ca in model.CA for p in model.P)\n",
    "model.Objetivo = Objective(rule=objetivo, sense=minimize"
   ]
  },
  {
   "cell_type": "code",
   "execution_count": 29,
   "metadata": {},
   "outputs": [
    {
     "ename": "SyntaxError",
     "evalue": "invalid syntax (3950955308.py, line 1)",
     "output_type": "error",
     "traceback": [
      "\u001b[0;36m  Cell \u001b[0;32mIn[29], line 1\u001b[0;36m\u001b[0m\n\u001b[0;31m    Resolver el modelo\u001b[0m\n\u001b[0m             ^\u001b[0m\n\u001b[0;31mSyntaxError\u001b[0m\u001b[0;31m:\u001b[0m invalid syntax\n"
     ]
    }
   ],
   "source": [
    "Resolver el modelo\n"
   ]
  },
  {
   "cell_type": "code",
   "execution_count": 30,
   "metadata": {},
   "outputs": [
    {
     "name": "stdout",
     "output_type": "stream",
     "text": [
      "GLPSOL--GLPK LP/MIP Solver 5.0\n",
      "Parameter(s) specified in the command line:\n",
      " --write /tmp/tmpi_6urm1_.glpk.raw --wglp /tmp/tmpsssgjju4.glpk.glp --cpxlp\n",
      " /tmp/tmpgmjmjfcg.pyomo.lp\n",
      "Reading problem data from '/tmp/tmpgmjmjfcg.pyomo.lp'...\n",
      "1 row, 1 column, 1 non-zero\n",
      "15 lines were read\n",
      "Writing problem data to '/tmp/tmpsssgjju4.glpk.glp'...\n",
      "9 lines were written\n",
      "GLPK Simplex Optimizer 5.0\n",
      "1 row, 1 column, 1 non-zero\n",
      "Preprocessing...\n",
      "~     0: obj =   1.000000000e+00  infeas =  0.000e+00\n",
      "OPTIMAL SOLUTION FOUND BY LP PREPROCESSOR\n",
      "Time used:   0.0 secs\n",
      "Memory used: 0.0 Mb (39693 bytes)\n",
      "Writing basic solution to '/tmp/tmpi_6urm1_.glpk.raw'...\n",
      "11 lines were written\n"
     ]
    }
   ],
   "source": [
    "solver = SolverFactory('glpk')\n",
    "result = solver.solve(model, tee=True)"
=======
   "outputs": [],
   "source": [
    "# F(x)\n",
    "def f(x):\n",
    "    delta = 0\n",
    "\n",
    "    for idx in range(x.shape[0]):\n",
    "        ca = cacopios_df.loc[idx]\n",
    "\n",
    "        if x[idx] == 0.:\n",
    "            continue\n",
    "\n",
    "        # Costos de Inventario\n",
    "        costo_inv_ca = cia_df[(cia_df[cacopios] == ca[cacopios]) & (cia_df[productos] == 'Queso duro')]\n",
    "        # Costos de Transporte\n",
    "        costo_trans_ca = ctac_df[(ctac_df[cacopios] == ca[cacopios]) & (ctac_df[clientes] == 'Distribuidor1')]\n",
    "\n",
    "        delta += x[idx] * costo_inv_ca['CostoInvCA'].values[0]\n",
    "        delta += np.array(costo_trans_ca['CostoTransCAClie'].values[0])\n",
    "    \n",
    "    return delta"
   ]
  },
  {
   "cell_type": "markdown",
   "metadata": {},
   "source": [
    "## scipy"
   ]
  },
  {
   "cell_type": "markdown",
   "metadata": {},
   "source": [
    "**LinearConstraint**: $ lb \\leq A \\cdot v[x] \\leq ub $\n",
    "\n",
    "**NonLinearConstraint**: $ lb \\leq g(x) \\leq ub $"
>>>>>>> main
   ]
  },
  {
   "cell_type": "code",
<<<<<<< HEAD
   "execution_count": 31,
   "metadata": {},
   "outputs": [
    {
     "ename": "SyntaxError",
     "evalue": "invalid syntax (3617708748.py, line 1)",
     "output_type": "error",
     "traceback": [
      "\u001b[0;36m  Cell \u001b[0;32mIn[31], line 1\u001b[0;36m\u001b[0m\n\u001b[0;31m    Mostrar resultados\u001b[0m\n\u001b[0m            ^\u001b[0m\n\u001b[0;31mSyntaxError\u001b[0m\u001b[0;31m:\u001b[0m invalid syntax\n"
=======
   "execution_count": 55,
   "metadata": {
    "ExecuteTime": {
     "end_time": "2024-07-15T16:36:07.437953Z",
     "start_time": "2024-07-15T16:36:07.434011Z"
    }
   },
   "outputs": [],
   "source": [
    "c = tuple(idx for (_, idx) in bounds)\n",
    "Aeq = np.ones((1, len(c)))\n",
    "beq = 1"
   ]
  },
  {
   "cell_type": "code",
   "execution_count": 72,
   "metadata": {
    "ExecuteTime": {
     "end_time": "2024-07-15T16:45:58.848163Z",
     "start_time": "2024-07-15T16:45:58.840056Z"
    }
   },
   "outputs": [
    {
     "name": "stdout",
     "output_type": "stream",
     "text": [
      "       message: Optimization terminated successfully. (HiGHS Status 7: Optimal)\n",
      "       success: True\n",
      "        status: 0\n",
      "           fun: 0.0\n",
      "             x: [ 0.000e+00  0.000e+00  0.000e+00]\n",
      "           nit: -1\n",
      "         lower:  residual: [ 0.000e+00  0.000e+00  0.000e+00]\n",
      "                marginals: [ 0.000e+00  0.000e+00  0.000e+00]\n",
      "         upper:  residual: [ 5.000e+01  1.000e+02  1.000e+01]\n",
      "                marginals: [ 0.000e+00  0.000e+00  0.000e+00]\n",
      "         eqlin:  residual: []\n",
      "                marginals: []\n",
      "       ineqlin:  residual: [ 1.000e+00]\n",
      "                marginals: [ 0.000e+00]\n"
>>>>>>> main
     ]
    }
   ],
   "source": [
<<<<<<< HEAD
    "Mostrar resultados"
=======
    "from scipy.optimize import linprog\n",
    "# from scipy.optimize import differential_evolution\n",
    "\n",
    "result = linprog(\n",
    "    c,\n",
    "    A_ub=Aeq,\n",
    "    b_ub=beq,\n",
    "    bounds=bounds,\n",
    "    method='highs',\n",
    "    integrality=1\n",
    ")\n",
    "print(result)"
   ]
  },
  {
   "cell_type": "markdown",
   "metadata": {},
   "source": [
    "## pymoo"
>>>>>>> main
   ]
  },
  {
   "cell_type": "code",
<<<<<<< HEAD
   "execution_count": 32,
=======
   "execution_count": 28,
   "metadata": {
    "ExecuteTime": {
     "end_time": "2024-07-15T16:04:32.675209Z",
     "start_time": "2024-07-15T16:04:32.669909Z"
    }
   },
   "outputs": [],
   "source": [
    "from pymoo.core.problem import ElementwiseProblem\n",
    "\n",
    "xl = np.zeros(cacopios_df.shape)\n",
    "xu = np.asarray([b for _, b in bounds])\n",
    "\n",
    "class Queso(ElementwiseProblem):\n",
    "    def __init__(self):\n",
    "        super().__init__(\n",
    "            n_var=len(xl),\n",
    "            n_obj=1,\n",
    "            # n_eq_constr=1,\n",
    "            n_ieq_constr=1,\n",
    "            xl=0,\n",
    "            xu=xu,\n",
    "            vtype=int\n",
    "        )\n",
    "        \n",
    "    def _evaluate(self, x, out, *args, **kwargs):\n",
    "        out['F'] = f(x)\n",
    "        out['G'] = demanda - np.sum(x)\n",
    "        # out['H'] = demanda - np.sum(x)"
   ]
  },
  {
   "cell_type": "code",
   "execution_count": 29,
   "metadata": {
    "ExecuteTime": {
     "end_time": "2024-07-15T16:04:39.119677Z",
     "start_time": "2024-07-15T16:04:34.101650Z"
    }
   },
   "outputs": [
    {
     "name": "stdout",
     "output_type": "stream",
     "text": [
      "F: [200187.39029581], \n",
      "X: [49.95628312 70.11555359  0.        ]\n"
     ]
    }
   ],
   "source": [
    "from pymoo.algorithms.soo.nonconvex.ga import GA\n",
    "from pymoo.optimize import minimize\n",
    "from pymoo.termination import get_termination\n",
    "\n",
    "problem = Queso()\n",
    "\n",
    "algorithm = GA(\n",
    "    pop_size=9,\n",
    "    eliminate_duplicates=True\n",
    ")\n",
    "\n",
    "termination = get_termination('time', '00:00:05')\n",
    "\n",
    "res = minimize(problem,\n",
    "               algorithm,\n",
    "               termination,\n",
    "               seed=1,\n",
    "               verbose=False)\n",
    "\n",
    "print(f'F: {res.F}, \\nX: {res.X}')"
   ]
  },
  {
   "cell_type": "code",
   "execution_count": 3,
>>>>>>> main
=======
   "execution_count": 160,
>>>>>>> dev
   "metadata": {},
   "outputs": [
    {
     "name": "stdout",
     "output_type": "stream",
     "text": [
<<<<<<< HEAD
<<<<<<< HEAD
      "Model unknown\n",
      "\n",
      "  Variables:\n",
      "    None\n",
      "\n",
      "  Objectives:\n",
      "    None\n",
      "\n",
      "  Constraints:\n",
      "    None\n"
=======
      "Estado de la solución: ok\n",
      "Estado de la optimización: other\n",
      "Demanda asignada a cada centro de acopio:\n",
      "ERROR: evaluating object as numeric value: x[1]\n",
      "        (object: <class 'pyomo.core.base.var._GeneralVarData'>)\n",
      "    No value for uninitialized NumericValue object x[1]\n"
     ]
    },
    {
     "ename": "ValueError",
     "evalue": "No value for uninitialized NumericValue object x[1]",
     "output_type": "error",
     "traceback": [
      "\u001b[0;31m---------------------------------------------------------------------------\u001b[0m",
      "\u001b[0;31mValueError\u001b[0m                                Traceback (most recent call last)",
      "Cell \u001b[0;32mIn[3], line 68\u001b[0m\n\u001b[1;32m     66\u001b[0m \u001b[38;5;28mprint\u001b[39m(\u001b[38;5;124m\"\u001b[39m\u001b[38;5;124mDemanda asignada a cada centro de acopio:\u001b[39m\u001b[38;5;124m\"\u001b[39m)\n\u001b[1;32m     67\u001b[0m \u001b[38;5;28;01mfor\u001b[39;00m i \u001b[38;5;129;01min\u001b[39;00m model\u001b[38;5;241m.\u001b[39mCentros:\n\u001b[0;32m---> 68\u001b[0m     \u001b[38;5;28mprint\u001b[39m(\u001b[38;5;124mf\u001b[39m\u001b[38;5;124m\"\u001b[39m\u001b[38;5;124mCentro \u001b[39m\u001b[38;5;132;01m{\u001b[39;00mi\u001b[38;5;132;01m}\u001b[39;00m\u001b[38;5;124m: \u001b[39m\u001b[38;5;132;01m{\u001b[39;00m\u001b[43mpyo\u001b[49m\u001b[38;5;241;43m.\u001b[39;49m\u001b[43mvalue\u001b[49m\u001b[43m(\u001b[49m\u001b[43mmodel\u001b[49m\u001b[38;5;241;43m.\u001b[39;49m\u001b[43mx\u001b[49m\u001b[43m[\u001b[49m\u001b[43mi\u001b[49m\u001b[43m]\u001b[49m\u001b[43m)\u001b[49m\u001b[38;5;132;01m}\u001b[39;00m\u001b[38;5;124m unidades\u001b[39m\u001b[38;5;124m\"\u001b[39m)\n",
      "File \u001b[0;32m/usr/local/lib64/python3.11/site-packages/pyomo/common/numeric_types.py:247\u001b[0m, in \u001b[0;36mvalue\u001b[0;34m(obj, exception)\u001b[0m\n\u001b[1;32m    245\u001b[0m     tmp \u001b[38;5;241m=\u001b[39m obj(exception\u001b[38;5;241m=\u001b[39m\u001b[38;5;28;01mTrue\u001b[39;00m)\n\u001b[1;32m    246\u001b[0m     \u001b[38;5;28;01mif\u001b[39;00m tmp \u001b[38;5;129;01mis\u001b[39;00m \u001b[38;5;28;01mNone\u001b[39;00m:\n\u001b[0;32m--> 247\u001b[0m         \u001b[38;5;28;01mraise\u001b[39;00m \u001b[38;5;167;01mValueError\u001b[39;00m(\n\u001b[1;32m    248\u001b[0m             \u001b[38;5;124m\"\u001b[39m\u001b[38;5;124mNo value for uninitialized NumericValue object \u001b[39m\u001b[38;5;132;01m%s\u001b[39;00m\u001b[38;5;124m\"\u001b[39m \u001b[38;5;241m%\u001b[39m (obj\u001b[38;5;241m.\u001b[39mname,)\n\u001b[1;32m    249\u001b[0m         )\n\u001b[1;32m    250\u001b[0m     \u001b[38;5;28;01mreturn\u001b[39;00m tmp\n\u001b[1;32m    251\u001b[0m \u001b[38;5;28;01mexcept\u001b[39;00m TemplateExpressionError:\n\u001b[1;32m    252\u001b[0m     \u001b[38;5;66;03m# Template expressions work by catching this error type. So\u001b[39;00m\n\u001b[1;32m    253\u001b[0m     \u001b[38;5;66;03m# we should defer this error handling and not log an error\u001b[39;00m\n\u001b[1;32m    254\u001b[0m     \u001b[38;5;66;03m# message.\u001b[39;00m\n",
      "\u001b[0;31mValueError\u001b[0m: No value for uninitialized NumericValue object x[1]"
>>>>>>> main
=======
      "GLPSOL--GLPK LP/MIP Solver 5.0\n",
      "Parameter(s) specified in the command line:\n",
      " --write /tmp/tmp7p8zbz2x.glpk.raw --wglp /tmp/tmpiirybh05.glpk.glp --cpxlp\n",
      " /tmp/tmpb4p9bj8m.pyomo.lp\n",
      "Reading problem data from '/tmp/tmpb4p9bj8m.pyomo.lp'...\n",
      "33 rows, 72 columns, 152 non-zeros\n",
      "347 lines were read\n",
      "Writing problem data to '/tmp/tmpiirybh05.glpk.glp'...\n",
      "300 lines were written\n",
      "GLPK Simplex Optimizer 5.0\n",
      "33 rows, 72 columns, 152 non-zeros\n",
      "Preprocessing...\n",
      "17 rows, 64 columns, 128 non-zeros\n",
      "Scaling...\n",
      " A: min|aij| =  1.000e+00  max|aij| =  2.300e+00  ratio =  2.300e+00\n",
      "Problem data seem to be well scaled\n",
      "Constructing initial basis...\n",
      "Size of triangular part is 17\n",
      "      0: obj =   1.080000000e+07 inf =   4.700e+02 (1)\n",
      "      3: obj =   8.460000000e+06 inf =   0.000e+00 (0)\n",
      "*     6: obj =   7.580000000e+06 inf =   0.000e+00 (0)\n",
      "OPTIMAL LP SOLUTION FOUND\n",
      "Time used:   0.0 secs\n",
      "Memory used: 0.1 Mb (88900 bytes)\n",
      "Writing basic solution to '/tmp/tmp7p8zbz2x.glpk.raw'...\n",
      "114 lines were written\n",
      "Solución óptima:\n",
      "\n",
      "Centros elegidos y cantidad asignada:\n",
      "Centro 1: = 0.00\n",
      "Centro 2: = 150.00\n",
      "Centro 3: = 120.00\n",
      "Centro 4: = 170.00\n",
      "Centro 5: = 160.00\n",
      "Centro 6: = 0.00\n",
      "Centro 7: = 0.00\n",
      "Centro 8: = 0.00\n",
      "\n",
      "Centros involucrados:\n",
      "Centro 2: Cantidad por despachadar = 150.00\n",
      "Centro 3: Cantidad por despachadar = 120.00\n",
      "Centro 4: Cantidad por despachadar = 170.00\n",
      "Centro 5: Cantidad por despachadar = 160.00\n",
      "\n",
      "Centro principal seleccionado: 3\n",
      "\n",
      "Resumen de operación del centro principal:\n",
      "Centro 1: Despachado = 0.00, Cantidad transportada al centro principal = 0.00\n",
      "Centro 2: Despachado = 150.00, Cantidad transportada al centro principal = 150.00\n",
      "Centro 4: Despachado = 170.00, Cantidad transportada al centro principal = 170.00\n",
      "Centro 5: Despachado = 160.00, Cantidad transportada al centro principal = 160.00\n",
      "Centro 6: Despachado = 0.00, Cantidad transportada al centro principal = 0.00\n",
      "Centro 7: Despachado = 0.00, Cantidad transportada al centro principal = 0.00\n",
      "Centro 8: Despachado = 0.00, Cantidad transportada al centro principal = 0.00\n",
      "\n",
      "Costo total del modelo de optimización: = $7,580,000.00\n"
>>>>>>> dev
     ]
    }
   ],
   "source": [
<<<<<<< HEAD
    "model.display()"
=======
    "import pyomo.environ as pyo\n",
    "\n",
    "# Datos de entrada\n",
    "datos = {\n",
    "    \"demanda\": 600,\n",
    "    \"centros_acopio\": [\n",
    "        {\"id\": 0, \"stock\": 100, \"produccion_potencial\": 150, \"precio\": 10000, \"tiempo_alistamiento\": 1},\n",
    "        {\"id\": 1, \"stock\": 200, \"produccion_potencial\": 200, \"precio\": 15000, \"tiempo_alistamiento\": 2},\n",
    "        {\"id\": 2, \"stock\": 150, \"produccion_potencial\": 180, \"precio\": 12000, \"tiempo_alistamiento\": 1.5},\n",
    "        {\"id\": 3, \"stock\": 120, \"produccion_potencial\": 170, \"precio\": 11000, \"tiempo_alistamiento\": 1.2},\n",
    "        {\"id\": 4, \"stock\": 180, \"produccion_potencial\": 190, \"precio\": 14000, \"tiempo_alistamiento\": 2.1},\n",
    "        {\"id\": 5, \"stock\": 160, \"produccion_potencial\": 160, \"precio\": 13000, \"tiempo_alistamiento\": 1.8},\n",
    "        {\"id\": 6, \"stock\": 110, \"produccion_potencial\": 140, \"precio\": 16000, \"tiempo_alistamiento\": 1.7},\n",
    "        {\"id\": 7, \"stock\": 140, \"produccion_potencial\": 155, \"precio\": 17000, \"tiempo_alistamiento\": 2.2},\n",
    "        {\"id\": 8, \"stock\": 130, \"produccion_potencial\": 175, \"precio\": 18000, \"tiempo_alistamiento\": 1.9}\n",
    "    ],\n",
    "    \"costos_transporte\": [\n",
    "        [0, 5, 7, 6, 8, 7, 9, 10, 11],\n",
    "        [5, 0, 3, 4, 5, 6, 7, 8, 9],\n",
    "        [7, 3, 0, 5, 4, 6, 8, 7, 10],\n",
    "        [6, 4, 5, 0, 6, 7, 8, 9, 11],\n",
    "        [8, 5, 4, 6, 0, 8, 7, 9, 10],\n",
    "        [7, 6, 6, 7, 8, 0, 5, 8, 9],\n",
    "        [9, 7, 8, 8, 7, 5, 0, 6, 7],\n",
    "        [10, 8, 7, 9, 9, 8, 6, 0, 5],\n",
    "        [11, 9, 10, 11, 10, 9, 7, 5, 0]\n",
    "    ],\n",
    "    \"tiempos_transporte\": [\n",
    "        [0, 1, 2, 1.5, 2, 1.8, 2.1, 2.2, 2.5],\n",
    "        [1, 0, 1, 1.2, 1.5, 1.3, 1.8, 1.9, 2.1],\n",
    "        [2, 1, 0, 1.3, 1.4, 1.6, 2, 1.7, 2],\n",
    "        [1.5, 1.2, 1.3, 0, 1.6, 1.5, 1.8, 2, 2.2],\n",
    "        [2, 1.5, 1.4, 1.6, 0, 1.7, 2, 1.8, 2.3],\n",
    "        [1.8, 1.3, 1.6, 1.5, 1.7, 0, 1.8, 1.9, 2],\n",
    "        [2.1, 1.8, 2, 1.8, 2, 1.8, 0, 1.5, 1.8],\n",
    "        [2.2, 1.9, 1.7, 2, 1.8, 1.9, 1.5, 0, 1.6],\n",
    "        [2.5, 2.1, 2, 2.2, 2.3, 2, 1.8, 1.6, 0]\n",
    "    ],\n",
    "    \"parametros_modelo\": {\n",
    "        \"costo_tiempo\": 2,\n",
    "        \"tiempo_maximo_definido\": 5\n",
    "    }\n",
    "}\n",
    "\n",
    "# Crear el modelo de optimización\n",
    "model = pyo.ConcreteModel()\n",
    "\n",
    "# Conjuntos\n",
    "model.I = pyo.RangeSet(len(datos['centros_acopio']) - 1)  # Centros de acopio\n",
    "\n",
    "# Parámetros\n",
    "model.Demanda = pyo.Param(initialize=datos['demanda'])\n",
    "model.Stock = pyo.Param(model.I, initialize={i: datos['centros_acopio'][i]['stock'] for i in model.I})\n",
    "model.Pproduccion = pyo.Param(model.I, initialize={i: datos['centros_acopio'][i]['produccion_potencial'] for i in model.I})\n",
    "model.Precio = pyo.Param(model.I, initialize={i: datos['centros_acopio'][i]['precio'] for i in model.I})\n",
    "model.cTransp = pyo.Param(model.I, model.I, initialize={(i, j): datos['costos_transporte'][i][j] for i in model.I for j in model.I})\n",
    "model.tTransp = pyo.Param(model.I, model.I, initialize={(i, j): datos['tiempos_transporte'][i][j] for i in model.I for j in model.I})\n",
    "model.tAlistam = pyo.Param(model.I, initialize={i: datos['centros_acopio'][i]['tiempo_alistamiento'] for i in model.I})\n",
    "model.cTiempo = pyo.Param(initialize=datos['parametros_modelo']['costo_tiempo'])\n",
    "model.tMax = pyo.Param(initialize=datos['parametros_modelo']['tiempo_maximo_definido'])\n",
    "\n",
    "# Selección automática del centro principal basado en el costo más bajo\n",
    "centro_principal_id = min(model.I, key=lambda i: datos['centros_acopio'][i]['precio'])\n",
    "model.CentroPrincipal = pyo.Param(initialize=centro_principal_id)\n",
    "\n",
    "# Variables\n",
    "model.X = pyo.Var(model.I, within=pyo.NonNegativeReals)  # Cantidad despachada desde cada centro\n",
    "model.Y = pyo.Var(model.I, model.I, within=pyo.NonNegativeReals)  # Cantidad transportada entre centros\n",
    "\n",
    "# Restricciones\n",
    "def demanda_satisfecha_rule(model):\n",
    "    return sum(model.X[i] for i in model.I) == model.Demanda\n",
    "model.DemandaSatisfecha = pyo.Constraint(rule=demanda_satisfecha_rule)\n",
    "\n",
    "def stock_disponible_rule(model, i):\n",
    "    return model.X[i] <= model.Stock[i]\n",
    "model.StockDisponible = pyo.Constraint(model.I, rule=stock_disponible_rule)\n",
    "\n",
    "def produccion_potencial_rule(model, i):\n",
    "    return model.X[i] <= model.Pproduccion[i]\n",
    "model.ProduccionPotencial = pyo.Constraint(model.I, rule=produccion_potencial_rule)\n",
    "\n",
    "def tiempo_max_rule(model, i):\n",
    "    return model.tAlistam[i] + sum(model.tTransp[i, j] * model.Y[i, j] for j in model.I) <= model.tMax\n",
    "model.TiempoMax = pyo.Constraint(model.I, rule=tiempo_max_rule)\n",
    "\n",
    "def balance_transport_rule(model, i):\n",
    "    return sum(model.Y[j, i] for j in model.I) == model.X[i] if i != model.CentroPrincipal else pyo.Constraint.Skip\n",
    "model.BalanceTransport = pyo.Constraint(model.I, rule=balance_transport_rule)\n",
    "\n",
    "def centro_principal_rule(model):\n",
    "    return sum(model.Y[i, model.CentroPrincipal] for i in model.I) == model.X[model.CentroPrincipal]\n",
    "model.CentroPrincipalManejo = pyo.Constraint(rule=centro_principal_rule)\n",
    "\n",
    "# Función objetivo\n",
    "def costo_total_rule(model):\n",
    "    costo_despacho = sum(model.Precio[i] * model.X[i] for i in model.I)\n",
    "    costo_transporte = sum(model.cTransp[i, model.CentroPrincipal] * model.Y[i, model.CentroPrincipal] for i in model.I if i != model.CentroPrincipal)\n",
    "    return costo_despacho + costo_transporte\n",
    "model.CostoTotal = pyo.Objective(rule=costo_total_rule, sense=pyo.minimize)\n",
    "\n",
    "# Resolver el modelo\n",
    "solver = pyo.SolverFactory('glpk')\n",
    "results = solver.solve(model, tee=True)\n",
    "\n",
    "# Imprimir resultados\n",
    "print(\"Solución óptima:\")\n",
    "\n",
    "print(\"\\nCentros elegidos y cantidad asignada:\")\n",
    "for i in model.I:\n",
    "    try:\n",
    "        print(f\"Centro {i}: = {pyo.value(model.X[i]):.2f}\")\n",
    "    except ValueError:\n",
    "        print(f\"Centro {i}: Cantidad despachada no disponible\")\n",
    "\n",
    "print(\"\\nCentros involucrados:\")\n",
    "for i in model.I:\n",
    "    for j in model.I:\n",
    "        try:\n",
    "            if pyo.value(model.Y[i, j]) > 0:\n",
    "                print(f\"Centro {i}: Cantidad por despachadar = {pyo.value(model.X[i]):.2f}\")\n",
    "        except ValueError:\n",
    "            print(f\"Cantidad transportada de Centro {i} a Centro {j} no disponible\")\n",
    "            \n",
    "print(f\"\\nCentro principal seleccionado: {model.CentroPrincipal.value}\")\n",
    "\n",
    "print(\"\\nResumen de operación del centro principal:\")\n",
    "\n",
    "for i in model.I:\n",
    "    if i != model.CentroPrincipal:\n",
    "        try:\n",
    "            cantidad_transportada = sum(model.Y[i, j].value for j in model.I)\n",
    "            print(f'Centro {i}: Despachado = {model.X[i].value:.2f}, Cantidad transportada al centro principal = {cantidad_transportada:.2f}')\n",
    "        except ValueError:\n",
    "            print(f'Centro {i}: Despachado o cantidad transportada no disponible')\n",
    "            \n",
    "\n",
    "print(f\"\\nCosto total del modelo de optimización: = ${pyo.value(model.CostoTotal):,.2f}\")"
   ]
  },
  {
   "cell_type": "code",
   "execution_count": 161,
   "metadata": {},
   "outputs": [
    {
     "name": "stdout",
     "output_type": "stream",
     "text": [
      "GLPSOL--GLPK LP/MIP Solver 5.0\n",
      "Parameter(s) specified in the command line:\n",
      " --write /tmp/tmp3a5u928c.glpk.raw --wglp /tmp/tmprgc1r4j0.glpk.glp --cpxlp\n",
      " /tmp/tmp_tp6nvk7.pyomo.lp\n",
      "Reading problem data from '/tmp/tmp_tp6nvk7.pyomo.lp'...\n",
      "33 rows, 72 columns, 152 non-zeros\n",
      "347 lines were read\n",
      "Writing problem data to '/tmp/tmprgc1r4j0.glpk.glp'...\n",
      "300 lines were written\n",
      "GLPK Simplex Optimizer 5.0\n",
      "33 rows, 72 columns, 152 non-zeros\n",
      "Preprocessing...\n",
      "17 rows, 64 columns, 128 non-zeros\n",
      "Scaling...\n",
      " A: min|aij| =  1.000e+00  max|aij| =  2.300e+00  ratio =  2.300e+00\n",
      "Problem data seem to be well scaled\n",
      "Constructing initial basis...\n",
      "Size of triangular part is 17\n",
      "      0: obj =   1.080000000e+07 inf =   4.700e+02 (1)\n",
      "      3: obj =   8.460000000e+06 inf =   0.000e+00 (0)\n",
      "*     6: obj =   7.580000000e+06 inf =   0.000e+00 (0)\n",
      "OPTIMAL LP SOLUTION FOUND\n",
      "Time used:   0.0 secs\n",
      "Memory used: 0.1 Mb (88900 bytes)\n",
      "Writing basic solution to '/tmp/tmp3a5u928c.glpk.raw'...\n",
      "114 lines were written\n",
      "Solución óptima:\n",
      "\n",
      "Centros elegidos y cantidad asignada:\n",
      "Centro 1: = 0.00\n",
      "Centro 2: = 150.00\n",
      "Centro 3: = 120.00\n",
      "Centro 4: = 170.00\n",
      "Centro 5: = 160.00\n",
      "Centro 6: = 0.00\n",
      "Centro 7: = 0.00\n",
      "Centro 8: = 0.00\n",
      "\n",
      "Centros involucrados:\n",
      "Centro 2: Cantidad por despachadar = 150.00\n",
      "Centro 3: Cantidad por despachadar = 120.00\n",
      "Centro 4: Cantidad por despachadar = 170.00\n",
      "Centro 5: Cantidad por despachadar = 160.00\n",
      "\n",
      "Centro principal seleccionado: 3\n",
      "\n",
      "Resumen de operación del centro principal:\n",
      "Centro 1: Despachado = 0.00, Cantidad transportada al centro principal = 0.00\n",
      "Centro 2: Despachado = 150.00, Cantidad transportada al centro principal = 150.00\n",
      "Centro 4: Despachado = 170.00, Cantidad transportada al centro principal = 170.00\n",
      "Centro 5: Despachado = 160.00, Cantidad transportada al centro principal = 160.00\n",
      "Centro 6: Despachado = 0.00, Cantidad transportada al centro principal = 0.00\n",
      "Centro 7: Despachado = 0.00, Cantidad transportada al centro principal = 0.00\n",
      "Centro 8: Despachado = 0.00, Cantidad transportada al centro principal = 0.00\n",
      "\n",
      "Costo total del modelo de optimización: = $7,580,000.00\n"
     ]
    }
   ],
   "source": [
    "import pyomo.environ as pyo\n",
    "\n",
    "# Datos de entrada\n",
    "datos = {\n",
    "    \"demanda\": 600,\n",
    "    \"centros_acopio\": [\n",
    "        {\"id\": 0, \"stock\": 100, \"produccion_potencial\": 150, \"precio\": 10000, \"tiempo_alistamiento\": 1},\n",
    "        {\"id\": 1, \"stock\": 200, \"produccion_potencial\": 200, \"precio\": 15000, \"tiempo_alistamiento\": 2},\n",
    "        {\"id\": 2, \"stock\": 150, \"produccion_potencial\": 180, \"precio\": 12000, \"tiempo_alistamiento\": 1.5},\n",
    "        {\"id\": 3, \"stock\": 120, \"produccion_potencial\": 170, \"precio\": 11000, \"tiempo_alistamiento\": 1.2},\n",
    "        {\"id\": 4, \"stock\": 180, \"produccion_potencial\": 190, \"precio\": 14000, \"tiempo_alistamiento\": 2.1},\n",
    "        {\"id\": 5, \"stock\": 160, \"produccion_potencial\": 160, \"precio\": 13000, \"tiempo_alistamiento\": 1.8},\n",
    "        {\"id\": 6, \"stock\": 110, \"produccion_potencial\": 140, \"precio\": 16000, \"tiempo_alistamiento\": 1.7},\n",
    "        {\"id\": 7, \"stock\": 140, \"produccion_potencial\": 155, \"precio\": 17000, \"tiempo_alistamiento\": 2.2},\n",
    "        {\"id\": 8, \"stock\": 130, \"produccion_potencial\": 175, \"precio\": 18000, \"tiempo_alistamiento\": 1.9}\n",
    "    ],\n",
    "    \"costos_transporte\": [\n",
    "        [0, 5, 7, 6, 8, 7, 9, 10, 11],\n",
    "        [5, 0, 3, 4, 5, 6, 7, 8, 9],\n",
    "        [7, 3, 0, 5, 4, 6, 8, 7, 10],\n",
    "        [6, 4, 5, 0, 6, 7, 8, 9, 11],\n",
    "        [8, 5, 4, 6, 0, 8, 7, 9, 10],\n",
    "        [7, 6, 6, 7, 8, 0, 5, 8, 9],\n",
    "        [9, 7, 8, 8, 7, 5, 0, 6, 7],\n",
    "        [10, 8, 7, 9, 9, 8, 6, 0, 5],\n",
    "        [11, 9, 10, 11, 10, 9, 7, 5, 0]\n",
    "    ],\n",
    "    \"tiempos_transporte\": [\n",
    "        [0, 1, 2, 1.5, 2, 1.8, 2.1, 2.2, 2.5],\n",
    "        [1, 0, 1, 1.2, 1.5, 1.3, 1.8, 1.9, 2.1],\n",
    "        [2, 1, 0, 1.3, 1.4, 1.6, 2, 1.7, 2],\n",
    "        [1.5, 1.2, 1.3, 0, 1.6, 1.5, 1.8, 2, 2.2],\n",
    "        [2, 1.5, 1.4, 1.6, 0, 1.7, 2, 1.8, 2.3],\n",
    "        [1.8, 1.3, 1.6, 1.5, 1.7, 0, 1.8, 1.9, 2],\n",
    "        [2.1, 1.8, 2, 1.8, 2, 1.8, 0, 1.5, 1.8],\n",
    "        [2.2, 1.9, 1.7, 2, 1.8, 1.9, 1.5, 0, 1.6],\n",
    "        [2.5, 2.1, 2, 2.2, 2.3, 2, 1.8, 1.6, 0]\n",
    "    ],\n",
    "    \"parametros_modelo\": {\n",
    "        \"costo_tiempo\": 2,\n",
    "        \"tiempo_maximo_definido\": 5\n",
    "    }\n",
    "}\n",
    "\n",
    "# Crear el modelo de optimización\n",
    "model = pyo.ConcreteModel()\n",
    "\n",
    "# Conjuntos\n",
    "model.I = pyo.RangeSet(len(datos['centros_acopio']) - 1)  # Centros de acopio\n",
    "\n",
    "# Parámetros\n",
    "model.Demanda = pyo.Param(initialize=datos['demanda'])\n",
    "model.Stock = pyo.Param(model.I, initialize={i: datos['centros_acopio'][i]['stock'] for i in model.I})\n",
    "model.Pproduccion = pyo.Param(model.I, initialize={i: datos['centros_acopio'][i]['produccion_potencial'] for i in model.I})\n",
    "model.Precio = pyo.Param(model.I, initialize={i: datos['centros_acopio'][i]['precio'] for i in model.I})\n",
    "model.cTransp = pyo.Param(model.I, model.I, initialize={(i, j): datos['costos_transporte'][i][j] for i in model.I for j in model.I})\n",
    "model.tTransp = pyo.Param(model.I, model.I, initialize={(i, j): datos['tiempos_transporte'][i][j] for i in model.I for j in model.I})\n",
    "model.tAlistam = pyo.Param(model.I, initialize={i: datos['centros_acopio'][i]['tiempo_alistamiento'] for i in model.I})\n",
    "model.cTiempo = pyo.Param(initialize=datos['parametros_modelo']['costo_tiempo'])\n",
    "model.tMax = pyo.Param(initialize=datos['parametros_modelo']['tiempo_maximo_definido'])\n",
    "\n",
    "# Selección automática del centro principal basado en el costo más bajo\n",
    "centro_principal_id = min(model.I, key=lambda i: datos['centros_acopio'][i]['precio'])\n",
    "model.CentroPrincipal = pyo.Param(initialize=centro_principal_id)\n",
    "\n",
    "# Variables\n",
    "model.X = pyo.Var(model.I, within=pyo.NonNegativeReals)  # Cantidad despachada desde cada centro\n",
    "model.Y = pyo.Var(model.I, model.I, within=pyo.NonNegativeReals)  # Cantidad transportada entre centros\n",
    "\n",
    "# Restricciones\n",
    "model.DemandaSatisfecha = pyo.Constraint(expr=sum(model.X[i] for i in model.I) == model.Demanda)\n",
    "\n",
    "model.StockDisponible = pyo.Constraint(model.I, rule=lambda model, i: model.X[i] <= model.Stock[i])\n",
    "\n",
    "model.ProduccionPotencial = pyo.Constraint(model.I, rule=lambda model, i: model.X[i] <= model.Pproduccion[i])\n",
    "\n",
    "model.TiempoMax = pyo.Constraint(model.I, rule=lambda model, i: model.tAlistam[i] + sum(model.tTransp[i, j] * model.Y[i, j] for j in model.I) <= model.tMax)\n",
    "\n",
    "model.BalanceTransport = pyo.Constraint(model.I, rule=lambda model, i: sum(model.Y[j, i] for j in model.I) == model.X[i] if i != model.CentroPrincipal else pyo.Constraint.Skip)\n",
    "\n",
    "model.CentroPrincipalManejo = pyo.Constraint(expr=sum(model.Y[i, model.CentroPrincipal] for i in model.I) == model.X[model.CentroPrincipal])\n",
    "\n",
    "# Función objetivo\n",
    "model.CostoTotal = pyo.Objective(\n",
    "    rule=lambda model: sum(model.Precio[i] * model.X[i] for i in model.I) + sum(model.cTransp[i, model.CentroPrincipal] * model.Y[i, model.CentroPrincipal] for i in model.I if i != model.CentroPrincipal),\n",
    "    sense=pyo.minimize\n",
    ")\n",
    "\n",
    "# Resolver el modelo\n",
    "solver = pyo.SolverFactory('glpk')\n",
    "results = solver.solve(model, tee=True)\n",
    "\n",
    "# Imprimir resultados\n",
    "print(\"Solución óptima:\")\n",
    "\n",
    "print(\"\\nCentros elegidos y cantidad asignada:\")\n",
    "for i in model.I:\n",
    "    try:\n",
    "        print(f\"Centro {i}: = {pyo.value(model.X[i]):.2f}\")\n",
    "    except ValueError:\n",
    "        print(f\"Centro {i}: Cantidad despachada no disponible\")\n",
    "\n",
<<<<<<< HEAD
    "print(\"Costo total de transporte:\", pyo.value(model.objetivo))\n"
>>>>>>> main
=======
    "print(\"\\nCentros involucrados:\")\n",
    "for i in model.I:\n",
    "    for j in model.I:\n",
    "        try:\n",
    "            if pyo.value(model.Y[i, j]) > 0:\n",
    "                print(f\"Centro {i}: Cantidad por despachadar = {pyo.value(model.X[i]):.2f}\")\n",
    "        except ValueError:\n",
    "            print(f\"Cantidad transportada de Centro {i} a Centro {j} no disponible\")\n",
    "            \n",
    "print(f\"\\nCentro principal seleccionado: {model.CentroPrincipal.value}\")\n",
    "\n",
    "print(\"\\nResumen de operación del centro principal:\")\n",
    "\n",
    "for i in model.I:\n",
    "    if i != model.CentroPrincipal:\n",
    "        try:\n",
    "            cantidad_transportada = sum(model.Y[i, j].value for j in model.I)\n",
    "            print(f'Centro {i}: Despachado = {model.X[i].value:.2f}, Cantidad transportada al centro principal = {cantidad_transportada:.2f}')\n",
    "        except ValueError:\n",
    "            print(f'Centro {i}: Despachado o cantidad transportada no disponible')\n",
    "            \n",
    "\n",
    "print(f\"\\nCosto total del modelo de optimización: = ${pyo.value(model.CostoTotal):,.2f}\")\n"
>>>>>>> dev
   ]
  },
  {
   "cell_type": "code",
   "execution_count": null,
   "metadata": {},
   "outputs": [],
   "source": []
  }
 ],
 "metadata": {
  "colab": {
   "provenance": []
  },
  "kernelspec": {
   "display_name": "Python 3 (ipykernel)",
   "language": "python",
   "name": "python3"
  },
  "language_info": {
   "codemirror_mode": {
    "name": "ipython",
    "version": 3
   },
   "file_extension": ".py",
   "mimetype": "text/x-python",
   "name": "python",
   "nbconvert_exporter": "python",
   "pygments_lexer": "ipython3",
   "version": "3.11.9"
  }
 },
 "nbformat": 4,
 "nbformat_minor": 4
}
