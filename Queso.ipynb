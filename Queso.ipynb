{
 "cells": [
  {
   "cell_type": "code",
   "execution_count": 1,
   "metadata": {
    "ExecuteTime": {
     "end_time": "2024-07-15T15:28:47.055977Z",
     "start_time": "2024-07-15T15:28:46.455475Z"
    },
    "id": "sLLmzB6qJwiG"
   },
   "outputs": [],
   "source": [
    "import numpy as np\n",
    "import pandas as pd"
   ]
  },
  {
   "cell_type": "markdown",
   "metadata": {
    "id": "ZZ20H0g88fr9"
   },
   "source": [
    "## Conjuntos \n",
    "Del modelo de optimización\n",
    "\n",
    "| **Término**  | **Descripción**                |\n",
    "|--------------|--------------------------------|\n",
    "| $cacopios$   | Conjunto de centros de acopio  |\n",
    "| $clientes$   | Conjunto de clientes           |\n",
    "| $productos$  | Conjunto de productos          |"
   ]
  },
  {
   "cell_type": "code",
   "execution_count": 2,
   "metadata": {
    "ExecuteTime": {
     "end_time": "2024-07-15T15:28:47.060472Z",
     "start_time": "2024-07-15T15:28:47.055977Z"
    },
    "id": "rIc1Q2z08Ejj"
   },
   "outputs": [],
   "source": [
    "cacopios = 'CAcopios'\n",
    "clientes = 'Clientes'\n",
    "productos = 'Productos'"
   ]
  },
  {
   "cell_type": "code",
   "execution_count": 3,
   "metadata": {
    "ExecuteTime": {
     "end_time": "2024-07-15T15:28:47.068447Z",
     "start_time": "2024-07-15T15:28:47.060472Z"
    },
    "id": "vQTQCvL0-G49"
   },
   "outputs": [],
   "source": [
    "csv_base = './csv/'\n",
    "\n",
    "routes = {\n",
    "    # Capacidades de centros de acopio\n",
    "    'cic': 'CapInvCA.csv',\n",
    "    'cictest': 'CapInvCAtest.csv',\n",
    "    # Costo de inventario del centro de acopio\n",
    "    'cia' : 'CostoInvCA.csv',\n",
    "    'ciatest' : 'CostoInvCAtest.csv',\n",
    "    # Costo de transporte del centro de acopio al cliente\n",
    "    'ctac' : 'CostoTransCAClie.csv',\n",
    "    'ctactest' : 'CostoTransCAClietest.csv'\n",
    "}\n",
    "\n",
    "csv_config = {\n",
    "    'delimiter' : ';',\n",
    "    'decimal' : ','\n",
    "}"
   ]
  },
  {
   "cell_type": "markdown",
   "metadata": {},
   "source": [
    "## Centros de acopio"
   ]
  },
  {
   "cell_type": "code",
   "execution_count": 4,
   "metadata": {
    "ExecuteTime": {
     "end_time": "2024-07-15T15:28:47.087068Z",
     "start_time": "2024-07-15T15:28:47.069453Z"
    }
   },
   "outputs": [
    {
     "data": {
      "text/html": [
       "<div>\n",
       "<style scoped>\n",
       "    .dataframe tbody tr th:only-of-type {\n",
       "        vertical-align: middle;\n",
       "    }\n",
       "\n",
       "    .dataframe tbody tr th {\n",
       "        vertical-align: top;\n",
       "    }\n",
       "\n",
       "    .dataframe thead th {\n",
       "        text-align: right;\n",
       "    }\n",
       "</style>\n",
       "<table border=\"1\" class=\"dataframe\">\n",
       "  <thead>\n",
       "    <tr style=\"text-align: right;\">\n",
       "      <th></th>\n",
       "      <th>CAcopios</th>\n",
       "    </tr>\n",
       "  </thead>\n",
       "  <tbody>\n",
       "    <tr>\n",
       "      <th>0</th>\n",
       "      <td>San Juan del Cesar</td>\n",
       "    </tr>\n",
       "    <tr>\n",
       "      <th>1</th>\n",
       "      <td>Riohacha</td>\n",
       "    </tr>\n",
       "    <tr>\n",
       "      <th>2</th>\n",
       "      <td>Maicao</td>\n",
       "    </tr>\n",
       "  </tbody>\n",
       "</table>\n",
       "</div>"
      ],
      "text/plain": [
       "             CAcopios\n",
       "0  San Juan del Cesar\n",
       "1            Riohacha\n",
       "2              Maicao"
      ]
     },
     "execution_count": 4,
     "metadata": {},
     "output_type": "execute_result"
    }
   ],
   "source": [
    "# cacopios_df = pd.read_csv(csv_base + cacopios + '.csv')\n",
    "cacopios_df = pd.read_csv(csv_base + cacopios + 'test' + '.csv')\n",
    "cacopios_df"
   ]
  },
  {
   "cell_type": "markdown",
   "metadata": {},
   "source": [
    "## Clientes"
   ]
  },
  {
   "cell_type": "code",
   "execution_count": 5,
   "metadata": {
    "ExecuteTime": {
     "end_time": "2024-07-15T15:28:47.099034Z",
     "start_time": "2024-07-15T15:28:47.087068Z"
    }
   },
   "outputs": [
    {
     "data": {
      "text/html": [
       "<div>\n",
       "<style scoped>\n",
       "    .dataframe tbody tr th:only-of-type {\n",
       "        vertical-align: middle;\n",
       "    }\n",
       "\n",
       "    .dataframe tbody tr th {\n",
       "        vertical-align: top;\n",
       "    }\n",
       "\n",
       "    .dataframe thead th {\n",
       "        text-align: right;\n",
       "    }\n",
       "</style>\n",
       "<table border=\"1\" class=\"dataframe\">\n",
       "  <thead>\n",
       "    <tr style=\"text-align: right;\">\n",
       "      <th></th>\n",
       "      <th>Clientes</th>\n",
       "    </tr>\n",
       "  </thead>\n",
       "  <tbody>\n",
       "    <tr>\n",
       "      <th>0</th>\n",
       "      <td>Distribuidor1</td>\n",
       "    </tr>\n",
       "    <tr>\n",
       "      <th>1</th>\n",
       "      <td>Distribuidor2</td>\n",
       "    </tr>\n",
       "  </tbody>\n",
       "</table>\n",
       "</div>"
      ],
      "text/plain": [
       "        Clientes\n",
       "0  Distribuidor1\n",
       "1  Distribuidor2"
      ]
     },
     "execution_count": 5,
     "metadata": {},
     "output_type": "execute_result"
    }
   ],
   "source": [
    "# clientes_df = pd.read_csv(csv_base + clientes + '.csv')\n",
    "clientes_df = pd.read_csv(csv_base + clientes + 'test' + '.csv')\n",
    "clientes_df"
   ]
  },
  {
   "cell_type": "markdown",
   "metadata": {},
   "source": [
    "## Productos"
   ]
  },
  {
   "cell_type": "code",
   "execution_count": 6,
   "metadata": {
    "ExecuteTime": {
     "end_time": "2024-07-15T15:28:47.108368Z",
     "start_time": "2024-07-15T15:28:47.101037Z"
    }
   },
   "outputs": [
    {
     "data": {
      "text/html": [
       "<div>\n",
       "<style scoped>\n",
       "    .dataframe tbody tr th:only-of-type {\n",
       "        vertical-align: middle;\n",
       "    }\n",
       "\n",
       "    .dataframe tbody tr th {\n",
       "        vertical-align: top;\n",
       "    }\n",
       "\n",
       "    .dataframe thead th {\n",
       "        text-align: right;\n",
       "    }\n",
       "</style>\n",
       "<table border=\"1\" class=\"dataframe\">\n",
       "  <thead>\n",
       "    <tr style=\"text-align: right;\">\n",
       "      <th></th>\n",
       "      <th>Productos</th>\n",
       "    </tr>\n",
       "  </thead>\n",
       "  <tbody>\n",
       "    <tr>\n",
       "      <th>0</th>\n",
       "      <td>Queso duro</td>\n",
       "    </tr>\n",
       "    <tr>\n",
       "      <th>1</th>\n",
       "      <td>Queso blando</td>\n",
       "    </tr>\n",
       "  </tbody>\n",
       "</table>\n",
       "</div>"
      ],
      "text/plain": [
       "      Productos\n",
       "0    Queso duro\n",
       "1  Queso blando"
      ]
     },
     "execution_count": 6,
     "metadata": {},
     "output_type": "execute_result"
    }
   ],
   "source": [
    "productos_df = pd.read_csv(csv_base + productos + '.csv')\n",
    "productos_df.head()"
   ]
  },
  {
   "cell_type": "markdown",
   "metadata": {},
   "source": [
    "### Capacidades \n",
    "Obteniendo las capacidades de cada centro de acopio"
   ]
  },
  {
   "cell_type": "code",
   "execution_count": 7,
   "metadata": {
    "ExecuteTime": {
     "end_time": "2024-07-15T15:28:47.119481Z",
     "start_time": "2024-07-15T15:28:47.108368Z"
    }
   },
   "outputs": [
    {
     "data": {
      "text/html": [
       "<div>\n",
       "<style scoped>\n",
       "    .dataframe tbody tr th:only-of-type {\n",
       "        vertical-align: middle;\n",
       "    }\n",
       "\n",
       "    .dataframe tbody tr th {\n",
       "        vertical-align: top;\n",
       "    }\n",
       "\n",
       "    .dataframe thead th {\n",
       "        text-align: right;\n",
       "    }\n",
       "</style>\n",
       "<table border=\"1\" class=\"dataframe\">\n",
       "  <thead>\n",
       "    <tr style=\"text-align: right;\">\n",
       "      <th></th>\n",
       "      <th>CAcopios</th>\n",
       "      <th>Productos</th>\n",
       "      <th>CapInvCA</th>\n",
       "    </tr>\n",
       "  </thead>\n",
       "  <tbody>\n",
       "    <tr>\n",
       "      <th>0</th>\n",
       "      <td>San Juan del Cesar</td>\n",
       "      <td>Queso duro</td>\n",
       "      <td>50</td>\n",
       "    </tr>\n",
       "    <tr>\n",
       "      <th>1</th>\n",
       "      <td>San Juan del Cesar</td>\n",
       "      <td>Queso blando</td>\n",
       "      <td>320</td>\n",
       "    </tr>\n",
       "    <tr>\n",
       "      <th>2</th>\n",
       "      <td>Riohacha</td>\n",
       "      <td>Queso duro</td>\n",
       "      <td>100</td>\n",
       "    </tr>\n",
       "    <tr>\n",
       "      <th>3</th>\n",
       "      <td>Riohacha</td>\n",
       "      <td>Queso blando</td>\n",
       "      <td>90</td>\n",
       "    </tr>\n",
       "    <tr>\n",
       "      <th>4</th>\n",
       "      <td>Maicao</td>\n",
       "      <td>Queso duro</td>\n",
       "      <td>10</td>\n",
       "    </tr>\n",
       "    <tr>\n",
       "      <th>5</th>\n",
       "      <td>Maicao</td>\n",
       "      <td>Queso blando</td>\n",
       "      <td>0</td>\n",
       "    </tr>\n",
       "  </tbody>\n",
       "</table>\n",
       "</div>"
      ],
      "text/plain": [
       "             CAcopios     Productos  CapInvCA\n",
       "0  San Juan del Cesar    Queso duro        50\n",
       "1  San Juan del Cesar  Queso blando       320\n",
       "2            Riohacha    Queso duro       100\n",
       "3            Riohacha  Queso blando        90\n",
       "4              Maicao    Queso duro        10\n",
       "5              Maicao  Queso blando         0"
      ]
     },
     "execution_count": 7,
     "metadata": {},
     "output_type": "execute_result"
    }
   ],
   "source": [
    "# cap_df = pd.read_csv(csv_base + routes['cic'], **csv_config)\n",
    "cap_df = pd.read_csv(csv_base + routes['cictest'], **csv_config)\n",
    "cap_df"
   ]
  },
  {
   "cell_type": "markdown",
   "metadata": {
    "jupyter": {
     "outputs_hidden": false
    }
   },
   "source": [
    "### Costos de Inventario\n",
    "$$\n",
    "  CInventario_t = \\sum_{j \\in J} \\sum_{p \\in P} CostoInvAcopio_{pjt} InvCA_{pjt} \\qquad \\forall_t \\in T\n",
    "$$"
   ]
  },
  {
   "cell_type": "code",
   "execution_count": 8,
   "metadata": {
    "ExecuteTime": {
     "end_time": "2024-07-15T15:28:47.128331Z",
     "start_time": "2024-07-15T15:28:47.119481Z"
    },
    "jupyter": {
     "outputs_hidden": false
    }
   },
   "outputs": [
    {
     "data": {
      "text/html": [
       "<div>\n",
       "<style scoped>\n",
       "    .dataframe tbody tr th:only-of-type {\n",
       "        vertical-align: middle;\n",
       "    }\n",
       "\n",
       "    .dataframe tbody tr th {\n",
       "        vertical-align: top;\n",
       "    }\n",
       "\n",
       "    .dataframe thead th {\n",
       "        text-align: right;\n",
       "    }\n",
       "</style>\n",
       "<table border=\"1\" class=\"dataframe\">\n",
       "  <thead>\n",
       "    <tr style=\"text-align: right;\">\n",
       "      <th></th>\n",
       "      <th>CAcopios</th>\n",
       "      <th>Productos</th>\n",
       "      <th>CostoInvCA</th>\n",
       "    </tr>\n",
       "  </thead>\n",
       "  <tbody>\n",
       "    <tr>\n",
       "      <th>0</th>\n",
       "      <td>San Juan del Cesar</td>\n",
       "      <td>Queso duro</td>\n",
       "      <td>1000</td>\n",
       "    </tr>\n",
       "    <tr>\n",
       "      <th>1</th>\n",
       "      <td>San Juan del Cesar</td>\n",
       "      <td>Queso blando</td>\n",
       "      <td>1500</td>\n",
       "    </tr>\n",
       "    <tr>\n",
       "      <th>2</th>\n",
       "      <td>Riohacha</td>\n",
       "      <td>Queso duro</td>\n",
       "      <td>2000</td>\n",
       "    </tr>\n",
       "    <tr>\n",
       "      <th>3</th>\n",
       "      <td>Riohacha</td>\n",
       "      <td>Queso blando</td>\n",
       "      <td>800</td>\n",
       "    </tr>\n",
       "    <tr>\n",
       "      <th>4</th>\n",
       "      <td>Maicao</td>\n",
       "      <td>Queso duro</td>\n",
       "      <td>5000</td>\n",
       "    </tr>\n",
       "  </tbody>\n",
       "</table>\n",
       "</div>"
      ],
      "text/plain": [
       "             CAcopios     Productos  CostoInvCA\n",
       "0  San Juan del Cesar    Queso duro        1000\n",
       "1  San Juan del Cesar  Queso blando        1500\n",
       "2            Riohacha    Queso duro        2000\n",
       "3            Riohacha  Queso blando         800\n",
       "4              Maicao    Queso duro        5000"
      ]
     },
     "execution_count": 8,
     "metadata": {},
     "output_type": "execute_result"
    }
   ],
   "source": [
    "# cia_df = pd.read_csv(csv_base + routes['cia'], **csv_config)\n",
    "cia_df = pd.read_csv(csv_base + routes['ciatest'], **csv_config)\n",
    "cia_df.head()"
   ]
  },
  {
   "cell_type": "markdown",
   "metadata": {
    "jupyter": {
     "outputs_hidden": false
    }
   },
   "source": [
    "### Costos de Transporte\n",
    "$$\n",
    "  CTransporte_t = \\sum_{k \\in K} \\sum_{j \\in J} \\sum_{p \\in P} CostoTransAcopioClie_{pjkt} \\qquad \\forall_t \\in T\n",
    "$$"
   ]
  },
  {
   "cell_type": "code",
   "execution_count": 9,
   "metadata": {
    "ExecuteTime": {
     "end_time": "2024-07-15T15:28:47.139926Z",
     "start_time": "2024-07-15T15:28:47.128331Z"
    },
    "jupyter": {
     "outputs_hidden": false
    }
   },
   "outputs": [
    {
     "data": {
      "text/html": [
       "<div>\n",
       "<style scoped>\n",
       "    .dataframe tbody tr th:only-of-type {\n",
       "        vertical-align: middle;\n",
       "    }\n",
       "\n",
       "    .dataframe tbody tr th {\n",
       "        vertical-align: top;\n",
       "    }\n",
       "\n",
       "    .dataframe thead th {\n",
       "        text-align: right;\n",
       "    }\n",
       "</style>\n",
       "<table border=\"1\" class=\"dataframe\">\n",
       "  <thead>\n",
       "    <tr style=\"text-align: right;\">\n",
       "      <th></th>\n",
       "      <th>CAcopios</th>\n",
       "      <th>Clientes</th>\n",
       "      <th>CostoTransCAClie</th>\n",
       "    </tr>\n",
       "  </thead>\n",
       "  <tbody>\n",
       "    <tr>\n",
       "      <th>0</th>\n",
       "      <td>San Juan del Cesar</td>\n",
       "      <td>Distribuidor1</td>\n",
       "      <td>5000</td>\n",
       "    </tr>\n",
       "    <tr>\n",
       "      <th>1</th>\n",
       "      <td>San Juan del Cesar</td>\n",
       "      <td>Distribuidor2</td>\n",
       "      <td>38000</td>\n",
       "    </tr>\n",
       "    <tr>\n",
       "      <th>2</th>\n",
       "      <td>Riohacha</td>\n",
       "      <td>Distribuidor1</td>\n",
       "      <td>5000</td>\n",
       "    </tr>\n",
       "    <tr>\n",
       "      <th>3</th>\n",
       "      <td>Riohacha</td>\n",
       "      <td>Distribuidor2</td>\n",
       "      <td>15000</td>\n",
       "    </tr>\n",
       "    <tr>\n",
       "      <th>4</th>\n",
       "      <td>Maicao</td>\n",
       "      <td>Distribuidor1</td>\n",
       "      <td>5000</td>\n",
       "    </tr>\n",
       "  </tbody>\n",
       "</table>\n",
       "</div>"
      ],
      "text/plain": [
       "             CAcopios       Clientes  CostoTransCAClie\n",
       "0  San Juan del Cesar  Distribuidor1              5000\n",
       "1  San Juan del Cesar  Distribuidor2             38000\n",
       "2            Riohacha  Distribuidor1              5000\n",
       "3            Riohacha  Distribuidor2             15000\n",
       "4              Maicao  Distribuidor1              5000"
      ]
     },
     "execution_count": 9,
     "metadata": {},
     "output_type": "execute_result"
    }
   ],
   "source": [
    "# ctac_df = pd.read_csv(csv_base + routes['ctac'], **csv_config)\n",
    "ctac_df = pd.read_csv(csv_base + routes['ctactest'], **csv_config)\n",
    "ctac_df.head()"
   ]
  },
  {
   "cell_type": "markdown",
   "metadata": {},
   "source": [
    "## Esquema de representación\n",
    "Se recibe la demanda $DemandaClie_{pkt}$ como parámetro de entrada.\n",
    "\n",
    "Se representa la cantidad $n$ de centros de acopio como un vector, donde se asigna una cantidad $x_i$ para cada centro de acopio $j_i$, la cantidad asignada representa la demanda que va a ser suplida por ese centro de acopio.\n",
    "$$\n",
    "\\begin{array} {|r|r|r|r|r|r|}\n",
    "    \\hline x_0 & x_1 & x_2 & x_3 & \\cdots & x_n \\\\\n",
    "    \\hline\n",
    "\\end{array}\n",
    "\\quad \\therefore \\quad x_i = AC_{pjkt}\n",
    "$$\n",
    "Donde se aplican las restricciones:\n",
    "$$\n",
    "\\begin{align*}\n",
    "    \\sum_{i=0}^{n} x_i &= DemandaClie_{pkt} \\\\\n",
    "    x_i &\\leq InvCA_{pjt}\n",
    "\\end{align*}\n",
    "$$"
   ]
  },
  {
   "cell_type": "markdown",
   "metadata": {},
   "source": [
    "# Escenarios de prueba\n",
    "Tomando demandas por cada centro de acopio, se definen distintos escenarios de posibles casos.\n",
    "\n",
    "**Escenario 1**: Un centro de acopio sobrepasa la demanda del cliente\n",
    "- El modelo puede asignar dicho centro de acopio para suplir con la demanda\n",
    "- El centro de acopio debe proveer esa demanda\n",
    "\n",
    "**Escenario 2**: Ningún centro de acopio cumple con toda la demanda del cliente\n",
    "- El modelo debe dar una solución de varios centros de acopio\n",
    "- La suma de la demanda por cada centro de acopio debe ser igual a la demanda\n",
    "\n",
    "**Escenario 3**: Un centro de acopio tiene en stock exactamente la cantidad de la demanda de un cliente.\n",
    "- El modelo puede tomar el centro de acopio que tiene en stock exactamente la demanda a cumplir"
   ]
  },
  {
   "cell_type": "markdown",
   "metadata": {},
   "source": [
    "### Demandas\n",
    "Generando demandas para cada cliente, se usarán como entrada para el modelo"
   ]
  },
  {
   "cell_type": "code",
   "execution_count": 27,
   "metadata": {
    "ExecuteTime": {
     "end_time": "2024-07-15T16:04:28.676622Z",
     "start_time": "2024-07-15T16:04:28.671476Z"
    }
   },
   "outputs": [],
   "source": [
    "demanda = 120\n",
    "cap_queso = cap_df[cap_df[productos] == 'Queso duro']\n",
    "bounds = tuple((0, x_i) for x_i in cap_queso['CapInvCA'])"
   ]
  },
  {
   "cell_type": "markdown",
   "metadata": {},
   "source": [
    "## Función objetivo\n",
    "$$\n",
    "Min(F) = CInventario + CTransporte\n",
    "$$"
   ]
  },
  {
   "cell_type": "code",
   "execution_count": 11,
   "metadata": {
    "ExecuteTime": {
     "end_time": "2024-07-15T15:28:47.152048Z",
     "start_time": "2024-07-15T15:28:47.144755Z"
    }
   },
   "outputs": [],
   "source": [
    "# F(x)\n",
    "def f(x):\n",
    "    delta = 0\n",
    "\n",
    "    for idx in range(x.shape[0]):\n",
    "        ca = cacopios_df.loc[idx]\n",
    "\n",
    "        if x[idx] == 0.:\n",
    "            continue\n",
    "\n",
    "        # Costos de Inventario\n",
    "        costo_inv_ca = cia_df[(cia_df[cacopios] == ca[cacopios]) & (cia_df[productos] == 'Queso duro')]\n",
    "        # Costos de Transporte\n",
    "        costo_trans_ca = ctac_df[(ctac_df[cacopios] == ca[cacopios]) & (ctac_df[clientes] == 'Distribuidor1')]\n",
    "\n",
    "        delta += x[idx] * costo_inv_ca['CostoInvCA'].values[0]\n",
    "        delta += np.array(costo_trans_ca['CostoTransCAClie'].values[0])\n",
    "    \n",
    "    return delta"
   ]
  },
  {
   "cell_type": "markdown",
   "metadata": {},
   "source": [
    "## scipy"
   ]
  },
  {
   "cell_type": "markdown",
   "metadata": {},
   "source": [
    "**LinearConstraint**: $ lb \\leq A \\cdot v[x] \\leq ub $\n",
    "\n",
    "**NonLinearConstraint**: $ lb \\leq g(x) \\leq ub $"
   ]
  },
  {
   "cell_type": "code",
   "execution_count": 55,
   "metadata": {
    "ExecuteTime": {
     "end_time": "2024-07-15T16:36:07.437953Z",
     "start_time": "2024-07-15T16:36:07.434011Z"
    }
   },
   "outputs": [],
   "source": [
    "c = tuple(idx for (_, idx) in bounds)\n",
    "Aeq = np.ones((1, len(c)))\n",
    "beq = 1"
   ]
  },
  {
   "cell_type": "code",
   "execution_count": 72,
   "metadata": {
    "ExecuteTime": {
     "end_time": "2024-07-15T16:45:58.848163Z",
     "start_time": "2024-07-15T16:45:58.840056Z"
    }
   },
   "outputs": [
    {
     "name": "stdout",
     "output_type": "stream",
     "text": [
      "       message: Optimization terminated successfully. (HiGHS Status 7: Optimal)\n",
      "       success: True\n",
      "        status: 0\n",
      "           fun: 0.0\n",
      "             x: [ 0.000e+00  0.000e+00  0.000e+00]\n",
      "           nit: -1\n",
      "         lower:  residual: [ 0.000e+00  0.000e+00  0.000e+00]\n",
      "                marginals: [ 0.000e+00  0.000e+00  0.000e+00]\n",
      "         upper:  residual: [ 5.000e+01  1.000e+02  1.000e+01]\n",
      "                marginals: [ 0.000e+00  0.000e+00  0.000e+00]\n",
      "         eqlin:  residual: []\n",
      "                marginals: []\n",
      "       ineqlin:  residual: [ 1.000e+00]\n",
      "                marginals: [ 0.000e+00]\n"
     ]
    }
   ],
   "source": [
    "from scipy.optimize import linprog\n",
    "# from scipy.optimize import differential_evolution\n",
    "\n",
    "result = linprog(\n",
    "    c,\n",
    "    A_ub=Aeq,\n",
    "    b_ub=beq,\n",
    "    bounds=bounds,\n",
    "    method='highs',\n",
    "    integrality=1\n",
    ")\n",
    "print(result)"
   ]
  },
  {
   "cell_type": "markdown",
   "metadata": {},
   "source": [
    "## pymoo"
   ]
  },
  {
   "cell_type": "code",
   "execution_count": 28,
   "metadata": {
    "ExecuteTime": {
     "end_time": "2024-07-15T16:04:32.675209Z",
     "start_time": "2024-07-15T16:04:32.669909Z"
    }
   },
   "outputs": [],
   "source": [
    "from pymoo.core.problem import ElementwiseProblem\n",
    "\n",
    "xl = np.zeros(cacopios_df.shape)\n",
    "xu = np.asarray([b for _, b in bounds])\n",
    "\n",
    "class Queso(ElementwiseProblem):\n",
    "    def __init__(self):\n",
    "        super().__init__(\n",
    "            n_var=len(xl),\n",
    "            n_obj=1,\n",
    "            # n_eq_constr=1,\n",
    "            n_ieq_constr=1,\n",
    "            xl=0,\n",
    "            xu=xu,\n",
    "            vtype=int\n",
    "        )\n",
    "        \n",
    "    def _evaluate(self, x, out, *args, **kwargs):\n",
    "        out['F'] = f(x)\n",
    "        out['G'] = demanda - np.sum(x)\n",
    "        # out['H'] = demanda - np.sum(x)"
   ]
  },
  {
   "cell_type": "code",
   "execution_count": 29,
   "metadata": {
    "ExecuteTime": {
     "end_time": "2024-07-15T16:04:39.119677Z",
     "start_time": "2024-07-15T16:04:34.101650Z"
    }
   },
   "outputs": [
    {
     "name": "stdout",
     "output_type": "stream",
     "text": [
      "F: [200187.39029581], \n",
      "X: [49.95628312 70.11555359  0.        ]\n"
     ]
    }
   ],
   "source": [
    "from pymoo.algorithms.soo.nonconvex.ga import GA\n",
    "from pymoo.optimize import minimize\n",
    "from pymoo.termination import get_termination\n",
    "\n",
    "problem = Queso()\n",
    "\n",
    "algorithm = GA(\n",
    "    pop_size=9,\n",
    "    eliminate_duplicates=True\n",
    ")\n",
    "\n",
    "termination = get_termination('time', '00:00:05')\n",
    "\n",
    "res = minimize(problem,\n",
    "               algorithm,\n",
    "               termination,\n",
    "               seed=1,\n",
    "               verbose=False)\n",
    "\n",
    "print(f'F: {res.F}, \\nX: {res.X}')"
   ]
  },
  {
   "cell_type": "code",
   "execution_count": 3,
   "metadata": {},
   "outputs": [
    {
     "name": "stdout",
     "output_type": "stream",
     "text": [
      "Estado de la solución: ok\n",
      "Estado de la optimización: other\n",
      "Demanda asignada a cada centro de acopio:\n",
      "ERROR: evaluating object as numeric value: x[1]\n",
      "        (object: <class 'pyomo.core.base.var._GeneralVarData'>)\n",
      "    No value for uninitialized NumericValue object x[1]\n"
     ]
    },
    {
     "ename": "ValueError",
     "evalue": "No value for uninitialized NumericValue object x[1]",
     "output_type": "error",
     "traceback": [
      "\u001b[0;31m---------------------------------------------------------------------------\u001b[0m",
      "\u001b[0;31mValueError\u001b[0m                                Traceback (most recent call last)",
      "Cell \u001b[0;32mIn[3], line 68\u001b[0m\n\u001b[1;32m     66\u001b[0m \u001b[38;5;28mprint\u001b[39m(\u001b[38;5;124m\"\u001b[39m\u001b[38;5;124mDemanda asignada a cada centro de acopio:\u001b[39m\u001b[38;5;124m\"\u001b[39m)\n\u001b[1;32m     67\u001b[0m \u001b[38;5;28;01mfor\u001b[39;00m i \u001b[38;5;129;01min\u001b[39;00m model\u001b[38;5;241m.\u001b[39mCentros:\n\u001b[0;32m---> 68\u001b[0m     \u001b[38;5;28mprint\u001b[39m(\u001b[38;5;124mf\u001b[39m\u001b[38;5;124m\"\u001b[39m\u001b[38;5;124mCentro \u001b[39m\u001b[38;5;132;01m{\u001b[39;00mi\u001b[38;5;132;01m}\u001b[39;00m\u001b[38;5;124m: \u001b[39m\u001b[38;5;132;01m{\u001b[39;00m\u001b[43mpyo\u001b[49m\u001b[38;5;241;43m.\u001b[39;49m\u001b[43mvalue\u001b[49m\u001b[43m(\u001b[49m\u001b[43mmodel\u001b[49m\u001b[38;5;241;43m.\u001b[39;49m\u001b[43mx\u001b[49m\u001b[43m[\u001b[49m\u001b[43mi\u001b[49m\u001b[43m]\u001b[49m\u001b[43m)\u001b[49m\u001b[38;5;132;01m}\u001b[39;00m\u001b[38;5;124m unidades\u001b[39m\u001b[38;5;124m\"\u001b[39m)\n",
      "File \u001b[0;32m/usr/local/lib64/python3.11/site-packages/pyomo/common/numeric_types.py:247\u001b[0m, in \u001b[0;36mvalue\u001b[0;34m(obj, exception)\u001b[0m\n\u001b[1;32m    245\u001b[0m     tmp \u001b[38;5;241m=\u001b[39m obj(exception\u001b[38;5;241m=\u001b[39m\u001b[38;5;28;01mTrue\u001b[39;00m)\n\u001b[1;32m    246\u001b[0m     \u001b[38;5;28;01mif\u001b[39;00m tmp \u001b[38;5;129;01mis\u001b[39;00m \u001b[38;5;28;01mNone\u001b[39;00m:\n\u001b[0;32m--> 247\u001b[0m         \u001b[38;5;28;01mraise\u001b[39;00m \u001b[38;5;167;01mValueError\u001b[39;00m(\n\u001b[1;32m    248\u001b[0m             \u001b[38;5;124m\"\u001b[39m\u001b[38;5;124mNo value for uninitialized NumericValue object \u001b[39m\u001b[38;5;132;01m%s\u001b[39;00m\u001b[38;5;124m\"\u001b[39m \u001b[38;5;241m%\u001b[39m (obj\u001b[38;5;241m.\u001b[39mname,)\n\u001b[1;32m    249\u001b[0m         )\n\u001b[1;32m    250\u001b[0m     \u001b[38;5;28;01mreturn\u001b[39;00m tmp\n\u001b[1;32m    251\u001b[0m \u001b[38;5;28;01mexcept\u001b[39;00m TemplateExpressionError:\n\u001b[1;32m    252\u001b[0m     \u001b[38;5;66;03m# Template expressions work by catching this error type. So\u001b[39;00m\n\u001b[1;32m    253\u001b[0m     \u001b[38;5;66;03m# we should defer this error handling and not log an error\u001b[39;00m\n\u001b[1;32m    254\u001b[0m     \u001b[38;5;66;03m# message.\u001b[39;00m\n",
      "\u001b[0;31mValueError\u001b[0m: No value for uninitialized NumericValue object x[1]"
     ]
    }
   ],
   "source": [
    "import pyomo.environ as pyo\n",
    "import json\n",
    "\n",
    "# Cargar datos desde el archivo JSON\n",
    "json_file_path = './data/datos.json'\n",
    "with open(json_file_path, 'r') as f:\n",
    "    data = json.load(f)\n",
    "\n",
    "# Extraer datos del JSON\n",
    "demanda = data['demanda']\n",
    "cTiempo = data['cTiempo']\n",
    "centros_acopio = data['centros_acopio']\n",
    "centro_principal = data['centro_acopio_principal']\n",
    "tiempo_max_definido = data['tiempo_max_definido']\n",
    "\n",
    "# Crear el modelo\n",
    "model = pyo.ConcreteModel()\n",
    "\n",
    "# Conjuntos\n",
    "model.Centros = pyo.RangeSet(len(centros_acopio))\n",
    "\n",
    "# Parámetros\n",
    "model.demanda = pyo.Param(initialize=demanda)\n",
    "model.cTiempo = pyo.Param(initialize=cTiempo)\n",
    "model.tiempo_max = pyo.Param(initialize=tiempo_max_definido)\n",
    "\n",
    "model.stock = pyo.Param(model.Centros, initialize={i+1: centros_acopio[i]['stock'] for i in range(len(centros_acopio))})\n",
    "model.produccion_potencial = pyo.Param(model.Centros, initialize={i+1: centros_acopio[i]['produccion_potencial'] for i in range(len(centros_acopio))})\n",
    "model.precio = pyo.Param(model.Centros, initialize={i+1: centros_acopio[i]['precio'] for i in range(len(centros_acopio))})\n",
    "model.costo_transporte = pyo.Param(model.Centros, initialize={i+1: centros_acopio[i]['costo_transporte'] for i in range(len(centros_acopio))})\n",
    "model.tiempo_alistamiento = pyo.Param(model.Centros, initialize={i+1: centros_acopio[i]['tiempo_alistamiento'] for i in range(len(centros_acopio))})\n",
    "model.tiempo_transporte = pyo.Param(model.Centros, initialize={i+1: centros_acopio[i]['tiempo_transporte'] for i in range(len(centros_acopio))})\n",
    "\n",
    "# Variables\n",
    "model.x = pyo.Var(model.Centros, domain=pyo.NonNegativeReals)\n",
    "\n",
    "# Restricciones\n",
    "def demanda_total_rule(model):\n",
    "    return sum(model.x[i] for i in model.Centros) == model.demanda\n",
    "\n",
    "model.demanda_total = pyo.Constraint(rule=demanda_total_rule)\n",
    "\n",
    "def restriccion_stock_rule(model, i):\n",
    "    return model.x[i] <= model.stock[i]\n",
    "\n",
    "model.restriccion_stock = pyo.Constraint(model.Centros, rule=restriccion_stock_rule)\n",
    "\n",
    "def tiempo_total_rule(model):\n",
    "    return sum((model.tiempo_alistamiento[i] + model.tiempo_transporte[i]) * model.x[i] for i in model.Centros) <= model.tiempo_max\n",
    "\n",
    "model.tiempo_total = pyo.Constraint(rule=tiempo_total_rule)\n",
    "\n",
    "# Función objetivo\n",
    "def objetivo_rule(model):\n",
    "    return sum(model.precio[i] * model.x[i] for i in model.Centros) + sum(model.costo_transporte[i] * model.x[i] for i in model.Centros)\n",
    "\n",
    "model.objetivo = pyo.Objective(rule=objetivo_rule, sense=pyo.minimize)\n",
    "\n",
    "# Resolver el modelo\n",
    "solver = pyo.SolverFactory('glpk')\n",
    "resultado = solver.solve(model)\n",
    "\n",
    "# Mostrar resultados\n",
    "print(\"Estado de la solución:\", resultado.solver.status)\n",
    "print(\"Estado de la optimización:\", resultado.solver.termination_condition)\n",
    "print(\"Demanda asignada a cada centro de acopio:\")\n",
    "for i in model.Centros:\n",
    "    print(f\"Centro {i}: {pyo.value(model.x[i])} unidades\")"
   ]
  },
  {
   "cell_type": "code",
   "execution_count": 3,
   "metadata": {},
   "outputs": [
    {
     "name": "stdout",
     "output_type": "stream",
     "text": [
      "GLPSOL--GLPK LP/MIP Solver 5.0\n",
      "Parameter(s) specified in the command line:\n",
      " --write /tmp/tmpcu68ns3c.glpk.raw --wglp /tmp/tmpxn3n7xjw.glpk.glp --cpxlp\n",
      " /tmp/tmplryjw9oy.pyomo.lp\n",
      "Reading problem data from '/tmp/tmplryjw9oy.pyomo.lp'...\n",
      "9 rows, 8 columns, 16 non-zeros\n",
      "68 lines were read\n",
      "Writing problem data to '/tmp/tmpxn3n7xjw.glpk.glp'...\n",
      "53 lines were written\n",
      "GLPK Simplex Optimizer 5.0\n",
      "9 rows, 8 columns, 16 non-zeros\n",
      "Preprocessing...\n",
      "1 row, 8 columns, 8 non-zeros\n",
      "Scaling...\n",
      " A: min|aij| =  1.000e+00  max|aij| =  1.000e+00  ratio =  1.000e+00\n",
      "Problem data seem to be well scaled\n",
      "Constructing initial basis...\n",
      "Size of triangular part is 1\n",
      "      0: obj =   0.000000000e+00 inf =   5.000e+02 (1)\n",
      "      4: obj =   1.279000000e+04 inf =   0.000e+00 (0)\n",
      "*     8: obj =   1.200000000e+04 inf =   0.000e+00 (0)\n",
      "OPTIMAL LP SOLUTION FOUND\n",
      "Time used:   0.0 secs\n",
      "Memory used: 0.0 Mb (40420 bytes)\n",
      "Writing basic solution to '/tmp/tmpcu68ns3c.glpk.raw'...\n",
      "26 lines were written\n",
      "Estado de la solución: ok\n",
      "Estado de la optimización: optimal\n",
      "Demanda asignada a cada centro de acopio:\n",
      "Centro 1: 100.0 unidades\n",
      "Centro 2: 90.0 unidades\n",
      "Centro 3: 120.0 unidades\n",
      "Centro 4: 0.0 unidades\n",
      "Centro 5: 90.0 unidades\n",
      "Centro 6: 0.0 unidades\n",
      "Centro 7: 0.0 unidades\n",
      "Centro 8: 100.0 unidades\n"
     ]
    }
   ],
   "source": [
    "import pyomo.environ as pyo\n",
    "\n",
    "# Crear el modelo\n",
    "model = pyo.ConcreteModel()\n",
    "\n",
    "# Parámetros\n",
    "model.Demanda = pyo.Param(initialize=500)\n",
    "model.Centros = pyo.RangeSet(1, 8)\n",
    "\n",
    "# Datos de los centros de acopio (esto es solo un ejemplo, usa tus datos reales)\n",
    "data = {\n",
    "    1: {'stock': 100, 'produccion_potencial': 50, 'precio': 25, 'costo_transporte': 5, 'tiempo_alistamiento': 2, 'tiempo_transporte': 3},\n",
    "    2: {'stock': 150, 'produccion_potencial': 30, 'precio': 26, 'costo_transporte': 6, 'tiempo_alistamiento': 1, 'tiempo_transporte': 4},\n",
    "    3: {'stock': 120, 'produccion_potencial': 60, 'precio': 24, 'costo_transporte': 5, 'tiempo_alistamiento': 3, 'tiempo_transporte': 2},\n",
    "    4: {'stock': 130, 'produccion_potencial': 40, 'precio': 27, 'costo_transporte': 7, 'tiempo_alistamiento': 2, 'tiempo_transporte': 3},\n",
    "    5: {'stock': 90, 'produccion_potencial': 55, 'precio': 22, 'costo_transporte': 6, 'tiempo_alistamiento': 1, 'tiempo_transporte': 4},\n",
    "    6: {'stock': 110, 'produccion_potencial': 45, 'precio': 28, 'costo_transporte': 5, 'tiempo_alistamiento': 3, 'tiempo_transporte': 3},\n",
    "    7: {'stock': 140, 'produccion_potencial': 70, 'precio': 29, 'costo_transporte': 8, 'tiempo_alistamiento': 2, 'tiempo_transporte': 4},\n",
    "    8: {'stock': 100, 'produccion_potencial': 50, 'precio': 23, 'costo_transporte': 6, 'tiempo_alistamiento': 1, 'tiempo_transporte': 2}\n",
    "}\n",
    "\n",
    "# Variables\n",
    "model.x = pyo.Var(model.Centros, within=pyo.NonNegativeReals)\n",
    "\n",
    "# Función objetivo (ejemplo simple de minimizar costos)\n",
    "model.obj = pyo.Objective(expr=sum(model.x[i] * data[i]['precio'] for i in model.Centros), sense=pyo.minimize)\n",
    "\n",
    "# Restricciones\n",
    "def demanda_rule(model):\n",
    "    return sum(model.x[i] for i in model.Centros) >= model.Demanda\n",
    "model.DemandaTotal = pyo.Constraint(rule=demanda_rule)\n",
    "\n",
    "def capacidad_rule(model, i):\n",
    "    return model.x[i] <= data[i]['stock']\n",
    "model.Capacidad = pyo.Constraint(model.Centros, rule=capacidad_rule)\n",
    "\n",
    "# Resolver el modelo\n",
    "solver = pyo.SolverFactory('glpk')\n",
    "solver.solve(model, tee=True)\n",
    "\n",
    "# Imprimir los resultados\n",
    "print(\"Estado de la solución:\", pyo.SolverFactory('glpk').solve(model).solver.status)\n",
    "print(\"Estado de la optimización:\", pyo.SolverFactory('glpk').solve(model).solver.termination_condition)\n",
    "print(\"Demanda asignada a cada centro de acopio:\")\n",
    "for i in model.Centros:\n",
    "    print(f\"Centro {i}: {pyo.value(model.x[i])} unidades\")\n"
   ]
  },
  {
   "cell_type": "code",
   "execution_count": 8,
   "metadata": {},
   "outputs": [
    {
     "name": "stdout",
     "output_type": "stream",
     "text": [
      "GLPSOL--GLPK LP/MIP Solver 5.0\n",
      "Parameter(s) specified in the command line:\n",
      " --write /tmp/tmpgnm2899v.glpk.raw --wglp /tmp/tmpphenya00.glpk.glp --cpxlp\n",
      " /tmp/tmpa90qeud_.pyomo.lp\n",
      "Reading problem data from '/tmp/tmpa90qeud_.pyomo.lp'...\n",
      "19 rows, 90 columns, 99 non-zeros\n",
      "345 lines were read\n",
      "Writing problem data to '/tmp/tmpphenya00.glpk.glp'...\n",
      "320 lines were written\n",
      "GLPK Simplex Optimizer 5.0\n",
      "19 rows, 90 columns, 99 non-zeros\n",
      "Preprocessing...\n",
      "10 rows, 90 columns, 90 non-zeros\n",
      "Scaling...\n",
      " A: min|aij| =  1.000e+00  max|aij| =  4.000e+00  ratio =  4.000e+00\n",
      "Problem data seem to be well scaled\n",
      "Constructing initial basis...\n",
      "Size of triangular part is 10\n",
      "      0: obj =   0.000000000e+00 inf =   5.000e+02 (1)\n",
      "      3: obj =   1.405000000e+04 inf =   0.000e+00 (0)\n",
      "*     9: obj =   1.158500000e+04 inf =   0.000e+00 (0)\n",
      "OPTIMAL LP SOLUTION FOUND\n",
      "Time used:   0.0 secs\n",
      "Memory used: 0.1 Mb (85195 bytes)\n",
      "Writing basic solution to '/tmp/tmpgnm2899v.glpk.raw'...\n",
      "118 lines were written\n",
      "Estado de la solución: ok\n",
      "Estado de la optimización: optimal\n",
      "Demanda asignada a cada centro de acopio:\n",
      "Centro 0: 0.0 unidades\n",
      "Centro 1: 25.0 unidades\n",
      "Centro 2: 0.0 unidades\n",
      "Centro 3: 180.0 unidades\n",
      "Centro 4: 0.0 unidades\n",
      "Centro 5: 145.0 unidades\n",
      "Centro 6: 0.0 unidades\n",
      "Centro 7: 0.0 unidades\n",
      "Centro 8: 150.0 unidades\n"
     ]
    }
   ],
   "source": [
    "import pyomo.environ as pyo\n",
    "\n",
    "# Datos del problema\n",
    "D = 500  # Demanda total\n",
    "N = 9  # Número de centros de acopio (incluyendo el principal)\n",
    "centro_principal = 0  # ID del centro de acopio principal\n",
    "tiempo_max_definido = 24  # Tiempo máximo definido\n",
    "\n",
    "# Datos de los centros de acopio (esto es solo un ejemplo, usa tus datos reales)\n",
    "data = {\n",
    "    0: {'stock': 200, 'produccion_potencial': 100, 'precio': 30, 'costo_transporte': {i: 4 for i in range(N)}, 'tiempo_alistamiento': 2, 'tiempo_transporte': {i: 2 for i in range(N)}},\n",
    "    1: {'stock': 100, 'produccion_potencial': 50, 'precio': 25, 'costo_transporte': {i: 5 for i in range(N)}, 'tiempo_alistamiento': 2, 'tiempo_transporte': {i: 3 for i in range(N)}},\n",
    "    2: {'stock': 150, 'produccion_potencial': 30, 'precio': 26, 'costo_transporte': {i: 6 for i in range(N)}, 'tiempo_alistamiento': 1, 'tiempo_transporte': {i: 4 for i in range(N)}},\n",
    "    3: {'stock': 120, 'produccion_potencial': 60, 'precio': 24, 'costo_transporte': {i: 5 for i in range(N)}, 'tiempo_alistamiento': 3, 'tiempo_transporte': {i: 2 for i in range(N)}},\n",
    "    4: {'stock': 130, 'produccion_potencial': 40, 'precio': 27, 'costo_transporte': {i: 7 for i in range(N)}, 'tiempo_alistamiento': 2, 'tiempo_transporte': {i: 3 for i in range(N)}},\n",
    "    5: {'stock': 90, 'produccion_potencial': 55, 'precio': 22, 'costo_transporte': {i: 6 for i in range(N)}, 'tiempo_alistamiento': 1, 'tiempo_transporte': {i: 4 for i in range(N)}},\n",
    "    6: {'stock': 110, 'produccion_potencial': 45, 'precio': 28, 'costo_transporte': {i: 5 for i in range(N)}, 'tiempo_alistamiento': 3, 'tiempo_transporte': {i: 3 for i in range(N)}},\n",
    "    7: {'stock': 140, 'produccion_potencial': 70, 'precio': 29, 'costo_transporte': {i: 8 for i in range(N)}, 'tiempo_alistamiento': 2, 'tiempo_transporte': {i: 4 for i in range(N)}},\n",
    "    8: {'stock': 100, 'produccion_potencial': 50, 'precio': 23, 'costo_transporte': {i: 6 for i in range(N)}, 'tiempo_alistamiento': 1, 'tiempo_transporte': {i: 2 for i in range(N)}}\n",
    "}\n",
    "\n",
    "# Crear el modelo\n",
    "model = pyo.ConcreteModel()\n",
    "\n",
    "# Conjuntos\n",
    "model.Centros = pyo.RangeSet(0, N-1)\n",
    "\n",
    "# Parámetros\n",
    "model.Demanda = pyo.Param(initialize=D)\n",
    "model.Stock = pyo.Param(model.Centros, initialize={i: data[i]['stock'] for i in range(N)})\n",
    "model.ProduccionPotencial = pyo.Param(model.Centros, initialize={i: data[i]['produccion_potencial'] for i in range(N)})\n",
    "model.Precio = pyo.Param(model.Centros, initialize={i: data[i]['precio'] for i in range(N)})\n",
    "model.CostoTransporte = pyo.Param(model.Centros, model.Centros, initialize={(i, j): data[i]['costo_transporte'][j] for i in range(N) for j in range(N)})\n",
    "model.TiempoAlistamiento = pyo.Param(model.Centros, initialize={i: data[i]['tiempo_alistamiento'] for i in range(N)})\n",
    "model.TiempoTransporte = pyo.Param(model.Centros, model.Centros, initialize={(i, j): data[i]['tiempo_transporte'][j] for i in range(N) for j in range(N)})\n",
    "model.TiempoMaxDefinido = pyo.Param(initialize=tiempo_max_definido)\n",
    "\n",
    "# Variables\n",
    "model.x = pyo.Var(model.Centros, within=pyo.NonNegativeReals)  # Cantidad asignada desde cada centro de acopio\n",
    "model.y = pyo.Var(model.Centros, model.Centros, within=pyo.NonNegativeReals)  # Cantidad transportada desde cada centro de acopio\n",
    "\n",
    "# Función objetivo: Minimizar el costo total de satisfacer la demanda\n",
    "def objetivo(model):\n",
    "    return sum(model.x[i] * model.Precio[i] for i in model.Centros) + \\\n",
    "           sum(model.y[i, j] * model.CostoTransporte[i, j] for i in model.Centros for j in model.Centros)\n",
    "model.obj = pyo.Objective(rule=objetivo, sense=pyo.minimize)\n",
    "\n",
    "# Restricciones\n",
    "# La demanda total debe ser satisfecha\n",
    "def demanda_total_rule(model):\n",
    "    return sum(model.x[i] for i in model.Centros) >= model.Demanda\n",
    "model.DemandaTotal = pyo.Constraint(rule=demanda_total_rule)\n",
    "\n",
    "# La cantidad asignada desde cada centro de acopio no puede exceder su stock y producción potencial\n",
    "def capacidad_rule(model, i):\n",
    "    return model.x[i] <= model.Stock[i] + model.ProduccionPotencial[i]\n",
    "model.Capacidad = pyo.Constraint(model.Centros, rule=capacidad_rule)\n",
    "\n",
    "# Restricción de tiempo máximo definido\n",
    "def tiempo_rule(model, i):\n",
    "    return model.TiempoAlistamiento[i] + sum(model.y[j, i] * model.TiempoTransporte[j, i] for j in model.Centros) <= model.TiempoMaxDefinido\n",
    "model.Tiempo = pyo.Constraint(model.Centros, rule=tiempo_rule)\n",
    "\n",
    "# Resolver el modelo\n",
    "solver = pyo.SolverFactory('glpk')\n",
    "solver.solve(model, tee=True)\n",
    "\n",
    "# Imprimir resultados\n",
    "print(\"Estado de la solución:\", pyo.SolverFactory('glpk').solve(model).solver.status)\n",
    "print(\"Estado de la optimización:\", pyo.SolverFactory('glpk').solve(model).solver.termination_condition)\n",
    "print(\"Demanda asignada a cada centro de acopio:\")\n",
    "for i in model.Centros:\n",
    "    print(f\"Centro {i}: {pyo.value(model.x[i])} unidades\")\n",
    "\n",
    "\n"
   ]
  },
  {
   "cell_type": "code",
   "execution_count": 17,
   "metadata": {},
   "outputs": [
    {
     "name": "stdout",
     "output_type": "stream",
     "text": [
      "GLPSOL--GLPK LP/MIP Solver 5.0\n",
      "Parameter(s) specified in the command line:\n",
      " --write /tmp/tmpbi6pkqmh.glpk.raw --wglp /tmp/tmpaf4qn6vl.glpk.glp --cpxlp\n",
      " /tmp/tmp4ztle1pz.pyomo.lp\n",
      "Reading problem data from '/tmp/tmp4ztle1pz.pyomo.lp'...\n",
      "/tmp/tmp4ztle1pz.pyomo.lp:94: warning: lower bound of variable 'x2' redefined\n",
      "/tmp/tmp4ztle1pz.pyomo.lp:94: warning: upper bound of variable 'x2' redefined\n",
      "13 rows, 12 columns, 27 non-zeros\n",
      "12 integer variables, all of which are binary\n",
      "106 lines were read\n",
      "Writing problem data to '/tmp/tmpaf4qn6vl.glpk.glp'...\n",
      "74 lines were written\n",
      "GLPK Integer Optimizer 5.0\n",
      "13 rows, 12 columns, 27 non-zeros\n",
      "12 integer variables, all of which are binary\n",
      "Preprocessing...\n",
      "1 hidden packing inequaliti(es) were detected\n",
      "11 rows, 12 columns, 23 non-zeros\n",
      "12 integer variables, all of which are binary\n",
      "Scaling...\n",
      " A: min|aij| =  1.000e+00  max|aij| =  1.000e+00  ratio =  1.000e+00\n",
      "Problem data seem to be well scaled\n",
      "Constructing initial basis...\n",
      "Size of triangular part is 11\n",
      "Solving LP relaxation...\n",
      "GLPK Simplex Optimizer 5.0\n",
      "11 rows, 12 columns, 23 non-zeros\n",
      "*     0: obj =   0.000000000e+00 inf =   0.000e+00 (0)\n",
      "OPTIMAL LP SOLUTION FOUND\n",
      "Integer optimization begins...\n",
      "Long-step dual simplex will be used\n",
      "+     0: mip =     not found yet >=              -inf        (1; 0)\n",
      "+     0: >>>>>   0.000000000e+00 >=   0.000000000e+00   0.0% (1; 0)\n",
      "+     0: mip =   0.000000000e+00 >=     tree is empty   0.0% (0; 1)\n",
      "INTEGER OPTIMAL SOLUTION FOUND\n",
      "Time used:   0.0 secs\n",
      "Memory used: 0.1 Mb (66508 bytes)\n",
      "Writing MIP solution to '/tmp/tmpbi6pkqmh.glpk.raw'...\n",
      "34 lines were written\n",
      "Estado de la solución: ok\n",
      "Estado de la optimización: optimal\n",
      "Demanda asignada a cada centro de acopio:\n",
      "Centro principal:\n",
      "Centro principal: 2\n"
     ]
    }
   ],
   "source": [
    "import pyomo.environ as pyo\n",
    "\n",
    "# Datos de ejemplo\n",
    "data = {\n",
    "    0: {'costo_transporte': {0: 0, 1: 10, 2: 20}, 'tiempo_alistamiento': 5, 'tiempo_transporte': {0: 0, 1: 1, 2: 2}},\n",
    "    1: {'costo_transporte': {0: 10, 1: 0, 2: 15}, 'tiempo_alistamiento': 6, 'tiempo_transporte': {0: 1, 1: 0, 2: 3}},\n",
    "    2: {'costo_transporte': {0: 20, 1: 15, 2: 0}, 'tiempo_alistamiento': 7, 'tiempo_transporte': {0: 2, 1: 3, 2: 0}}\n",
    "}\n",
    "\n",
    "# Crear el modelo\n",
    "model = pyo.ConcreteModel()\n",
    "\n",
    "# Conjuntos\n",
    "model.Centros = pyo.Set(initialize=data.keys())\n",
    "model.Productos = pyo.Set(initialize=[0, 1, 2])  # Asumiendo productos numerados 0, 1 y 2\n",
    "\n",
    "# Parámetros\n",
    "model.CostoTransporte = pyo.Param(model.Centros, model.Centros, initialize=lambda model, i, j: data[i]['costo_transporte'][j])\n",
    "model.TiempoAlistamiento = pyo.Param(model.Centros, initialize=lambda model, i: data[i]['tiempo_alistamiento'])\n",
    "model.TiempoTransporte = pyo.Param(model.Centros, model.Centros, initialize=lambda model, i, j: data[i]['tiempo_transporte'][j])\n",
    "model.TiempoMaxDefinido = pyo.Param(initialize=10)  # Valor de ejemplo\n",
    "\n",
    "# Variables\n",
    "model.x = pyo.Var(model.Centros, model.Productos, domain=pyo.Binary)  # Asignación de productos a centros\n",
    "model.z = pyo.Var(model.Centros, domain=pyo.Binary)  # Variable para indicar el centro principal\n",
    "\n",
    "# Función objetivo\n",
    "def objetivo(model):\n",
    "    return sum(model.CostoTransporte[i, j] * model.x[i, j] for i in model.Centros for j in model.Productos)\n",
    "model.objetivo = pyo.Objective(rule=objetivo, sense=pyo.minimize)\n",
    "\n",
    "# Restricción de tiempo\n",
    "def restriccion_tiempo(model, i):\n",
    "    return model.TiempoAlistamiento[i] + sum(model.TiempoTransporte[i, j] * model.x[i, j] for j in model.Productos) <= model.TiempoMaxDefinido\n",
    "model.restriccion_tiempo = pyo.Constraint(model.Centros, rule=restriccion_tiempo)\n",
    "\n",
    "# Restricción de un único centro principal\n",
    "def restriccion_unico_principal(model):\n",
    "    return sum(model.z[i] for i in model.Centros) == 1\n",
    "model.restriccion_unico_principal = pyo.Constraint(rule=restriccion_unico_principal)\n",
    "\n",
    "# Restricción de asignación de productos al centro principal\n",
    "def restriccion_asignacion(model, i, j):\n",
    "    return model.x[i, j] <= model.z[i]\n",
    "model.restriccion_asignacion = pyo.Constraint(model.Centros, model.Productos, rule=restriccion_asignacion)\n",
    "\n",
    "# Resolución del modelo\n",
    "solver = pyo.SolverFactory('glpk')\n",
    "results = solver.solve(model, tee=True)\n",
    "\n",
    "# Mostrar resultados\n",
    "print(\"Estado de la solución:\", results.solver.status)\n",
    "print(\"Estado de la optimización:\", results.solver.termination_condition)\n",
    "\n",
    "print(\"Demanda asignada a cada centro de acopio:\")\n",
    "for i in model.Centros:\n",
    "    for j in model.Productos:\n",
    "        if pyo.value(model.x[i, j]) > 0:\n",
    "            print(f\"Centro {i}, Producto {j}: {pyo.value(model.x[i, j])} unidades\")\n",
    "\n",
    "print(\"Centro principal:\")\n",
    "for i in model.Centros:\n",
    "    if pyo.value(model.z[i]) > 0:\n",
    "        print(f\"Centro principal: {i}\")\n"
   ]
  },
  {
   "cell_type": "code",
   "execution_count": 18,
   "metadata": {},
   "outputs": [
    {
     "name": "stdout",
     "output_type": "stream",
     "text": [
      "Demanda asignada a cada centro de acopio:\n",
      "Centro 0: 0.0 unidades\n",
      "Centro 1: 0.0 unidades\n",
      "Centro 2: 0.0 unidades\n",
      "Centro 3: 0.0 unidades\n",
      "Centro 4: 0.0 unidades\n",
      "Centro 5: 0.0 unidades\n",
      "Centro 6: 0.0 unidades\n",
      "Centro 7: 0.0 unidades\n",
      "Centro 8: 1.0 unidades\n",
      "Asignación de productos a centros de acopio:\n",
      "Costo total de transporte: 0.0\n"
     ]
    }
   ],
   "source": [
    "import pyomo.environ as pyo\n",
    "from pyomo.opt import SolverFactory\n",
    "\n",
    "# Datos de entrada\n",
    "data = {\n",
    "    0: {'stock': 200, 'produccion_potencial': 100, 'precio': 30, 'costo_transporte': {i: 4 for i in range(9)}, 'tiempo_alistamiento': 2, 'tiempo_transporte': {i: 2 for i in range(9)}},\n",
    "    1: {'stock': 100, 'produccion_potencial': 50, 'precio': 25, 'costo_transporte': {i: 5 for i in range(9)}, 'tiempo_alistamiento': 2, 'tiempo_transporte': {i: 3 for i in range(9)}},\n",
    "    2: {'stock': 150, 'produccion_potencial': 30, 'precio': 26, 'costo_transporte': {i: 6 for i in range(9)}, 'tiempo_alistamiento': 1, 'tiempo_transporte': {i: 4 for i in range(9)}},\n",
    "    3: {'stock': 120, 'produccion_potencial': 60, 'precio': 24, 'costo_transporte': {i: 5 for i in range(9)}, 'tiempo_alistamiento': 3, 'tiempo_transporte': {i: 2 for i in range(9)}},\n",
    "    4: {'stock': 130, 'produccion_potencial': 40, 'precio': 27, 'costo_transporte': {i: 7 for i in range(9)}, 'tiempo_alistamiento': 2, 'tiempo_transporte': {i: 3 for i in range(9)}},\n",
    "    5: {'stock': 90, 'produccion_potencial': 55, 'precio': 22, 'costo_transporte': {i: 6 for i in range(9)}, 'tiempo_alistamiento': 1, 'tiempo_transporte': {i: 4 for i in range(9)}},\n",
    "    6: {'stock': 110, 'produccion_potencial': 45, 'precio': 28, 'costo_transporte': {i: 5 for i in range(9)}, 'tiempo_alistamiento': 3, 'tiempo_transporte': {i: 3 for i in range(9)}},\n",
    "    7: {'stock': 140, 'produccion_potencial': 70, 'precio': 29, 'costo_transporte': {i: 8 for i in range(9)}, 'tiempo_alistamiento': 2, 'tiempo_transporte': {i: 4 for i in range(9)}},\n",
    "    8: {'stock': 100, 'produccion_potencial': 50, 'precio': 23, 'costo_transporte': {i: 6 for i in range(9)}, 'tiempo_alistamiento': 1, 'tiempo_transporte': {i: 2 for i in range(9)}}\n",
    "}\n",
    "\n",
    "# Inicialización del modelo\n",
    "model = pyo.ConcreteModel()\n",
    "\n",
    "# Índices\n",
    "model.Centros = pyo.RangeSet(0, 8)  # 9 centros de acopio\n",
    "model.Productos = pyo.RangeSet(0, 8)  # 9 productos\n",
    "\n",
    "# Variables\n",
    "model.x = pyo.Var(model.Centros, domain=pyo.Binary)  # Variables binarias para elegir centro de acopio principal\n",
    "model.y = pyo.Var(model.Centros, model.Productos, domain=pyo.NonNegativeReals)  # Cantidad de producto asignado a cada centro\n",
    "\n",
    "# Parámetros\n",
    "model.stock = pyo.Param(model.Centros, initialize={k: v['stock'] for k, v in data.items()})\n",
    "model.produccion_potencial = pyo.Param(model.Centros, initialize={k: v['produccion_potencial'] for k, v in data.items()})\n",
    "model.precio = pyo.Param(model.Centros, initialize={k: v['precio'] for k, v in data.items()})\n",
    "model.costo_transporte = pyo.Param(model.Centros, model.Centros, initialize=lambda model, i, j: data[i]['costo_transporte'][j])\n",
    "model.tiempo_alistamiento = pyo.Param(model.Centros, initialize={k: v['tiempo_alistamiento'] for k, v in data.items()})\n",
    "model.tiempo_transporte = pyo.Param(model.Centros, model.Centros, initialize=lambda model, i, j: data[i]['tiempo_transporte'][j])\n",
    "\n",
    "# Parámetros adicionales\n",
    "model.TiempoMaxDefinido = pyo.Param(initialize=10)  # Tiempo máximo permitido para alistamiento y transporte\n",
    "\n",
    "# Restricciones\n",
    "def restriccion_tiempo(model, i):\n",
    "    return model.tiempo_alistamiento[i] + sum(model.tiempo_transporte[i, j] * model.y[j, i] for j in model.Centros) <= model.TiempoMaxDefinido\n",
    "model.restriccion_tiempo = pyo.Constraint(model.Centros, rule=restriccion_tiempo)\n",
    "\n",
    "def restriccion_unico_principal(model):\n",
    "    return sum(model.x[i] for i in model.Centros) == 1\n",
    "model.restriccion_unico_principal = pyo.Constraint(rule=restriccion_unico_principal)\n",
    "\n",
    "def restriccion_asignacion(model, i, j):\n",
    "    return model.y[j, i] <= model.stock[j] * model.x[i]\n",
    "model.restriccion_asignacion = pyo.Constraint(model.Centros, model.Productos, rule=restriccion_asignacion)\n",
    "\n",
    "# Función objetivo\n",
    "def objetivo(model):\n",
    "    return sum(model.costo_transporte[i, j] * model.y[j, i] for i in model.Centros for j in model.Productos)\n",
    "model.objetivo = pyo.Objective(rule=objetivo, sense=pyo.minimize)\n",
    "\n",
    "# Resolver\n",
    "solver = SolverFactory('glpk')\n",
    "results = solver.solve(model)\n",
    "\n",
    "# Imprimir resultados\n",
    "print(\"Demanda asignada a cada centro de acopio:\")\n",
    "for i in model.Centros:\n",
    "    print(f\"Centro {i}: {pyo.value(model.x[i])} unidades\")\n",
    "\n",
    "print(\"Asignación de productos a centros de acopio:\")\n",
    "for i in model.Centros:\n",
    "    for j in model.Productos:\n",
    "        if pyo.value(model.y[j, i]) > 0:\n",
    "            print(f\"Producto {j} asignado al Centro {i}: {pyo.value(model.y[j, i])} unidades\")\n",
    "\n",
    "print(\"Costo total de transporte:\", pyo.value(model.objetivo))\n"
   ]
  },
  {
   "cell_type": "code",
   "execution_count": null,
   "metadata": {},
   "outputs": [],
   "source": []
  }
 ],
 "metadata": {
  "colab": {
   "provenance": []
  },
  "kernelspec": {
   "display_name": "Python 3 (ipykernel)",
   "language": "python",
   "name": "python3"
  },
  "language_info": {
   "codemirror_mode": {
    "name": "ipython",
    "version": 3
   },
   "file_extension": ".py",
   "mimetype": "text/x-python",
   "name": "python",
   "nbconvert_exporter": "python",
   "pygments_lexer": "ipython3",
   "version": "3.11.9"
  }
 },
 "nbformat": 4,
 "nbformat_minor": 4
}
