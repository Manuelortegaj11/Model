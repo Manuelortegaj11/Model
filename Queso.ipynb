{
 "cells": [
  {
   "cell_type": "markdown",
   "metadata": {},
   "source": [
    "# Modelo de Optimización para la Demanda de Queso Costeño"
   ]
  },
  {
   "cell_type": "markdown",
   "metadata": {},
   "source": [
    "El modelo de optimización presentado está diseñado para gestionar la demanda de queso costeño a través de una plataforma de marketing, utilizando múltiples centros de acopio. El objetivo principal es minimizar los costos asociados con el cumplimiento de la demanda del cliente, considerando los costos de transporte, tiempos de alistamiento y producción potencial en los centros de acopio.\n",
    "\n",
    "**Variables del Problema**\n",
    "\n",
    "**N**: Número de centros de acopio.\n",
    "\n",
    "**CAi**: Identificador del centro de acopio i para i=0…N donde i≠p. Estos centros de acopio complementan las unidades de producto de la demanda que el centro de acopio principal no tiene disponibles. Los centros de acopio **CAi** despachan hacia el centro de acopio principal.\n",
    "\n",
    "**CAp**: Identificador del centro de acopio principal p (**p**∈[0,N] y **p**≠i). Este centro de acopio atiende directamente al cliente y es responsable de enviar la demanda completa al cliente.\n",
    "\n",
    "**K(CAi)**: Cantidad del producto que se despacha desde el centro de acopio **CAi**, incluyendo unidades en stock y unidades potenciales que pueden estar listas en poco tiempo.\n",
    "\n",
    "**Precio(CAi)**: Precio por kilo del producto despachado desde el centro de acopio **CAi**.\n",
    "\n",
    "**cTransp(CAi)**: Costo del transporte del pedido desde el centro de acopio **CAi** a su destino.\n",
    "\n",
    "**TiempoAlistam(CAi)**: Tiempo en horas para alistar el pedido desde el centro de acopio **CAi** a su destino.\n",
    "\n",
    "**TiempoMaxDefinido**: Tiempo máximo definido para considerar la producción potencial.\n",
    "\n",
    "**TiempoTransp(CAi)**: Tiempo de transporte desde el centro de acopio **CAi** a su destino.\n",
    "\n",
    "**Tiempo(CAi)**: Tiempo total en horas para que el pedido llegue desde el centro de acopio **CAi** a su destino, sumando el tiempo de alistamiento y el tiempo de transporte.\n",
    "\n",
    "**cTiempo**: Costo adicional por cada unidad de tiempo contemplado en la variable **Tiempo(CAi)**.\n",
    "\n",
    "**Demanda**: Cantidad de producto solicitada por el cliente.\n",
    "\n",
    "**Stock(CAi)**: Stock del producto en el centro de acopio **CAi**.\n",
    "\n",
    "**Ppotencial(CAi)**: Cantidad de producto que potencialmente puede estar disponible en poco tiempo (potencial del día)."
   ]
  },
  {
   "cell_type": "markdown",
   "metadata": {},
   "source": [
    "*Código desarrollado para la resolución del problema*"
   ]
  },
  {
   "cell_type": "markdown",
   "metadata": {},
   "source": [
    "# IMPORTACIONES"
   ]
  },
  {
   "cell_type": "code",
   "execution_count": 187,
   "metadata": {},
   "outputs": [],
   "source": [
    "import pyomo.environ as pyo\n",
    "import matplotlib.pyplot as plt\n",
    "import pandas as pd\n",
    "import seaborn as sns\n",
    "from tabulate import tabulate\n",
    "from prettytable import PrettyTable"
   ]
  },
  {
   "cell_type": "markdown",
   "metadata": {},
   "source": [
    "# ENTRADA DE DATOS"
   ]
  },
  {
   "cell_type": "markdown",
   "metadata": {},
   "source": [
    "**demanda**: Cantidad de producto de acuerdo con la categoría del pedido a satisfacer.\n",
    "\n",
    "**costo_transporte**: Costo por unidad de tiempo de espera para satisfacer la demanda.\n",
    "\n",
    "**id**:Identificadores de Centro de Acopio (CAi).\n",
    "\n",
    "**kg**: Stock del Producto en el Centro de Acopio (Stock(CAi)).\n",
    "\n",
    "**produccion_potencial**: (Ppotencial(CAi)).\n",
    "\n",
    "**costos_transporte**: (cTransp(CAi)).\n",
    "\n",
    "**precio**: Precio del Producto por Kilo (Precio(CAi)).\n",
    "\n",
    "**tiempos_transporte**:Tiempos de Transporte (TiempoTransp(CAi)).\n",
    "\n",
    "**tiempo_alistamiento**:Tiempos de Alistamiento (TiempoAlistam(CAi))."
   ]
  },
  {
   "cell_type": "code",
   "execution_count": 188,
   "metadata": {},
   "outputs": [],
   "source": [
    "datos = {\n",
    "    \"demanda\": 600,\n",
    "    \"centros_acopio\": [\n",
    "        {\"id\": 1, \"kg\": 2500, \"produccion_potencial\": 300, \"precio\": 16000, \"tiempo_alistamiento\": 2.2},\n",
    "        {\"id\": 2, \"kg\": 1800, \"produccion_potencial\": 200, \"precio\": 13000, \"tiempo_alistamiento\": 1.6},\n",
    "        {\"id\": 3, \"kg\": 1400, \"produccion_potencial\": 190, \"precio\": 12000, \"tiempo_alistamiento\": 1.4},\n",
    "        {\"id\": 4, \"kg\": 2000, \"produccion_potencial\": 220, \"precio\": 15000, \"tiempo_alistamiento\": 2.3},\n",
    "        {\"id\": 5, \"kg\": 1800, \"produccion_potencial\": 180, \"precio\": 14000, \"tiempo_alistamiento\": 2.0},\n",
    "        {\"id\": 6, \"kg\": 1200, \"produccion_potencial\": 160, \"precio\": 17000, \"tiempo_alistamiento\": 1.8},\n",
    "        {\"id\": 7, \"kg\": 1600, \"produccion_potencial\": 180, \"precio\": 18000, \"tiempo_alistamiento\": 2.5},\n",
    "        {\"id\": 8, \"kg\": 1400, \"produccion_potencial\": 200, \"precio\": 19000, \"tiempo_alistamiento\": 2.1},\n",
    "        {\"id\": 9, \"kg\": 1200, \"produccion_potencial\": 160, \"precio\": 11000, \"tiempo_alistamiento\": 1.3},\n",
    "    ],\n",
    "    \"costos_transporte\": [\n",
    "        [0, 6, 8, 7, 9, 8, 10, 11, 12],\n",
    "        [6, 0, 4, 5, 6, 7, 8, 9, 10],\n",
    "        [8, 4, 0, 6, 5, 7, 9, 8, 11],\n",
    "        [7, 5, 6, 0, 7, 8, 9, 10, 12],\n",
    "        [9, 6, 5, 7, 0, 9, 8, 10, 11],\n",
    "        [8, 7, 7, 8, 9, 0, 6, 9, 10],\n",
    "        [10, 8, 9, 9, 8, 6, 0, 7, 8],\n",
    "        [11, 9, 8, 10, 10, 9, 7, 0, 6],\n",
    "        [12, 10, 11, 12, 11, 10, 8, 6, 0]\n",
    "    ],\n",
    "    \"tiempos_transporte\": [\n",
    "        [0, 1.2, 2.2, 1.8, 2.3, 2.0, 2.3, 2.4, 2.6],\n",
    "        [1.2, 0, 1.2, 1.4, 1.6, 1.4, 1.9, 2.0, 2.3],\n",
    "        [2.2, 1.2, 0, 1.5, 1.6, 1.7, 2.2, 1.8, 2.2],\n",
    "        [1.8, 1.4, 1.5, 0, 1.8, 1.6, 2.0, 2.2, 2.4],\n",
    "        [2.3, 1.6, 1.6, 1.8, 0, 1.8, 2.0, 1.9, 2.4],\n",
    "        [2.0, 1.4, 1.7, 1.6, 1.8, 0, 1.9, 2.0, 2.1],\n",
    "        [2.3, 1.9, 2.2, 2.0, 2.0, 1.9, 0, 1.6, 1.9],\n",
    "        [2.4, 2.0, 1.8, 2.2, 1.9, 2.0, 1.6, 0, 1.7],\n",
    "        [2.6, 2.3, 2.2, 2.4, 2.4, 2.1, 1.9, 1.7, 0]\n",
    "    ],\n",
    "        \"costo_tiempo\": 2.5,  \n",
    "        \"tiempo_maximo_definido\": 72\n",
    "    \n",
    "}"
   ]
  },
  {
   "cell_type": "markdown",
   "metadata": {},
   "source": [
    "# CREACIÓN DEL MODELO"
   ]
  },
  {
   "cell_type": "code",
   "execution_count": 189,
   "metadata": {},
   "outputs": [],
   "source": [
    "model = pyo.ConcreteModel()"
   ]
  },
  {
   "cell_type": "markdown",
   "metadata": {},
   "source": [
    "# CONJUNTOS"
   ]
  },
  {
   "cell_type": "code",
   "execution_count": 190,
   "metadata": {},
   "outputs": [],
   "source": [
    "model.I = pyo.RangeSet(0, len(datos['centros_acopio']) - 1)  # Centros de acopio"
   ]
  },
  {
   "cell_type": "markdown",
   "metadata": {},
   "source": [
    "# PARAMETROS"
   ]
  },
  {
   "cell_type": "code",
   "execution_count": 191,
   "metadata": {},
   "outputs": [],
   "source": [
    "model.Demanda = pyo.Param(initialize=datos['demanda'])\n",
    "model.Stock = pyo.Param(model.I, initialize={i: datos['centros_acopio'][i]['kg'] for i in model.I})\n",
    "model.Pproduccion = pyo.Param(model.I, initialize={i: datos['centros_acopio'][i]['produccion_potencial'] for i in model.I})\n",
    "model.Precio = pyo.Param(model.I, initialize={i: datos['centros_acopio'][i]['precio'] for i in model.I})\n",
    "model.cTransp = pyo.Param(model.I, model.I, initialize={(i, j): datos['costos_transporte'][i][j] for i in model.I for j in model.I})\n",
    "model.tTransp = pyo.Param(model.I, model.I, initialize={(i, j): datos['tiempos_transporte'][i][j] for i in model.I for j in model.I})\n",
    "model.tAlistam = pyo.Param(model.I, initialize={i: datos['centros_acopio'][i]['tiempo_alistamiento'] for i in model.I})\n",
    "model.cTiempo = pyo.Param(initialize=datos['costo_tiempo'])\n",
    "model.tMax = pyo.Param(initialize=datos['tiempo_maximo_definido'])"
   ]
  },
  {
   "cell_type": "markdown",
   "metadata": {},
   "source": [
    "# SELECCIÓN DEL CENTRO DE ACOPIO PRINCIPAL"
   ]
  },
  {
   "cell_type": "markdown",
   "metadata": {},
   "source": [
    "Selección automática del centro principal basado en el costo más bajo"
   ]
  },
  {
   "cell_type": "code",
   "execution_count": 192,
   "metadata": {},
   "outputs": [],
   "source": [
    "centro_principal_id = min(model.I, key=lambda i: datos['centros_acopio'][i]['precio'])\n",
    "model.CentroPrincipal = pyo.Param(initialize=centro_principal_id)"
   ]
  },
  {
   "cell_type": "markdown",
   "metadata": {},
   "source": [
    "# VARIABLES"
   ]
  },
  {
   "cell_type": "code",
   "execution_count": 193,
   "metadata": {},
   "outputs": [],
   "source": [
    "model.X = pyo.Var(model.I, within=pyo.NonNegativeReals)  # Cantidad despachada desde cada centro\n",
    "model.Y = pyo.Var(model.I, model.I, within=pyo.NonNegativeReals)  # Cantidad transportada entre centros"
   ]
  },
  {
   "cell_type": "markdown",
   "metadata": {},
   "source": [
    "# FUNCIÓN OBJETIVO"
   ]
  },
  {
   "cell_type": "markdown",
   "metadata": {},
   "source": [
    "\\begin{equation}\n",
    "\\text{Minimizar} \\quad \\sum_{i=1, i \\neq p}^{N} \\left[ K(CAi) \\cdot Precio(CAi) + K(CAi) \\cdot cTransp(CAi) + Tiempo(CAi) \\cdot cTiempo \\right] + \\left[ K(CAp) \\cdot Precio(CAp) + Demanda \\cdot cTransp(CAp) + Tiempo(CAp) \\cdot cTiempo \\right]\n",
    "\\end{equation}"
   ]
  },
  {
   "cell_type": "code",
   "execution_count": 194,
   "metadata": {},
   "outputs": [],
   "source": [
    "model.CostoTotal = pyo.Objective(\n",
    "    rule=lambda model: sum(model.Precio[i] * model.X[i] for i in model.I) + sum(model.cTransp[i, model.CentroPrincipal] * model.Y[i, model.CentroPrincipal] for i in model.I if i != model.CentroPrincipal),\n",
    "    sense=pyo.minimize\n",
    ")"
   ]
  },
  {
   "cell_type": "markdown",
   "metadata": {},
   "source": [
    "# RESTRICCIONES "
   ]
  },
  {
   "cell_type": "markdown",
   "metadata": {},
   "source": [
    "\\begin{equation}\n",
    "\\sum_{i=0}^{N} K(CAi) = Demanda\n",
    "\\end{equation}\n",
    "\n",
    "\\begin{equation}\n",
    "K(CAi) \\leq Stock(CAi) + P_{\\text{potencial}}(CAi) \\quad \\text{para } i=0\\ldots N\n",
    "\\end{equation}\n",
    "\n",
    "\\begin{equation}\n",
    "Tiempo(CAi) = Tiempo_{\\text{Alistam}}(CAi) + Tiempo_{\\text{Transp}}(CAi)\n",
    "\\end{equation}\n",
    "\n",
    "\\begin{equation}\n",
    "Tiempo_{\\text{Alistam}}(CAi) \\leq Tiempo_{\\text{MaxDefinido}} \\quad \\text{para } i=0\\ldots N\n",
    "\\end{equation}"
   ]
  },
  {
   "cell_type": "code",
   "execution_count": 195,
   "metadata": {},
   "outputs": [],
   "source": [
    "model.DemandaSatisfecha = pyo.Constraint(expr=sum(model.X[i] for i in model.I) == model.Demanda)\n",
    "\n",
    "model.StockDisponible = pyo.Constraint(model.I, rule=lambda model, i: model.X[i] <= model.Stock[i])\n",
    "\n",
    "model.ProduccionPotencial = pyo.Constraint(model.I, rule=lambda model, i: model.X[i] <= model.Pproduccion[i])\n",
    "\n",
    "model.TiempoMax = pyo.Constraint(model.I, rule=lambda model, i: model.tAlistam[i] + sum(model.tTransp[i, j] * model.Y[i, j] for j in model.I) <= model.tMax)\n",
    "\n",
    "model.BalanceTransport = pyo.Constraint(model.I, rule=lambda model, i: sum(model.Y[j, i] for j in model.I) == model.X[i] if i != model.CentroPrincipal else pyo.Constraint.Skip)\n",
    "\n",
    "model.CentroPrincipalManejo = pyo.Constraint(expr=sum(model.Y[i, model.CentroPrincipal] for i in model.I) == model.X[model.CentroPrincipal])"
   ]
  },
  {
   "cell_type": "markdown",
   "metadata": {},
   "source": [
    "# RESOLVER MODELO"
   ]
  },
  {
   "cell_type": "code",
   "execution_count": 196,
   "metadata": {},
   "outputs": [
    {
     "name": "stdout",
     "output_type": "stream",
     "text": [
      "GLPSOL--GLPK LP/MIP Solver 5.0\n",
      "Parameter(s) specified in the command line:\n",
      " --write /tmp/tmpdjh5bcfq.glpk.raw --wglp /tmp/tmpixxstyay.glpk.glp --cpxlp\n",
      " /tmp/tmpqad1yb0q.pyomo.lp\n",
      "Reading problem data from '/tmp/tmpqad1yb0q.pyomo.lp'...\n",
      "37 rows, 90 columns, 189 non-zeros\n",
      "416 lines were read\n",
      "Writing problem data to '/tmp/tmpixxstyay.glpk.glp'...\n",
      "364 lines were written\n",
      "GLPK Simplex Optimizer 5.0\n",
      "37 rows, 90 columns, 189 non-zeros\n",
      "Preprocessing...\n",
      "19 rows, 81 columns, 162 non-zeros\n",
      "Scaling...\n",
      " A: min|aij| =  1.000e+00  max|aij| =  2.600e+00  ratio =  2.600e+00\n",
      "Problem data seem to be well scaled\n",
      "Constructing initial basis...\n",
      "Size of triangular part is 19\n",
      "      0: obj =   6.600000000e+06 inf =   4.400e+02 (1)\n",
      "      2: obj =   8.380000000e+06 inf =   0.000e+00 (0)\n",
      "*     5: obj =   7.340000000e+06 inf =   0.000e+00 (0)\n",
      "OPTIMAL LP SOLUTION FOUND\n",
      "Time used:   0.0 secs\n",
      "Memory used: 0.1 Mb (97717 bytes)\n",
      "Writing basic solution to '/tmp/tmpdjh5bcfq.glpk.raw'...\n",
      "136 lines were written\n"
     ]
    }
   ],
   "source": [
    "solver = pyo.SolverFactory('glpk')\n",
    "results = solver.solve(model, tee=True)"
   ]
  },
  {
   "cell_type": "markdown",
   "metadata": {},
   "source": [
    "# REPRESENTACIÓN DE DATOS"
   ]
  },
  {
   "cell_type": "code",
   "execution_count": 197,
   "metadata": {},
   "outputs": [
    {
     "name": "stdout",
     "output_type": "stream",
     "text": [
      "\n",
      "Representación de stocks:\n"
     ]
    },
    {
     "data": {
      "image/png": "[encoded data removed]",
      "text/plain": [
       "<Figure size 1200x700 with 1 Axes>"
      ]
     },
     "metadata": {},
     "output_type": "display_data"
    }
   ],
   "source": [
    "print(\"\\nRepresentación de stocks:\")\n",
    "\n",
    "df_centros = pd.DataFrame(datos['centros_acopio'])\n",
    "plt.figure(figsize=(12, 7))\n",
    "sns.barplot(x='id', y='kg', data=df_centros, palette='viridis', edgecolor='black')\n",
    "plt.title('Kilogramos en cada Centro de Acopio', fontsize=16, weight='bold')\n",
    "plt.xlabel('ID del Centro', fontsize=14)\n",
    "plt.ylabel('Kilogramos', fontsize=14)\n",
    "plt.xticks(rotation=45)\n",
    "plt.grid(True, linestyle='--', alpha=0.7)\n",
    "plt.show()"
   ]
  },
  {
   "cell_type": "code",
   "execution_count": 198,
   "metadata": {},
   "outputs": [
    {
     "name": "stdout",
     "output_type": "stream",
     "text": [
      "Centros de Acopio:\n",
      "+------+------+------------------------+----------+-----------------------+\n",
      "|   ID |   KG |   Producción Potencial |   Precio |   Tiempo Alistamiento |\n",
      "+======+======+========================+==========+=======================+\n",
      "|    1 | 2500 |                    300 |    16000 |                   2.2 |\n",
      "+------+------+------------------------+----------+-----------------------+\n",
      "|    2 | 1800 |                    200 |    13000 |                   1.6 |\n",
      "+------+------+------------------------+----------+-----------------------+\n",
      "|    3 | 1400 |                    190 |    12000 |                   1.4 |\n",
      "+------+------+------------------------+----------+-----------------------+\n",
      "|    4 | 2000 |                    220 |    15000 |                   2.3 |\n",
      "+------+------+------------------------+----------+-----------------------+\n",
      "|    5 | 1800 |                    180 |    14000 |                   2   |\n",
      "+------+------+------------------------+----------+-----------------------+\n",
      "|    6 | 1200 |                    160 |    17000 |                   1.8 |\n",
      "+------+------+------------------------+----------+-----------------------+\n",
      "|    7 | 1600 |                    180 |    18000 |                   2.5 |\n",
      "+------+------+------------------------+----------+-----------------------+\n",
      "|    8 | 1400 |                    200 |    19000 |                   2.1 |\n",
      "+------+------+------------------------+----------+-----------------------+\n",
      "|    9 | 1200 |                    160 |    11000 |                   1.3 |\n",
      "+------+------+------------------------+----------+-----------------------+\n",
      "\n",
      "Matriz 'Costos de Transporte':\n",
      "+----+----+----+----+----+----+----+----+----+\n",
      "|  0 |  6 |  8 |  7 |  9 |  8 | 10 | 11 | 12 |\n",
      "+----+----+----+----+----+----+----+----+----+\n",
      "|  6 |  0 |  4 |  5 |  6 |  7 |  8 |  9 | 10 |\n",
      "+----+----+----+----+----+----+----+----+----+\n",
      "|  8 |  4 |  0 |  6 |  5 |  7 |  9 |  8 | 11 |\n",
      "+----+----+----+----+----+----+----+----+----+\n",
      "|  7 |  5 |  6 |  0 |  7 |  8 |  9 | 10 | 12 |\n",
      "+----+----+----+----+----+----+----+----+----+\n",
      "|  9 |  6 |  5 |  7 |  0 |  9 |  8 | 10 | 11 |\n",
      "+----+----+----+----+----+----+----+----+----+\n",
      "|  8 |  7 |  7 |  8 |  9 |  0 |  6 |  9 | 10 |\n",
      "+----+----+----+----+----+----+----+----+----+\n",
      "| 10 |  8 |  9 |  9 |  8 |  6 |  0 |  7 |  8 |\n",
      "+----+----+----+----+----+----+----+----+----+\n",
      "| 11 |  9 |  8 | 10 | 10 |  9 |  7 |  0 |  6 |\n",
      "+----+----+----+----+----+----+----+----+----+\n",
      "| 12 | 10 | 11 | 12 | 11 | 10 |  8 |  6 |  0 |\n",
      "+----+----+----+----+----+----+----+----+----+\n",
      "\n",
      "Tabla 'Costos de Transporte':\n",
      "+----------+----------+----------+----------+----------+----------+----------+----------+----------+----------+\n",
      "|          | Centro 0 | Centro 1 | Centro 2 | Centro 3 | Centro 4 | Centro 5 | Centro 6 | Centro 7 | Centro 8 |\n",
      "+----------+----------+----------+----------+----------+----------+----------+----------+----------+----------+\n",
      "| Centro 1 |    0     |    6     |    8     |    7     |    9     |    8     |    10    |    11    |    12    |\n",
      "| Centro 2 |    6     |    0     |    4     |    5     |    6     |    7     |    8     |    9     |    10    |\n",
      "| Centro 3 |    8     |    4     |    0     |    6     |    5     |    7     |    9     |    8     |    11    |\n",
      "| Centro 4 |    7     |    5     |    6     |    0     |    7     |    8     |    9     |    10    |    12    |\n",
      "| Centro 5 |    9     |    6     |    5     |    7     |    0     |    9     |    8     |    10    |    11    |\n",
      "| Centro 6 |    8     |    7     |    7     |    8     |    9     |    0     |    6     |    9     |    10    |\n",
      "| Centro 7 |    10    |    8     |    9     |    9     |    8     |    6     |    0     |    7     |    8     |\n",
      "| Centro 8 |    11    |    9     |    8     |    10    |    10    |    9     |    7     |    0     |    6     |\n",
      "| Centro 9 |    12    |    10    |    11    |    12    |    11    |    10    |    8     |    6     |    0     |\n",
      "+----------+----------+----------+----------+----------+----------+----------+----------+----------+----------+\n",
      "\n",
      "Matriz 'Tiempos de Transporte':\n",
      "+-----+-----+-----+-----+-----+-----+-----+-----+-----+\n",
      "| 0   | 1.2 | 2.2 | 1.8 | 2.3 | 2   | 2.3 | 2.4 | 2.6 |\n",
      "+-----+-----+-----+-----+-----+-----+-----+-----+-----+\n",
      "| 1.2 | 0   | 1.2 | 1.4 | 1.6 | 1.4 | 1.9 | 2   | 2.3 |\n",
      "+-----+-----+-----+-----+-----+-----+-----+-----+-----+\n",
      "| 2.2 | 1.2 | 0   | 1.5 | 1.6 | 1.7 | 2.2 | 1.8 | 2.2 |\n",
      "+-----+-----+-----+-----+-----+-----+-----+-----+-----+\n",
      "| 1.8 | 1.4 | 1.5 | 0   | 1.8 | 1.6 | 2   | 2.2 | 2.4 |\n",
      "+-----+-----+-----+-----+-----+-----+-----+-----+-----+\n",
      "| 2.3 | 1.6 | 1.6 | 1.8 | 0   | 1.8 | 2   | 1.9 | 2.4 |\n",
      "+-----+-----+-----+-----+-----+-----+-----+-----+-----+\n",
      "| 2   | 1.4 | 1.7 | 1.6 | 1.8 | 0   | 1.9 | 2   | 2.1 |\n",
      "+-----+-----+-----+-----+-----+-----+-----+-----+-----+\n",
      "| 2.3 | 1.9 | 2.2 | 2   | 2   | 1.9 | 0   | 1.6 | 1.9 |\n",
      "+-----+-----+-----+-----+-----+-----+-----+-----+-----+\n",
      "| 2.4 | 2   | 1.8 | 2.2 | 1.9 | 2   | 1.6 | 0   | 1.7 |\n",
      "+-----+-----+-----+-----+-----+-----+-----+-----+-----+\n",
      "| 2.6 | 2.3 | 2.2 | 2.4 | 2.4 | 2.1 | 1.9 | 1.7 | 0   |\n",
      "+-----+-----+-----+-----+-----+-----+-----+-----+-----+\n",
      "\n",
      "Tabla 'Tiempos de Transporte':\n",
      "+----------+----------+----------+----------+----------+----------+----------+----------+----------+----------+\n",
      "|          | Centro 0 | Centro 1 | Centro 2 | Centro 3 | Centro 4 | Centro 5 | Centro 6 | Centro 7 | Centro 8 |\n",
      "+----------+----------+----------+----------+----------+----------+----------+----------+----------+----------+\n",
      "| Centro 1 |    0     |   1.2    |   2.2    |   1.8    |   2.3    |   2.0    |   2.3    |   2.4    |   2.6    |\n",
      "| Centro 2 |   1.2    |    0     |   1.2    |   1.4    |   1.6    |   1.4    |   1.9    |   2.0    |   2.3    |\n",
      "| Centro 3 |   2.2    |   1.2    |    0     |   1.5    |   1.6    |   1.7    |   2.2    |   1.8    |   2.2    |\n",
      "| Centro 4 |   1.8    |   1.4    |   1.5    |    0     |   1.8    |   1.6    |   2.0    |   2.2    |   2.4    |\n",
      "| Centro 5 |   2.3    |   1.6    |   1.6    |   1.8    |    0     |   1.8    |   2.0    |   1.9    |   2.4    |\n",
      "| Centro 6 |   2.0    |   1.4    |   1.7    |   1.6    |   1.8    |    0     |   1.9    |   2.0    |   2.1    |\n",
      "| Centro 7 |   2.3    |   1.9    |   2.2    |   2.0    |   2.0    |   1.9    |    0     |   1.6    |   1.9    |\n",
      "| Centro 8 |   2.4    |   2.0    |   1.8    |   2.2    |   1.9    |   2.0    |   1.6    |    0     |   1.7    |\n",
      "| Centro 9 |   2.6    |   2.3    |   2.2    |   2.4    |   2.4    |   2.1    |   1.9    |   1.7    |    0     |\n",
      "+----------+----------+----------+----------+----------+----------+----------+----------+----------+----------+\n",
      "\n",
      "Costo Tiempo: 2.5\n",
      "\n",
      "Tiempo Máximo Definido: 72\n"
     ]
    }
   ],
   "source": [
    "# Crear tabla para los centros de acopio\n",
    "centros_acopio = datos[\"centros_acopio\"]\n",
    "headers = [\"ID\", \"KG\", \"Producción Potencial\", \"Precio\", \"Tiempo Alistamiento\"]\n",
    "table = [[c[\"id\"], c[\"kg\"], c[\"produccion_potencial\"], c[\"precio\"], c[\"tiempo_alistamiento\"]] for c in centros_acopio]\n",
    "print(\"Centros de Acopio:\")\n",
    "print(tabulate(table, headers=headers, tablefmt='grid'))\n",
    "print()\n",
    "\n",
    "\n",
    "# Mostrar costos de transporte en matriz\n",
    "print(\"Matriz 'Costos de Transporte':\")\n",
    "print(tabulate(datos[\"costos_transporte\"], tablefmt='grid'))\n",
    "print()\n",
    "# Crear tabla para la matriz de costos de transporte\n",
    "table = PrettyTable()\n",
    "table.field_names = [\"\"] + [f\"Centro {i}\" for i in range(len(datos[\"costos_transporte\"]))]\n",
    "for i, row in enumerate(datos[\"costos_transporte\"]):\n",
    "    table.add_row([f\"Centro {i+1}\"] + row)\n",
    "\n",
    "print(\"Tabla 'Costos de Transporte':\")\n",
    "print(table)\n",
    "print()\n",
    "\n",
    "# Mostrar tiempos de transporte\n",
    "print(\"Matriz 'Tiempos de Transporte':\")\n",
    "print(tabulate(datos[\"tiempos_transporte\"], tablefmt='grid'))\n",
    "print()\n",
    "\n",
    "# Crear tabla para la matriz de tiempos de transporte\n",
    "table = PrettyTable()\n",
    "table.field_names = [\"\"] + [f\"Centro {i}\" for i in range(len(datos[\"tiempos_transporte\"]))]\n",
    "for i, row in enumerate(datos[\"tiempos_transporte\"]):\n",
    "    table.add_row([f\"Centro {i+1}\"] + row)\n",
    "\n",
    "print(\"Tabla 'Tiempos de Transporte':\")\n",
    "print(table)\n",
    "print()\n",
    "\n",
    "# Mostrar costos y tiempos adicionales\n",
    "print(f\"Costo Tiempo: {datos['costo_tiempo']}\\n\")\n",
    "print(f\"Tiempo Máximo Definido: {datos['tiempo_maximo_definido']}\")\n"
   ]
  },
  {
   "cell_type": "markdown",
   "metadata": {},
   "source": [
    "# RESULTADOS"
   ]
  },
  {
   "cell_type": "markdown",
   "metadata": {},
   "source": [
    "# Solución óptima"
   ]
  },
  {
   "cell_type": "markdown",
   "metadata": {},
   "source": [
    "**Centros elegidos y cantidad asignada:**"
   ]
  },
  {
   "cell_type": "code",
   "execution_count": 199,
   "metadata": {},
   "outputs": [
    {
     "name": "stdout",
     "output_type": "stream",
     "text": [
      "Centro 0: = 0.00\n",
      "Centro 1: = 200.00\n",
      "Centro 2: = 190.00\n",
      "Centro 3: = 0.00\n",
      "Centro 4: = 50.00\n",
      "Centro 5: = 0.00\n",
      "Centro 6: = 0.00\n",
      "Centro 7: = 0.00\n",
      "Centro 8: = 160.00\n"
     ]
    }
   ],
   "source": [
    "for i in model.I:\n",
    "    try:\n",
    "        print(f\"Centro {i}: = {pyo.value(model.X[i]):.2f}\")\n",
    "    except ValueError:\n",
    "        print(f\"Centro {i}: Cantidad despachada no disponible\")"
   ]
  },
  {
   "cell_type": "markdown",
   "metadata": {},
   "source": [
    "**Centros involucrados**"
   ]
  },
  {
   "cell_type": "code",
   "execution_count": 200,
   "metadata": {},
   "outputs": [
    {
     "name": "stdout",
     "output_type": "stream",
     "text": [
      "Centro 8: Cantidad por despachar\n",
      "Centro 1: Cantidad por despachar\n",
      "Centro 2: Cantidad por despachar\n",
      "Centro 4: Cantidad por despachar\n"
     ]
    }
   ],
   "source": [
    "centros_despachados = set()\n",
    "\n",
    "for i in model.I:\n",
    "    for j in model.I:\n",
    "        try:\n",
    "            value_Y = pyo.value(model.Y[i, j])\n",
    "            if value_Y > 0:\n",
    "                centros_despachados.add(i)\n",
    "                centros_despachados.add(j)\n",
    "        except KeyError:\n",
    "            print(f\"Índice {i}, {j} no es válido para el componente model.Y.\")\n",
    "        except ValueError:\n",
    "            print(f\"Cantidad transportada de Centro {i} a Centro {j} no disponible\")\n",
    "\n",
    "for centro in centros_despachados:\n",
    "    print(f\"Centro {centro}: Cantidad por despachar\")\n"
   ]
  },
  {
   "cell_type": "markdown",
   "metadata": {},
   "source": [
    "**Centro principal para la demanda del cliente**"
   ]
  },
  {
   "cell_type": "code",
   "execution_count": 201,
   "metadata": {},
   "outputs": [
    {
     "name": "stdout",
     "output_type": "stream",
     "text": [
      "\n",
      "Centro principal seleccionado: 8\n"
     ]
    }
   ],
   "source": [
    "print(f\"\\nCentro principal seleccionado: {model.CentroPrincipal.value}\")"
   ]
  },
  {
   "cell_type": "markdown",
   "metadata": {},
   "source": [
    "**Resumen de operación al centro principal**"
   ]
  },
  {
   "cell_type": "code",
   "execution_count": 202,
   "metadata": {},
   "outputs": [
    {
     "name": "stdout",
     "output_type": "stream",
     "text": [
      "\n",
      "Centro 0: Despachado = 0.00. \n",
      "Cantidad para transportar al centro principal 8 = 0.00. \n",
      "Costo transporte = $0.00\n",
      "\n",
      "Centro 1: Despachado = 200.00. \n",
      "Cantidad para transportar al centro principal 8 = 200.00. \n",
      "Costo transporte = $2000.00\n",
      "\n",
      "Centro 2: Despachado = 190.00. \n",
      "Cantidad para transportar al centro principal 8 = 190.00. \n",
      "Costo transporte = $2090.00\n",
      "\n",
      "Centro 3: Despachado = 0.00. \n",
      "Cantidad para transportar al centro principal 8 = 0.00. \n",
      "Costo transporte = $0.00\n",
      "\n",
      "Centro 4: Despachado = 50.00. \n",
      "Cantidad para transportar al centro principal 8 = 50.00. \n",
      "Costo transporte = $550.00\n",
      "\n",
      "Centro 5: Despachado = 0.00. \n",
      "Cantidad para transportar al centro principal 8 = 0.00. \n",
      "Costo transporte = $0.00\n",
      "\n",
      "Centro 6: Despachado = 0.00. \n",
      "Cantidad para transportar al centro principal 8 = 0.00. \n",
      "Costo transporte = $0.00\n",
      "\n",
      "Centro 7: Despachado = 0.00. \n",
      "Cantidad para transportar al centro principal 8 = 0.00. \n",
      "Costo transporte = $0.00\n"
     ]
    }
   ],
   "source": [
    "total_costo_transporte = 0\n",
    "\n",
    "for i in model.I:\n",
    "    if i != model.CentroPrincipal:\n",
    "        try:\n",
    "            cantidad_transportada = sum(model.Y[i, j].value for j in model.I)\n",
    "            costo_transportado = cantidad_transportada * model.cTransp[i, model.CentroPrincipal]\n",
    "            total_costo_transporte += costo_transportado\n",
    "            print(f'\\nCentro {i}: Despachado = {model.X[i].value:.2f}. \\nCantidad para transportar al centro principal {model.CentroPrincipal.value} = {cantidad_transportada:.2f}. \\nCosto transporte = ${costo_transportado:.2f}')\n",
    "        except ValueError:\n",
    "            print(f'Centro {i}: Despachado o cantidad transportada no disponible')\n"
   ]
  },
  {
   "cell_type": "markdown",
   "metadata": {},
   "source": [
    "**Costo total del producto**"
   ]
  },
  {
   "cell_type": "code",
   "execution_count": 203,
   "metadata": {},
   "outputs": [
    {
     "name": "stdout",
     "output_type": "stream",
     "text": [
      "\n",
      "Costo total del modelo de optimización: = $7,340,000.00\n"
     ]
    }
   ],
   "source": [
    "print(f\"\\nCosto total del modelo de optimización: = ${pyo.value(model.CostoTotal):,.2f}\")"
   ]
  },
  {
   "cell_type": "markdown",
   "metadata": {},
   "source": [
    "**Costo total del transporte centros a centro principal**"
   ]
  },
  {
   "cell_type": "code",
   "execution_count": 204,
   "metadata": {},
   "outputs": [
    {
     "name": "stdout",
     "output_type": "stream",
     "text": [
      "\n",
      "\n",
      "Costo total del transporte centros a centro principal: = $4640.00\n"
     ]
    }
   ],
   "source": [
    "print(f\"\\n\\nCosto total del transporte centros a centro principal: = ${total_costo_transporte:.2f}\")"
   ]
  }
 ],
 "metadata": {
  "colab": {
   "provenance": []
  },
  "kernelspec": {
   "display_name": "Python 3 (ipykernel)",
   "language": "python",
   "name": "python3"
  },
  "language_info": {
   "codemirror_mode": {
    "name": "ipython",
    "version": 3
   },
   "file_extension": ".py",
   "mimetype": "text/x-python",
   "name": "python",
   "nbconvert_exporter": "python",
   "pygments_lexer": "ipython3",
   "version": "3.11.9"
  }
 },
 "nbformat": 4,
 "nbformat_minor": 4
}
